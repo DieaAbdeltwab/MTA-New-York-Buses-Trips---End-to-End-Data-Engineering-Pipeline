{
 "cells": [
  {
   "cell_type": "code",
   "execution_count": 1,
   "id": "efe3b61d-2dae-48a8-a686-7bfaf577207e",
   "metadata": {
    "scrolled": true
   },
   "outputs": [
    {
     "name": "stderr",
     "output_type": "stream",
     "text": [
      "Setting default log level to \"WARN\".\n",
      "To adjust logging level use sc.setLogLevel(newLevel). For SparkR, use setLogLevel(newLevel).\n",
      "25/07/30 03:46:10 WARN NativeCodeLoader: Unable to load native-hadoop library for your platform... using builtin-java classes where applicable\n"
     ]
    }
   ],
   "source": [
    "from pyspark.sql import SparkSession\n",
    "from pyspark.sql.functions import col, from_json, explode\n",
    "from pyspark.sql.types import StructType, StringType, MapType, DoubleType\n",
    "\n",
    "spark = SparkSession.builder.appName(\"CryptoFiatJoin\").getOrCreate()\n",
    "\n",
    "# === SCHEMAs ===\n",
    "outer_schema = StructType().add(\"value\", StringType())\n",
    "crypto_schema = MapType(StringType(), MapType(StringType(), DoubleType()))\n",
    "\n",
    "# === Read crypto_prices ===\n",
    "crypto_raw = spark.readStream.format(\"kafka\") \\\n",
    "    .option(\"kafka.bootstrap.servers\", \"broker:29092\") \\\n",
    "    .option(\"subscribe\", \"crypto_prices\") \\\n",
    "    .option(\"startingOffsets\", \"latest\") \\\n",
    "    .load()\n",
    "\n",
    "crypto_json = crypto_raw.selectExpr(\"CAST(value AS STRING) AS json_str\")\n",
    "crypto_struct = crypto_json.select(from_json(col(\"json_str\"), outer_schema).alias(\"outer\"))\n",
    "crypto_map = crypto_struct.select(from_json(col(\"outer.value\"), crypto_schema).alias(\"data\"))\n",
    "crypto_exploded = crypto_map.select(explode(col(\"data\")).alias(\"currency\", \"vs_map\"))\n",
    "crypto_flat = crypto_exploded.selectExpr(\"currency\", \"explode(vs_map) as (vs_currency, price)\")\n",
    "\n",
    "# crypto_flat.writeStream \\\n",
    "#      .format(\"console\") \\\n",
    "#      .option(\"truncate\", False) \\\n",
    "#      .outputMode(\"append\") \\\n",
    "#      .queryName(\"Crypto_Stream\") \\\n",
    "#      .start()\n"
   ]
  },
  {
   "cell_type": "code",
   "execution_count": 2,
   "id": "9a3ac1ff-6992-490f-8796-407420eb4255",
   "metadata": {
    "scrolled": true
   },
   "outputs": [
    {
     "name": "stderr",
     "output_type": "stream",
     "text": [
      "25/07/30 03:46:14 WARN ResolveWriteToStream: Temporary checkpoint location created which is deleted normally when the query didn't fail: /tmp/temporary-918d99e7-032a-4376-bea9-0af292721f3e. If it's required to delete it under any circumstances, please set spark.sql.streaming.forceDeleteTempCheckpointLocation to true. Important to know deleting temp checkpoint folder is best effort.\n",
      "25/07/30 03:46:14 WARN ResolveWriteToStream: spark.sql.adaptive.enabled is not supported in streaming DataFrames/Datasets and will be disabled.\n"
     ]
    },
    {
     "data": {
      "text/plain": [
       "<pyspark.sql.streaming.query.StreamingQuery at 0x790a380feb50>"
      ]
     },
     "execution_count": 2,
     "metadata": {},
     "output_type": "execute_result"
    }
   ],
   "source": [
    "fiat_raw = spark.readStream.format(\"kafka\") \\\n",
    "    .option(\"kafka.bootstrap.servers\", \"broker:29092\") \\\n",
    "    .option(\"subscribe\", \"fiat_exchange_rates\") \\\n",
    "    .option(\"startingOffsets\", \"latest\") \\\n",
    "    .load()\n",
    "\n",
    "fiat_json = fiat_raw.selectExpr(\"CAST(value AS STRING) AS json_str\")\n",
    "fiat_struct = fiat_json.select(from_json(col(\"json_str\"), outer_schema).alias(\"outer\"))\n",
    "\n",
    "# نفس الفكرة: map داخلي من العملات الورقية لبعضها\n",
    "fiat_schema = MapType(StringType(), MapType(StringType(), DoubleType()))\n",
    "fiat_map = fiat_struct.select(from_json(col(\"outer.value\"), fiat_schema).alias(\"data\"))\n",
    "fiat_exploded = fiat_map.select(explode(col(\"data\")).alias(\"from_currency\", \"to_map\"))\n",
    "fiat_flat = fiat_exploded.selectExpr(\"from_currency as vs_currency\", \"explode(to_map) as (to_currency, fx_rate)\")\n",
    "\n",
    "fiat_flat.writeStream \\\n",
    "    .format(\"console\") \\\n",
    "    .option(\"truncate\", False) \\\n",
    "    .outputMode(\"append\") \\\n",
    "    .queryName(\"Fiat_Stream\") \\\n",
    "    .start()\n"
   ]
  },
  {
   "cell_type": "code",
   "execution_count": 3,
   "id": "4ea6509a-ec3e-4296-bee8-a2cbf39af009",
   "metadata": {},
   "outputs": [],
   "source": [
    "# joined_df = crypto_flat.join(\n",
    "#     fiat_flat,\n",
    "#     on=\"vs_currency\",\n",
    "#     how=\"inner\"\n",
    "# ).select(\n",
    "#     \"currency\", \"vs_currency\", \"price\", \"to_currency\", \"fx_rate\",\n",
    "#     (col(\"price\") * col(\"fx_rate\")).alias(\"converted_price\")\n",
    "# )\n"
   ]
  },
  {
   "cell_type": "code",
   "execution_count": 4,
   "id": "dc58356e-8803-4935-a4d3-49d58649511f",
   "metadata": {
    "scrolled": true
   },
   "outputs": [
    {
     "name": "stderr",
     "output_type": "stream",
     "text": [
      "25/07/30 03:46:14 WARN AdminClientConfig: These configurations '[key.deserializer, value.deserializer, enable.auto.commit, max.poll.records, auto.offset.reset]' were supplied but are not used yet.\n",
      "                                                                                "
     ]
    },
    {
     "name": "stdout",
     "output_type": "stream",
     "text": [
      "-------------------------------------------\n",
      "Batch: 0\n",
      "-------------------------------------------\n",
      "+-----------+-----------+-------+\n",
      "|vs_currency|to_currency|fx_rate|\n",
      "+-----------+-----------+-------+\n",
      "+-----------+-----------+-------+\n",
      "\n"
     ]
    },
    {
     "name": "stderr",
     "output_type": "stream",
     "text": [
      "                                                                                "
     ]
    },
    {
     "name": "stdout",
     "output_type": "stream",
     "text": [
      "-------------------------------------------\n",
      "Batch: 1\n",
      "-------------------------------------------\n",
      "+-----------+-----------+--------+\n",
      "|vs_currency|to_currency|fx_rate |\n",
      "+-----------+-----------+--------+\n",
      "|usd        |usd        |0.999923|\n",
      "|usd        |eur        |0.864922|\n",
      "|usd        |sar        |3.75    |\n",
      "|usd        |aed        |3.67    |\n",
      "|usd        |kwd        |0.305322|\n",
      "|usd        |bhd        |0.376954|\n",
      "|usd        |try        |40.57   |\n",
      "|usd        |gbp        |0.74857 |\n",
      "+-----------+-----------+--------+\n",
      "\n"
     ]
    },
    {
     "name": "stderr",
     "output_type": "stream",
     "text": [
      "                                                                                "
     ]
    },
    {
     "name": "stdout",
     "output_type": "stream",
     "text": [
      "-------------------------------------------\n",
      "Batch: 2\n",
      "-------------------------------------------\n",
      "+-----------+-----------+--------+\n",
      "|vs_currency|to_currency|fx_rate |\n",
      "+-----------+-----------+--------+\n",
      "|usd        |usd        |0.999923|\n",
      "|usd        |eur        |0.864922|\n",
      "|usd        |sar        |3.75    |\n",
      "|usd        |aed        |3.67    |\n",
      "|usd        |kwd        |0.305322|\n",
      "|usd        |bhd        |0.376954|\n",
      "|usd        |try        |40.57   |\n",
      "|usd        |gbp        |0.74857 |\n",
      "+-----------+-----------+--------+\n",
      "\n",
      "-------------------------------------------\n",
      "Batch: 3\n",
      "-------------------------------------------\n",
      "+-----------+-----------+--------+\n",
      "|vs_currency|to_currency|fx_rate |\n",
      "+-----------+-----------+--------+\n",
      "|usd        |usd        |0.999839|\n",
      "|usd        |eur        |0.864848|\n",
      "|usd        |sar        |3.75    |\n",
      "|usd        |aed        |3.67    |\n",
      "|usd        |kwd        |0.305296|\n",
      "|usd        |bhd        |0.376922|\n",
      "|usd        |try        |40.57   |\n",
      "|usd        |gbp        |0.748506|\n",
      "+-----------+-----------+--------+\n",
      "\n",
      "-------------------------------------------\n",
      "Batch: 4\n",
      "-------------------------------------------\n",
      "+-----------+-----------+--------+\n",
      "|vs_currency|to_currency|fx_rate |\n",
      "+-----------+-----------+--------+\n",
      "|usd        |usd        |0.999822|\n",
      "|usd        |eur        |0.864834|\n",
      "|usd        |sar        |3.75    |\n",
      "|usd        |aed        |3.67    |\n",
      "|usd        |kwd        |0.305291|\n",
      "|usd        |bhd        |0.376916|\n",
      "|usd        |try        |40.57   |\n",
      "|usd        |gbp        |0.748494|\n",
      "+-----------+-----------+--------+\n",
      "\n"
     ]
    },
    {
     "name": "stderr",
     "output_type": "stream",
     "text": [
      "                                                                                "
     ]
    },
    {
     "name": "stdout",
     "output_type": "stream",
     "text": [
      "-------------------------------------------\n",
      "Batch: 5\n",
      "-------------------------------------------\n",
      "+-----------+-----------+--------+\n",
      "|vs_currency|to_currency|fx_rate |\n",
      "+-----------+-----------+--------+\n",
      "|usd        |usd        |0.999822|\n",
      "|usd        |eur        |0.864775|\n",
      "|usd        |sar        |3.75    |\n",
      "|usd        |aed        |3.67    |\n",
      "|usd        |kwd        |0.305291|\n",
      "|usd        |bhd        |0.376916|\n",
      "|usd        |try        |40.57   |\n",
      "|usd        |gbp        |0.748465|\n",
      "+-----------+-----------+--------+\n",
      "\n"
     ]
    },
    {
     "name": "stderr",
     "output_type": "stream",
     "text": [
      "                                                                                "
     ]
    },
    {
     "name": "stdout",
     "output_type": "stream",
     "text": [
      "-------------------------------------------\n",
      "Batch: 6\n",
      "-------------------------------------------\n",
      "+-----------+-----------+--------+\n",
      "|vs_currency|to_currency|fx_rate |\n",
      "+-----------+-----------+--------+\n",
      "|usd        |usd        |0.999822|\n",
      "|usd        |eur        |0.864775|\n",
      "|usd        |sar        |3.75    |\n",
      "|usd        |aed        |3.67    |\n",
      "|usd        |kwd        |0.305291|\n",
      "|usd        |bhd        |0.376916|\n",
      "|usd        |try        |40.57   |\n",
      "|usd        |gbp        |0.748465|\n",
      "+-----------+-----------+--------+\n",
      "\n"
     ]
    }
   ],
   "source": [
    "# joined_df.writeStream \\\n",
    "#     .format(\"console\") \\\n",
    "#     .option(\"truncate\", False) \\\n",
    "#     .outputMode(\"append\") \\\n",
    "#     .start() \n"
   ]
  },
  {
   "cell_type": "code",
   "execution_count": null,
   "id": "86783eef-bfdd-4eee-9ce1-c4e4423dc868",
   "metadata": {},
   "outputs": [],
   "source": []
  },
  {
   "cell_type": "code",
   "execution_count": null,
   "id": "a193ffc9-0a84-4b30-b3f7-04824c634e5a",
   "metadata": {
    "scrolled": true
   },
   "outputs": [],
   "source": []
  },
  {
   "cell_type": "code",
   "execution_count": null,
   "id": "c6a5e0da-9154-4151-a2b1-9daf0f6a744e",
   "metadata": {
    "scrolled": true
   },
   "outputs": [],
   "source": []
  },
  {
   "cell_type": "code",
   "execution_count": null,
   "id": "1d48edbd-395d-4e84-8536-a85a80146a58",
   "metadata": {
    "scrolled": true
   },
   "outputs": [],
   "source": []
  },
  {
   "cell_type": "code",
   "execution_count": null,
   "id": "3607174d-b862-4d2f-a9d4-15baadda9dba",
   "metadata": {
    "scrolled": true
   },
   "outputs": [],
   "source": []
  },
  {
   "cell_type": "code",
   "execution_count": null,
   "id": "dd18613c-e01c-409a-a718-807148f12657",
   "metadata": {},
   "outputs": [],
   "source": []
  }
 ],
 "metadata": {
  "kernelspec": {
   "display_name": "Python 3 (ipykernel)",
   "language": "python",
   "name": "python3"
  },
  "language_info": {
   "codemirror_mode": {
    "name": "ipython",
    "version": 3
   },
   "file_extension": ".py",
   "mimetype": "text/x-python",
   "name": "python",
   "nbconvert_exporter": "python",
   "pygments_lexer": "ipython3",
   "version": "3.11.8"
  }
 },
 "nbformat": 4,
 "nbformat_minor": 5
}

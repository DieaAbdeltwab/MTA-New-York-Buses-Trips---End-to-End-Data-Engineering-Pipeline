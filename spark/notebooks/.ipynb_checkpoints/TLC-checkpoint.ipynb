{
 "cells": [
  {
   "cell_type": "code",
   "execution_count": 1,
   "id": "12359d38-db9d-455b-90e3-9a7c0645543d",
   "metadata": {},
   "outputs": [],
   "source": [
    "from pyspark.sql import SparkSession \n",
    "from pyspark.sql.functions import *\n",
    "from pyspark.sql.types import *\n",
    "from pyspark import StorageLevel"
   ]
  },
  {
   "cell_type": "code",
   "execution_count": 2,
   "id": "a5152b8c-5bb7-4a0f-8339-e77e81d4d4b7",
   "metadata": {},
   "outputs": [
    {
     "name": "stderr",
     "output_type": "stream",
     "text": [
      "Setting default log level to \"WARN\".\n",
      "To adjust logging level use sc.setLogLevel(newLevel). For SparkR, use setLogLevel(newLevel).\n",
      "25/07/22 08:05:27 WARN NativeCodeLoader: Unable to load native-hadoop library for your platform... using builtin-java classes where applicable\n"
     ]
    }
   ],
   "source": [
    "spark = SparkSession.builder \\\n",
    "    .appName(\"NYC TLC Merge\") \\\n",
    "    .config(\"spark.sql.extensions\", \"io.delta.sql.DeltaSparkSessionExtension\") \\\n",
    "    .config(\"spark.sql.catalog.spark_catalog\", \"org.apache.spark.sql.delta.catalog.DeltaCatalog\") \\\n",
    "    .config(\"spark.hadoop.fs.s3a.endpoint\", \"http://minio:9000\") \\\n",
    "    .config(\"spark.hadoop.fs.s3a.access.key\", \"minio\") \\\n",
    "    .config(\"spark.hadoop.fs.s3a.secret.key\", \"minio123\") \\\n",
    "    .config(\"spark.hadoop.fs.s3a.path.style.access\", \"true\") \\\n",
    "    .config(\"spark.hadoop.fs.s3a.impl\", \"org.apache.hadoop.fs.s3a.S3AFileSystem\") \\\n",
    "    .config(\"spark.driver.memory\", \"4g\") \\\n",
    "    .config(\"spark.executor.memory\", \"4g\") \\\n",
    "    .config(\"spark.executor.memoryOverhead\", \"2g\") \\\n",
    "    .config(\"spark.driver.memoryOverhead\", \"2g\") \\\n",
    "    .getOrCreate()"
   ]
  },
  {
   "cell_type": "code",
   "execution_count": null,
   "id": "cff92aee-3020-4376-a62c-c5235c9958c8",
   "metadata": {},
   "outputs": [],
   "source": []
  },
  {
   "cell_type": "code",
   "execution_count": 3,
   "id": "ca508ea8-9ed8-494a-b12b-ed904c805eda",
   "metadata": {},
   "outputs": [
    {
     "name": "stderr",
     "output_type": "stream",
     "text": [
      "25/07/22 08:05:30 WARN MetricsConfig: Cannot locate configuration: tried hadoop-metrics2-s3a-file-system.properties,hadoop-metrics2.properties\n",
      "                                                                                "
     ]
    }
   ],
   "source": [
    "df_yellow = spark.read.parquet(\"s3a://tlc/yellow_tripdata_2024-*.parquet\")\n"
   ]
  },
  {
   "cell_type": "code",
   "execution_count": 4,
   "id": "ff9a3424-070f-4038-852f-b45cebf02903",
   "metadata": {},
   "outputs": [],
   "source": [
    "df_green = spark.read.parquet(\"s3a://tlc/green_tripdata_2024-*.parquet\")"
   ]
  },
  {
   "cell_type": "code",
   "execution_count": 5,
   "id": "8c15d8d2-1d87-4b48-aeba-736d2cbed588",
   "metadata": {},
   "outputs": [],
   "source": [
    "df_yellow = df_yellow \\\n",
    "    .withColumnRenamed(\"tpep_pickup_datetime\", \"pickup_datetime\") \\\n",
    "    .withColumnRenamed(\"tpep_dropoff_datetime\", \"dropoff_datetime\") \\\n",
    "    .withColumn(\"taxi_type\", lit(\"yellow\"))\n",
    "\n",
    "df_green = df_green \\\n",
    "    .withColumnRenamed(\"lpep_pickup_datetime\", \"pickup_datetime\") \\\n",
    "    .withColumnRenamed(\"lpep_dropoff_datetime\", \"dropoff_datetime\") \\\n",
    "    .withColumn(\"taxi_type\", lit(\"green\"))\n",
    "\n",
    "common_cols = list(set(df_yellow.columns).intersection(set(df_green.columns)))\n",
    "df_yellow = df_yellow.select(common_cols)\n",
    "df_green = df_green.select(common_cols)\n",
    "\n",
    "df = df_yellow.unionByName(df_green)\n",
    "#=====================================================================\n",
    "##====================================================================="
   ]
  },
  {
   "cell_type": "code",
   "execution_count": 6,
   "id": "a94ca0db-10ae-4234-8451-555927a37429",
   "metadata": {},
   "outputs": [
    {
     "name": "stdout",
     "output_type": "stream",
     "text": [
      "root\n",
      " |-- RatecodeID: long (nullable = true)\n",
      " |-- extra: double (nullable = true)\n",
      " |-- passenger_count: long (nullable = true)\n",
      " |-- dropoff_datetime: timestamp_ntz (nullable = true)\n",
      " |-- tolls_amount: double (nullable = true)\n",
      " |-- pickup_datetime: timestamp_ntz (nullable = true)\n",
      " |-- congestion_surcharge: double (nullable = true)\n",
      " |-- DOLocationID: integer (nullable = true)\n",
      " |-- PULocationID: integer (nullable = true)\n",
      " |-- trip_distance: double (nullable = true)\n",
      " |-- total_amount: double (nullable = true)\n",
      " |-- improvement_surcharge: double (nullable = true)\n",
      " |-- mta_tax: double (nullable = true)\n",
      " |-- store_and_fwd_flag: string (nullable = true)\n",
      " |-- tip_amount: double (nullable = true)\n",
      " |-- VendorID: integer (nullable = true)\n",
      " |-- payment_type: long (nullable = true)\n",
      " |-- taxi_type: string (nullable = false)\n",
      " |-- fare_amount: double (nullable = true)\n",
      "\n"
     ]
    }
   ],
   "source": [
    "df.printSchema()"
   ]
  },
  {
   "cell_type": "code",
   "execution_count": 7,
   "id": "71c70fa9-9019-4aeb-a559-7672769b5627",
   "metadata": {},
   "outputs": [],
   "source": [
    "df = df.drop('store_and_fwd_flag')"
   ]
  },
  {
   "cell_type": "code",
   "execution_count": 8,
   "id": "fcfe0973-5d3b-4505-bda5-1939db2fed02",
   "metadata": {},
   "outputs": [],
   "source": [
    "#df.count()"
   ]
  },
  {
   "cell_type": "code",
   "execution_count": 9,
   "id": "e10f1f87-27fb-45de-92c0-526d84bf800d",
   "metadata": {},
   "outputs": [],
   "source": [
    "#for i in df.columns :\n",
    "#    print(f\"=================================== {i} ============================== \")\n",
    "#    df.select(\n",
    "#        sum(when(col(i).isNull(), 1).otherwise(0)).alias(\"null_count\")\n",
    "#    ).show()"
   ]
  },
  {
   "cell_type": "code",
   "execution_count": 10,
   "id": "ef420b8a-38b2-43e7-962a-32b85254f112",
   "metadata": {},
   "outputs": [],
   "source": [
    "#for i in df.columns:\n",
    "#    print(f\"================================= {i} ============================================\")\n",
    "#    df.groupBy(i).agg(count(\"*\").alias(\"value_count\")).orderBy(\"value_count\", ascending=False).show()\n"
   ]
  },
  {
   "cell_type": "code",
   "execution_count": 11,
   "id": "a8b9fbbf-7fa2-40b5-ab4e-a6cc97dd1f24",
   "metadata": {},
   "outputs": [],
   "source": [
    "#before_cleaning=df.count()\n"
   ]
  },
  {
   "cell_type": "code",
   "execution_count": 12,
   "id": "36bba9ec-8242-4f03-b478-8ad16c614395",
   "metadata": {},
   "outputs": [],
   "source": [
    "#============================================== drop Nulls =========================================================\n",
    "df = df.dropna(subset=[\n",
    "    \"congestion_surcharge\",\n",
    "    \"payment_type\",\n",
    "    \"RatecodeID\",\n",
    "    \"passenger_count\",\n",
    "   \n",
    "    \n",
    "])"
   ]
  },
  {
   "cell_type": "code",
   "execution_count": 13,
   "id": "7788504d-9fd7-4260-8114-e39b29616c68",
   "metadata": {},
   "outputs": [],
   "source": [
    "#============================================== dropDuplicates =========================================================\n",
    "\n",
    "df = df.dropDuplicates([\n",
    "    \"pickup_datetime\", \n",
    "    \"dropoff_datetime\", \n",
    "    \"passenger_count\", \n",
    "    \"trip_distance\", \n",
    "    \"PULocationID\", \n",
    "    \"DOLocationID\"\n",
    "])"
   ]
  },
  {
   "cell_type": "code",
   "execution_count": 14,
   "id": "09fa12b5-e44e-4834-89c2-897578dc442a",
   "metadata": {},
   "outputs": [],
   "source": [
    "\n",
    "df = df.withColumn(\"trip_duration\", (unix_timestamp(\"dropoff_datetime\") - unix_timestamp(\"pickup_datetime\")))\n",
    "df = df.withColumn(\"trip_speed_mph\", round(col(\"trip_distance\") / (col(\"trip_duration\") / 3600), 2))"
   ]
  },
  {
   "cell_type": "code",
   "execution_count": 15,
   "id": "7767e0fe-7b70-472b-bd7b-26bbfe871b62",
   "metadata": {},
   "outputs": [],
   "source": [
    "#============================================== filter =========================================================\n",
    "\n",
    "df = df.filter(\n",
    "    (col(\"passenger_count\") > 0) &\n",
    "    (col(\"passenger_count\") <= 6) &\n",
    "    (col(\"trip_distance\") > 0) &\n",
    "    (col(\"trip_distance\") < 150) &\n",
    "    (col(\"fare_amount\") >= 0) &\n",
    "    (col(\"total_amount\") >= 0) &\n",
    "    (col(\"tip_amount\") >= 0) &\n",
    "    (col(\"extra\") >= 0) &\n",
    "    (col(\"mta_tax\") >= 0) &\n",
    "    (col(\"improvement_surcharge\") >= 0) &\n",
    "    (col(\"congestion_surcharge\") >= 0) &\n",
    "    (col(\"tolls_amount\") >= 0) &\n",
    "    (col(\"RatecodeID\").isin([1, 2, 3, 4, 5, 6])) &  \n",
    "    (col(\"payment_type\").isin([1, 2, 3, 4, 5, 6])) &\n",
    "    (col(\"trip_duration\") >= 60) & \n",
    "    (col(\"trip_duration\") <= 10800) &\n",
    "    (col(\"trip_speed_mph\") >= 1) &\n",
    "    (col(\"trip_speed_mph\") <= 80) &\n",
    "    (col(\"PULocationID\").between(1, 263)) &\n",
    "    (col(\"DOLocationID\").between(1, 263))\n",
    ")\n"
   ]
  },
  {
   "cell_type": "code",
   "execution_count": 16,
   "id": "aaf059a5-1b8d-42b4-93be-5798ca8e97df",
   "metadata": {},
   "outputs": [],
   "source": [
    "#============================================== Encoding =========================================================\n",
    "# VendorID => vendor_name\n",
    "df = df.withColumn(\"vendor_name\", when(col(\"VendorID\") == 1, \"Creative Mobile Technologies\")\n",
    "                             .when(col(\"VendorID\") == 2, \"Curb Mobility\")\n",
    "                             .when(col(\"VendorID\") == 6, \"Myle Technologies\")\n",
    "                             .when(col(\"VendorID\") == 7, \"Helix\")\n",
    "                             .otherwise(\"Unknown\"))\n",
    "\n",
    "# RatecodeID => rate_code_desc\n",
    "df = df.withColumn(\"rate_code_desc\", when(col(\"RatecodeID\") == 1, \"Standard rate\")\n",
    "                              .when(col(\"RatecodeID\") == 2, \"JFK\")\n",
    "                              .when(col(\"RatecodeID\") == 3, \"Newark\")\n",
    "                              .when(col(\"RatecodeID\") == 4, \"Nassau or Westchester\")\n",
    "                              .when(col(\"RatecodeID\") == 5, \"Negotiated fare\")\n",
    "                              .when(col(\"RatecodeID\") == 6, \"Group ride\")\n",
    "                              .when(col(\"RatecodeID\") == 99, \"Unknown\")\n",
    "                              .otherwise(\"Unknown\"))\n",
    "\n",
    "# payment_type => payment_type_desc\n",
    "df = df.withColumn(\"payment_type_desc\", when(col(\"payment_type\") == 0, \"Flex Fare\")\n",
    "                                 .when(col(\"payment_type\") == 1, \"Credit card\")\n",
    "                                 .when(col(\"payment_type\") == 2, \"Cash\")\n",
    "                                 .when(col(\"payment_type\") == 3, \"No charge\")\n",
    "                                 .when(col(\"payment_type\") == 4, \"Dispute\")\n",
    "                                 .when(col(\"payment_type\") == 5, \"Unknown\")\n",
    "                                 .when(col(\"payment_type\") == 6, \"Voided trip\")\n",
    "                                 .otherwise(\"Unknown\"))\n",
    "\n",
    "\n"
   ]
  },
  {
   "cell_type": "code",
   "execution_count": 17,
   "id": "66a71d15-be39-4687-85c0-7f725e3630fe",
   "metadata": {},
   "outputs": [],
   "source": [
    "#for i in df.columns:\n",
    "#    print(f\"================================= {i} ============================================\")\n",
    "#    df.groupBy(i).agg(count(\"*\").alias(\"value_count\")).orderBy(\"value_count\", ascending=False).show()"
   ]
  },
  {
   "cell_type": "code",
   "execution_count": 18,
   "id": "1c9a923b-f303-479d-8bcf-499bfa6b3403",
   "metadata": {},
   "outputs": [
    {
     "name": "stderr",
     "output_type": "stream",
     "text": [
      "                                                                                "
     ]
    }
   ],
   "source": [
    "zones = spark.read.csv(\"s3a://tlc/taxi_zone_lookup.csv\", header=True, inferSchema=True)\n",
    "#zones.show()"
   ]
  },
  {
   "cell_type": "code",
   "execution_count": 19,
   "id": "7fe0334a-56cc-474e-9ce0-1601472e2dbf",
   "metadata": {},
   "outputs": [],
   "source": [
    "df.createOrReplaceTempView(\"trips\")\n",
    "zones.createOrReplaceTempView(\"zones\")\n",
    "\n",
    "df = spark.sql(\"\"\"\n",
    "SELECT\n",
    "    trips.*,\n",
    "    pu.Borough         AS PUBorough,\n",
    "    pu.Zone            AS PUZone,\n",
    "    pu.service_zone    AS PU_service_zone,\n",
    "    do.Borough         AS DOBorough,\n",
    "    do.Zone            AS DOZone,\n",
    "    do.service_zone    AS DO_service_zone\n",
    "FROM trips\n",
    "LEFT JOIN zones pu\n",
    "    ON trips.PULocationID = pu.LocationID\n",
    "LEFT JOIN zones do\n",
    "    ON trips.DOLocationID = do.LocationID\n",
    "\"\"\")\n",
    "\n"
   ]
  },
  {
   "cell_type": "code",
   "execution_count": null,
   "id": "a5544b5c-0a57-4367-a30f-d6562f66c94c",
   "metadata": {},
   "outputs": [],
   "source": []
  },
  {
   "cell_type": "code",
   "execution_count": 20,
   "id": "6531296b-045f-47b9-abf5-65cc3a6d9295",
   "metadata": {},
   "outputs": [],
   "source": [
    "#============================================== Add Columns =========================================================\n",
    "#===================================================================================================================================\n",
    "df = df.withColumn(\"pickup_hour\", hour(col(\"pickup_datetime\")))\n",
    "df = df.withColumn(\n",
    "    \"pickup_period\",\n",
    "    when(col(\"pickup_hour\").between(0, 5), \"Late Night\")\n",
    "    .when(col(\"pickup_hour\").between(6, 11), \"Morning\")\n",
    "    .when(col(\"pickup_hour\").between(12, 16), \"Afternoon\")\n",
    "    .when(col(\"pickup_hour\").between(17, 20), \"Evening\")\n",
    "    .otherwise(\"Night\")\n",
    ")\n",
    "    \n",
    "df = df.withColumn(\"day_of_week_name\", date_format(col(\"pickup_datetime\"), \"E\"))\n",
    "df = df.withColumn(\"is_weekend\", (col(\"day_of_week_name\") == \"Fri\" ) | (col(\"day_of_week_name\") == \"Sat\"))\n",
    "\n",
    "\n",
    "\n",
    "df = df.withColumn(\"trip_length_category\",\n",
    "                   when(col(\"trip_duration\") < 300, \"Very Short\")\n",
    "                   .when((col(\"trip_duration\") >= 300) & (col(\"trip_duration\") < 900), \"Short\")\n",
    "                   .when((col(\"trip_duration\") >= 900) & (col(\"trip_duration\") < 1800), \"Medium\")\n",
    "                   .otherwise(\"Long\"))\n",
    "\n",
    "df = df.withColumn(\"IsWeekendText\", \n",
    "    when(col(\"is_weekend\") == True, \"Weekend\")\n",
    "    .otherwise(\"Weekday\"))\n",
    "#===================================================================================================================================\n",
    "# 1. fare_per_mile\n",
    "df = df.withColumn(\"fare_per_mile\", \n",
    "                   when(col(\"trip_distance\") > 0, col(\"fare_amount\") / col(\"trip_distance\")))\n",
    "\n",
    "# 2. fare_per_minute (duration بالثواني)\n",
    "df = df.withColumn(\"fare_per_minute\", \n",
    "                   when(col(\"trip_duration\") > 0, col(\"fare_amount\") / (col(\"trip_duration\") / 60)))\n",
    "\n",
    "# 3. tip_ratio\n",
    "df = df.withColumn(\"tip_ratio\", \n",
    "                   when(col(\"total_amount\") > 0, col(\"tip_amount\") / col(\"total_amount\")))\n",
    "\n",
    "# 4. trip_efficiency (miles per second)\n",
    "df = df.withColumn(\"trip_efficiency\", \n",
    "                   when(col(\"trip_duration\") > 0, col(\"trip_distance\") / col(\"trip_duration\")))\n",
    "\n",
    "# 6. is_airport_trip (based on pickup/dropoff borough)\n",
    "df = df.withColumn(\"is_airport_trip\",\n",
    "                   (col(\"PUBorough\").contains(\"Airport\")) | (col(\"DOBorough\").contains(\"Airport\")))\n",
    "\n",
    "# 7. is_suspicious (مسافة صغيرة جدًا ومبلغ عالي)\n",
    "df = df.withColumn(\"is_suspicious\",\n",
    "                   (col(\"trip_distance\") < 0.2) & (col(\"total_amount\") > 30))"
   ]
  },
  {
   "cell_type": "code",
   "execution_count": 21,
   "id": "76ddcfd4-e827-47d0-936c-8598e7f39b25",
   "metadata": {},
   "outputs": [],
   "source": [
    "#df.printSchema()\n"
   ]
  },
  {
   "cell_type": "code",
   "execution_count": 22,
   "id": "a54205d2-e0d4-47e6-9bd3-b0af6b2da8f5",
   "metadata": {
    "scrolled": true
   },
   "outputs": [
    {
     "name": "stderr",
     "output_type": "stream",
     "text": [
      "25/07/22 08:05:40 WARN package: Truncated the string representation of a plan since it was too large. This behavior can be adjusted by setting 'spark.sql.debug.maxToStringFields'.\n"
     ]
    },
    {
     "data": {
      "text/plain": [
       "DataFrame[RatecodeID: bigint, extra: double, passenger_count: bigint, dropoff_datetime: timestamp_ntz, tolls_amount: double, pickup_datetime: timestamp_ntz, congestion_surcharge: double, DOLocationID: int, PULocationID: int, trip_distance: double, total_amount: double, improvement_surcharge: double, mta_tax: double, tip_amount: double, VendorID: int, payment_type: bigint, taxi_type: string, fare_amount: double, trip_duration: bigint, trip_speed_mph: double, vendor_name: string, rate_code_desc: string, payment_type_desc: string, PUBorough: string, PUZone: string, PU_service_zone: string, DOBorough: string, DOZone: string, DO_service_zone: string, pickup_hour: int, pickup_period: string, day_of_week_name: string, is_weekend: boolean, trip_length_category: string, IsWeekendText: string, fare_per_mile: double, fare_per_minute: double, tip_ratio: double, trip_efficiency: double, is_airport_trip: boolean, is_suspicious: boolean]"
      ]
     },
     "execution_count": 22,
     "metadata": {},
     "output_type": "execute_result"
    }
   ],
   "source": [
    "df = df.repartition(500)\n",
    "df.persist(StorageLevel.MEMORY_AND_DISK)\n",
    "\n",
    "#after_cleaning=df.count()\n"
   ]
  },
  {
   "cell_type": "code",
   "execution_count": 23,
   "id": "e0e74166-9a62-4b52-bdb1-2e29db6b41b7",
   "metadata": {},
   "outputs": [],
   "source": [
    "#print((after_cleaning / before_cleaning)*100 )"
   ]
  },
  {
   "cell_type": "code",
   "execution_count": 24,
   "id": "26aa1434-aa49-4eee-a408-448906cfd664",
   "metadata": {},
   "outputs": [],
   "source": [
    "#===============================================================================================================\n",
    "#===============================================================================================================\n",
    "#===============================================================================================================\n",
    "df = df.withColumnRenamed(\"RatecodeID\", \"ratecode_id\")\n",
    "df = df.withColumnRenamed(\"payment_type\", \"payment_type_id\")\n",
    "df = df.withColumnRenamed(\"VendorID\", \"vendor_id\")\n",
    "#===============================================================================================================\n",
    "#===============================================================================================================\n",
    "#===============================================================================================================\n"
   ]
  },
  {
   "cell_type": "code",
   "execution_count": 25,
   "id": "1a94d375-b790-44f5-bec2-d1dfe4b8864a",
   "metadata": {},
   "outputs": [],
   "source": [
    "#===============================================================================================================\n",
    "#===============================================================================================================\n",
    "#===============================================================================================================\n",
    "#====================================== Modeling ===============================================================\n",
    "#===============================================================================================================\n",
    "#===============================================================================================================\n",
    "#===============================================================================================================\n",
    "#===============================================================================================================\n",
    "#===============================================================================================================\n"
   ]
  },
  {
   "cell_type": "code",
   "execution_count": 26,
   "id": "8f2586fd-3fd3-4235-ac58-a380fbc43306",
   "metadata": {},
   "outputs": [],
   "source": [
    "dim_vendor = df.select(\"vendor_id\", \"vendor_name\").dropDuplicates()"
   ]
  },
  {
   "cell_type": "code",
   "execution_count": 27,
   "id": "1c4eb505-5f0d-4581-bd8a-a837eb4d556a",
   "metadata": {},
   "outputs": [],
   "source": [
    "dim_rate_code = df.select(\"ratecode_id\", \"rate_code_desc\").dropDuplicates()"
   ]
  },
  {
   "cell_type": "code",
   "execution_count": 28,
   "id": "90915f04-ac51-4559-8ef9-911bb81b32c6",
   "metadata": {},
   "outputs": [],
   "source": [
    "dim_payment_type = df.select(\"payment_type_id\", \"payment_type_desc\").dropDuplicates()"
   ]
  },
  {
   "cell_type": "code",
   "execution_count": 29,
   "id": "1f67c389-bacf-4c5d-971a-c91d260bb479",
   "metadata": {},
   "outputs": [],
   "source": [
    "dim_pickup_location = df.select(\n",
    "    col(\"PULocationID\"),\n",
    "    col(\"PUBorough\"),\n",
    "    col(\"PUZone\"),\n",
    "    col(\"PU_service_zone\")\n",
    ").dropDuplicates()\n"
   ]
  },
  {
   "cell_type": "code",
   "execution_count": 30,
   "id": "1a2d1b14-fb48-4620-ad26-b730e8b7b883",
   "metadata": {},
   "outputs": [],
   "source": [
    "dim_dropoff_location = df.select(\n",
    "    col(\"DOLocationID\"),\n",
    "    col(\"DOBorough\"),\n",
    "    col(\"DOZone\"),\n",
    "    col(\"DO_service_zone\")\n",
    ").dropDuplicates()\n"
   ]
  },
  {
   "cell_type": "code",
   "execution_count": 31,
   "id": "99375fb3-5f51-45ad-8031-5e3d54bf0b99",
   "metadata": {},
   "outputs": [],
   "source": [
    "dim_time = df.select(\n",
    "    col(\"pickup_datetime\").alias(\"pickup_datetime\"),\n",
    "    year(\"pickup_datetime\").alias(\"year\"),\n",
    "    month(\"pickup_datetime\").alias(\"month\"),\n",
    "    dayofmonth(\"pickup_datetime\").alias(\"day\"),\n",
    "    hour(\"pickup_datetime\").alias(\"hour\"),\n",
    "    col(\"pickup_hour\"),\n",
    "    col(\"pickup_period\"),\n",
    "    col(\"day_of_week_name\"),\n",
    "    col(\"is_weekend\"),\n",
    "    col(\"IsWeekendText\")\n",
    ").dropDuplicates()\n",
    "\n",
    "dim_time = dim_time.withColumn(\"time_id\", monotonically_increasing_id())\n",
    "\n",
    "dim_time = dim_time.withColumn(\"pickup_datetime\", col(\"pickup_datetime\").cast(\"timestamp\"))"
   ]
  },
  {
   "cell_type": "code",
   "execution_count": 32,
   "id": "2d558523-cb4b-4f72-843b-8d1fc3fbcf61",
   "metadata": {},
   "outputs": [],
   "source": [
    "dim_trip_category = df.select(\n",
    "    \"trip_length_category\",\n",
    "    \"is_airport_trip\",\n",
    "    \"is_suspicious\"\n",
    ").dropDuplicates().withColumn(\"trip_category_id\", monotonically_increasing_id())\n"
   ]
  },
  {
   "cell_type": "code",
   "execution_count": 33,
   "id": "cf8db4b2-98cd-4c2e-a5f1-2f97868ad9a3",
   "metadata": {},
   "outputs": [],
   "source": [
    "fact_trips = df.select(\n",
    "    \"pickup_datetime\", \"dropoff_datetime\", \"trip_distance\", \"trip_duration\", \"trip_speed_mph\", \n",
    "    \"trip_efficiency\", \"fare_amount\", \"tip_amount\", \"tolls_amount\", \"total_amount\", \"passenger_count\",\n",
    "    \"fare_per_mile\", \"fare_per_minute\", \"congestion_surcharge\", \"mta_tax\", \"extra\", \"improvement_surcharge\",\n",
    "    \"ratecode_id\", \"vendor_id\", \"payment_type_id\", \"PULocationID\", \"DOLocationID\", \n",
    "    \n",
    "    # المهمين للربط\n",
    "    \"trip_length_category\", \"is_airport_trip\", \"is_suspicious\", \"taxi_type\" \n",
    ")\n",
    "fact_trips = fact_trips.withColumn(\"trip_id\", monotonically_increasing_id())\n",
    "\n",
    "\n"
   ]
  },
  {
   "cell_type": "code",
   "execution_count": null,
   "id": "44e94267-76e3-4ebc-9b8d-cc65a5dc09a3",
   "metadata": {},
   "outputs": [],
   "source": []
  },
  {
   "cell_type": "code",
   "execution_count": 34,
   "id": "9ef5a128-7998-4647-b10b-4ddea06291eb",
   "metadata": {},
   "outputs": [],
   "source": [
    "#============================================== Lookup ==============================================\n",
    "fact_trips = fact_trips.join(\n",
    "    dim_time.select(\"pickup_datetime\", \"time_id\"),\n",
    "    fact_trips.pickup_datetime == dim_time.pickup_datetime,\n",
    "    \"left\"\n",
    ").drop(\"pickup_datetime\")\n",
    "\n",
    "fact_trips = fact_trips.join(\n",
    "    dim_trip_category,\n",
    "    on=[\"trip_length_category\", \"is_airport_trip\", \"is_suspicious\"],\n",
    "    how=\"left\"\n",
    ").drop(\"trip_length_category\", \"is_airport_trip\", \"is_suspicious\")\n",
    "\n",
    "\n",
    "fact_trips = fact_trips.withColumn(\"dropoff_datetime\", col(\"dropoff_datetime\").cast(\"timestamp\"))\n"
   ]
  },
  {
   "cell_type": "code",
   "execution_count": 35,
   "id": "e60a43fe-825e-4a09-ac6a-6d840f24b02b",
   "metadata": {},
   "outputs": [],
   "source": [
    "#fact_trips.printSchema()"
   ]
  },
  {
   "cell_type": "code",
   "execution_count": 36,
   "id": "847d2699-62e0-485e-aa11-1ca21c7563df",
   "metadata": {},
   "outputs": [],
   "source": [
    "#for i in df.columns :\n",
    "#    print(f\"=================================== {i} ============================== \")\n",
    "#    df.select(\n",
    "#        sum(when(col(i).isNull(), 1).otherwise(0)).alias(\"null_count\")\n",
    "#    ).show()"
   ]
  },
  {
   "cell_type": "code",
   "execution_count": 37,
   "id": "30623a7a-2b70-4a26-bf02-d084d63ca028",
   "metadata": {},
   "outputs": [],
   "source": [
    "#===============================================================================================================\n",
    "#===============================================================================================================\n",
    "#===============================================================================================================\n",
    "#====================================== snowflake ==============================================================\n",
    "#===============================================================================================================\n",
    "#===============================================================================================================\n",
    "#===============================================================================================================\n",
    "#===============================================================================================================\n",
    "#==============================================================================================================="
   ]
  },
  {
   "cell_type": "code",
   "execution_count": null,
   "id": "c613a83f-1b13-4ae3-963b-d8cfd0c9252a",
   "metadata": {},
   "outputs": [],
   "source": []
  },
  {
   "cell_type": "code",
   "execution_count": null,
   "id": "534b6d0d-877b-4cf6-87c3-37565b0a79c8",
   "metadata": {},
   "outputs": [],
   "source": []
  },
  {
   "cell_type": "code",
   "execution_count": 38,
   "id": "e14f420f-af6f-4c45-bbdb-ab44b9f177ef",
   "metadata": {},
   "outputs": [],
   "source": [
    "#spark = SparkSession.builder \\\n",
    "#    .appName(\"snowflake-test\") \\\n",
    "#    .config(\"spark.driver.memory\", \"2g\") \\\n",
    "#    .config(\"spark.executor.memory\", \"2g\") \\\n",
    "#    .config(\"spark.executor.memoryOverhead\", \"2g\") \\\n",
    "#    .config(\"spark.driver.memoryOverhead\", \"2g\") \\\n",
    "#    .config(\"spark.jars.packages\", \n",
    "#            \"net.snowflake:spark-snowflake_2.12:2.9.0-spark_3.2,net.snowflake:snowflake-jdbc:3.13.31\") \\\n",
    "#    .getOrCreate()"
   ]
  },
  {
   "cell_type": "code",
   "execution_count": 39,
   "id": "6b731880-377f-48a2-9933-f83413fe2819",
   "metadata": {},
   "outputs": [],
   "source": [
    "#sfOptions = {\n",
    "#  \"sfURL\" : \"AKGEMQF-VN65042.snowflakecomputing.com\",\n",
    "#  \"sfUser\" : \"LOL\",\n",
    "#  \"sfPassword\" : \"A123456789a123\",\n",
    "#  \"sfDatabase\" : \"NYC_TLC\",\n",
    "#  \"sfSchema\" : \"PUBLIC\",\n",
    "#  \"sfWarehouse\" : \"COMPUTE_WH\",\n",
    "#  \"sfRole\": \"ACCOUNTADMIN\"\n",
    "#}\n"
   ]
  },
  {
   "cell_type": "code",
   "execution_count": null,
   "id": "f20b1c93-2abb-40a0-afdc-9f8622d192da",
   "metadata": {
    "scrolled": true
   },
   "outputs": [],
   "source": []
  },
  {
   "cell_type": "code",
   "execution_count": 40,
   "id": "f02cf16a-2eae-4583-9977-d4222d963a73",
   "metadata": {
    "scrolled": true
   },
   "outputs": [],
   "source": [
    "#dim_vendor.write \\\n",
    "#    .format(\"snowflake\") \\\n",
    "#    .options(**sfOptions) \\\n",
    "#    .option(\"dbtable\", \"dim_vendor\") \\\n",
    "#    .mode(\"append\") \\\n",
    "#    .save()\n"
   ]
  },
  {
   "cell_type": "code",
   "execution_count": 41,
   "id": "1fb5a179-adff-40c2-a000-09eff3a2e0bc",
   "metadata": {},
   "outputs": [],
   "source": [
    "#dim_rate_code.write \\\n",
    "#    .format(\"snowflake\") \\\n",
    "#    .options(**sfOptions) \\\n",
    "#    .option(\"dbtable\", \"dim_rate_code\") \\\n",
    "#    .mode(\"append\") \\\n",
    "#    .save()\n"
   ]
  },
  {
   "cell_type": "code",
   "execution_count": 42,
   "id": "dc092e4a-3cee-484a-b804-9796e6109fb7",
   "metadata": {},
   "outputs": [],
   "source": [
    "#dim_payment_type.write \\\n",
    "#    .format(\"snowflake\") \\\n",
    "#    .options(**sfOptions) \\\n",
    "#    .option(\"dbtable\", \"dim_payment_type\") \\\n",
    "#    .mode(\"append\") \\\n",
    "#    .save()"
   ]
  },
  {
   "cell_type": "code",
   "execution_count": 43,
   "id": "0ec8019b-05b7-47ca-981c-cf5ee0fcf72a",
   "metadata": {},
   "outputs": [],
   "source": [
    "#dim_pickup_location.write \\\n",
    "#    .format(\"snowflake\") \\\n",
    "#    .options(**sfOptions) \\\n",
    "#    .option(\"dbtable\", \"dim_pickup_location\") \\\n",
    "#    .mode(\"append\") \\\n",
    "#    .save()"
   ]
  },
  {
   "cell_type": "code",
   "execution_count": 44,
   "id": "9103b650-84ea-4b89-b18e-0f8b8e654445",
   "metadata": {},
   "outputs": [],
   "source": [
    "#dim_dropoff_location.write \\\n",
    "#    .format(\"snowflake\") \\\n",
    "#    .options(**sfOptions) \\\n",
    "#    .option(\"dbtable\", \"dim_dropoff_location\") \\\n",
    "#    .mode(\"append\") \\\n",
    "#    .save()"
   ]
  },
  {
   "cell_type": "code",
   "execution_count": 45,
   "id": "c4bb9523-e183-4c08-8151-0c39a869b7aa",
   "metadata": {},
   "outputs": [],
   "source": [
    "#dim_time.write \\\n",
    "#    .format(\"snowflake\") \\\n",
    "#    .options(**sfOptions) \\\n",
    "#    .option(\"dbtable\", \"dim_time\") \\\n",
    "#    .mode(\"append\") \\\n",
    "#    .save()"
   ]
  },
  {
   "cell_type": "code",
   "execution_count": 46,
   "id": "f89b098b-bd58-4e7d-8b01-3e3f2f13121b",
   "metadata": {},
   "outputs": [],
   "source": [
    "#dim_trip_category.write \\\n",
    "#   .format(\"snowflake\") \\\n",
    "#    .options(**sfOptions) \\\n",
    "#    .option(\"dbtable\", \"dim_trip_category\") \\\n",
    "#    .mode(\"append\") \\\n",
    "#    .save()"
   ]
  },
  {
   "cell_type": "code",
   "execution_count": 47,
   "id": "4eaaa4f6-2ff9-4a72-891d-bb7882349f94",
   "metadata": {
    "scrolled": true
   },
   "outputs": [],
   "source": [
    "#fact_trips.write \\\n",
    "#    .format(\"snowflake\") \\\n",
    "#    .options(**sfOptions) \\\n",
    "#    .option(\"dbtable\", \"fact_trips\") \\\n",
    "#    .mode(\"append\") \\\n",
    "#    .save()\n",
    "\n"
   ]
  },
  {
   "cell_type": "code",
   "execution_count": null,
   "id": "b99283e3-4052-4623-9da9-27a5b738e293",
   "metadata": {
    "scrolled": true
   },
   "outputs": [
    {
     "name": "stdout",
     "output_type": "stream",
     "text": [
      "Writing table: dim_trip_category\n"
     ]
    },
    {
     "name": "stderr",
     "output_type": "stream",
     "text": [
      "                                                                                "
     ]
    },
    {
     "name": "stdout",
     "output_type": "stream",
     "text": [
      "Writing table: dim_time\n"
     ]
    },
    {
     "name": "stderr",
     "output_type": "stream",
     "text": [
      "                                                                                "
     ]
    },
    {
     "name": "stdout",
     "output_type": "stream",
     "text": [
      "Writing table: dim_dropoff_location\n"
     ]
    },
    {
     "name": "stderr",
     "output_type": "stream",
     "text": [
      "                                                                                "
     ]
    },
    {
     "name": "stdout",
     "output_type": "stream",
     "text": [
      "Writing table: dim_pickup_location\n"
     ]
    },
    {
     "name": "stderr",
     "output_type": "stream",
     "text": [
      "                                                                                "
     ]
    },
    {
     "name": "stdout",
     "output_type": "stream",
     "text": [
      "Writing table: dim_payment_type\n"
     ]
    },
    {
     "name": "stderr",
     "output_type": "stream",
     "text": [
      "                                                                                "
     ]
    },
    {
     "name": "stdout",
     "output_type": "stream",
     "text": [
      "Writing table: dim_rate_code\n"
     ]
    },
    {
     "name": "stderr",
     "output_type": "stream",
     "text": [
      "                                                                                "
     ]
    },
    {
     "name": "stdout",
     "output_type": "stream",
     "text": [
      "Writing table: dim_vendor\n"
     ]
    },
    {
     "name": "stderr",
     "output_type": "stream",
     "text": [
      "                                                                                "
     ]
    }
   ],
   "source": [
    "jdbc_url = \"jdbc:postgresql://postgres:5432/admin\"\n",
    "connection_properties = {\n",
    "   \"user\": \"admin\",\n",
    "   \"password\": \"password\",\n",
    "   \"driver\": \"org.postgresql.Driver\"\n",
    "}\n",
    "\n",
    "#List of DataFrames and table names\n",
    "tables = {\n",
    "   #\"fact_trips\": fact_trips,\n",
    "   \"dim_trip_category\": dim_trip_category,\n",
    "   \"dim_time\": dim_time,\n",
    "   \"dim_dropoff_location\": dim_dropoff_location,\n",
    "   \"dim_pickup_location\": dim_pickup_location,\n",
    "   \"dim_payment_type\": dim_payment_type,\n",
    "   \"dim_rate_code\": dim_rate_code,\n",
    "   \"dim_vendor\": dim_vendor\n",
    "}\n",
    "\n",
    "#Loop over each table and write to PostgreSQL\n",
    "for table_name, df in tables.items():\n",
    "   print(f\"Writing table: {table_name}\")\n",
    "   \n",
    "   df.write \\\n",
    "     .option(\"batchsize\", 10000) \\\n",
    "     .option(\"numPartitions\", 10) \\\n",
    "     .jdbc(\n",
    "        url=jdbc_url,\n",
    "         table=table_name,\n",
    "         mode=\"overwrite\",  \n",
    "         properties=connection_properties\n",
    "     )\n"
   ]
  },
  {
   "cell_type": "code",
   "execution_count": null,
   "id": "3367fd4a-cfb2-48fd-959c-cc1b49272eda",
   "metadata": {},
   "outputs": [
    {
     "name": "stderr",
     "output_type": "stream",
     "text": [
      "                                                                                "
     ]
    }
   ],
   "source": [
    "fact_trips.write \\\n",
    "  .option(\"batchsize\", 10000) \\\n",
    "  .option(\"numPartitions\", 10) \\\n",
    "  .jdbc(\n",
    "     url=jdbc_url,\n",
    "      table=\"fact_trips\",\n",
    "      mode=\"overwrite\",  \n",
    "      properties=connection_properties\n",
    "  )"
   ]
  },
  {
   "cell_type": "code",
   "execution_count": null,
   "id": "6a1dd2de-00ab-4074-89cf-db3c88ca9880",
   "metadata": {},
   "outputs": [],
   "source": []
  },
  {
   "cell_type": "code",
   "execution_count": null,
   "id": "7fb264df-c286-4381-a4eb-38f7f36dfea8",
   "metadata": {
    "scrolled": true
   },
   "outputs": [],
   "source": [
    "\n"
   ]
  },
  {
   "cell_type": "code",
   "execution_count": null,
   "id": "7eb21cb0-673b-4b63-b99b-c215abee3e4e",
   "metadata": {
    "scrolled": true
   },
   "outputs": [],
   "source": [
    "\n"
   ]
  },
  {
   "cell_type": "code",
   "execution_count": null,
   "id": "ce5f48c4-d551-49ff-a339-4fc2b1b6ad3e",
   "metadata": {},
   "outputs": [],
   "source": []
  },
  {
   "cell_type": "code",
   "execution_count": null,
   "id": "89e1ee0f-5961-4bc8-86d4-4ab2c254cc3f",
   "metadata": {},
   "outputs": [],
   "source": []
  },
  {
   "cell_type": "markdown",
   "id": "ccb0db9f-97b7-4f6f-9f6d-60cdf86d43d9",
   "metadata": {},
   "source": [
    "# "
   ]
  }
 ],
 "metadata": {
  "kernelspec": {
   "display_name": "Python 3 (ipykernel)",
   "language": "python",
   "name": "python3"
  },
  "language_info": {
   "codemirror_mode": {
    "name": "ipython",
    "version": 3
   },
   "file_extension": ".py",
   "mimetype": "text/x-python",
   "name": "python",
   "nbconvert_exporter": "python",
   "pygments_lexer": "ipython3",
   "version": "3.11.8"
  }
 },
 "nbformat": 4,
 "nbformat_minor": 5
}

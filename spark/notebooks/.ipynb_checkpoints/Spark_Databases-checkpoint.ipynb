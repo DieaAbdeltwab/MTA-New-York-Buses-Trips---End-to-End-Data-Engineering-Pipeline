{
 "cells": [
  {
   "cell_type": "code",
   "execution_count": 1,
   "id": "41fe8fb6-1ab1-49ec-9a93-ddbed0c00931",
   "metadata": {},
   "outputs": [],
   "source": [
    "from pyspark.sql import SparkSession"
   ]
  },
  {
   "cell_type": "code",
   "execution_count": 2,
   "id": "d3507048-2ceb-4500-b058-112a56acfa9c",
   "metadata": {},
   "outputs": [
    {
     "name": "stderr",
     "output_type": "stream",
     "text": [
      "Setting default log level to \"WARN\".\n",
      "To adjust logging level use sc.setLogLevel(newLevel). For SparkR, use setLogLevel(newLevel).\n",
      "25/07/17 00:48:45 WARN NativeCodeLoader: Unable to load native-hadoop library for your platform... using builtin-java classes where applicable\n"
     ]
    }
   ],
   "source": [
    "spark = (SparkSession.builder\n",
    "         .appName(\"Read MySQL users table \")\n",
    "         .config(\"spark.executor.cores\", \"2\")\n",
    "         .config(\"spark.cores.max\", \"2\")\n",
    "         .getOrCreate())"
   ]
  },
  {
   "cell_type": "code",
   "execution_count": 3,
   "id": "df3decb1-e9b3-43b8-864a-1d4a2e493ae8",
   "metadata": {},
   "outputs": [],
   "source": [
    "jdbc_url = \"jdbc:mysql://mysql:3306/ecomm\"\n",
    "user = \"myuser\"\n",
    "password = \"mypassword\"\n",
    "\n",
    "\n",
    "df1 = spark.read.format(\"jdbc\") \\\n",
    "    .option(\"url\", jdbc_url) \\\n",
    "    .option(\"dbtable\", \"users\") \\\n",
    "    .option(\"user\", user) \\\n",
    "    .option(\"password\", password) \\\n",
    "    .option(\"driver\", \"com.mysql.cj.jdbc.Driver\") \\\n",
    "    .load()"
   ]
  },
  {
   "cell_type": "code",
   "execution_count": 11,
   "id": "a6b11cfd-f876-485c-87bb-bd21466b8a14",
   "metadata": {},
   "outputs": [
    {
     "name": "stdout",
     "output_type": "stream",
     "text": [
      "+---+--------+-----------------+---------+-------------------+\n",
      "| id|username|            email| password|         created_at|\n",
      "+---+--------+-----------------+---------+-------------------+\n",
      "|  1|   user1|user1@example.com|password1|2025-07-17 00:48:34|\n",
      "|  2|   user2|user2@example.com|password2|2025-07-17 00:48:34|\n",
      "|  3|   user3|user3@example.com|password3|2025-07-17 00:48:34|\n",
      "|  4|   user1|user1@example.com|password1|2025-07-17 00:49:08|\n",
      "|  5|   user2|user2@example.com|password2|2025-07-17 00:49:08|\n",
      "|  6|   user3|user3@example.com|password3|2025-07-17 00:49:08|\n",
      "|  7|   user1|user1@example.com|password1|2025-07-17 00:49:58|\n",
      "|  8|   user2|user2@example.com|password2|2025-07-17 00:49:58|\n",
      "|  9|   user3|user3@example.com|password3|2025-07-17 00:49:58|\n",
      "| 10|   user1|user1@example.com|password1|2025-07-17 00:50:01|\n",
      "| 11|   user2|user2@example.com|password2|2025-07-17 00:50:01|\n",
      "| 12|   user3|user3@example.com|password3|2025-07-17 00:50:01|\n",
      "+---+--------+-----------------+---------+-------------------+\n",
      "\n"
     ]
    }
   ],
   "source": [
    "df1.show()"
   ]
  },
  {
   "cell_type": "code",
   "execution_count": 6,
   "id": "395bc7c8-676c-4a0e-9fd2-40ea8e745876",
   "metadata": {},
   "outputs": [
    {
     "name": "stderr",
     "output_type": "stream",
     "text": [
      "25/07/17 00:49:25 WARN SparkSession: Using an existing Spark session; only runtime SQL configurations will take effect.\n"
     ]
    }
   ],
   "source": [
    "from pyspark.sql import SparkSession\n",
    "spark = (SparkSession.builder\n",
    "         .appName(\"Read Postgres users table \")\n",
    "         .config(\"spark.executor.cores\", \"2\")\n",
    "         .config(\"spark.cores.max\", \"2\")\n",
    "         .getOrCreate())"
   ]
  },
  {
   "cell_type": "code",
   "execution_count": 9,
   "id": "c79a0905-6bc7-4a77-b931-8a7dc129d8eb",
   "metadata": {},
   "outputs": [],
   "source": [
    "# رابط الاتصال (غير 'postgres' لاسم خدمة البوستجريس في docker-compose عندك)\n",
    "jdbc_url = \"jdbc:postgresql://postgres:5432/admin\"\n",
    "\n",
    "# خصائص الاتصال\n",
    "connection_properties = {\n",
    "    \"user\": \"admin\",\n",
    "    \"password\": \"password\",\n",
    "    \"driver\": \"org.postgresql.Driver\"\n",
    "}\n",
    "\n",
    "# قراءة جدول users_scd من قاعدة admin\n",
    "df2 = spark.read.jdbc(url=jdbc_url, table=\"users_scd\", properties=connection_properties)"
   ]
  },
  {
   "cell_type": "code",
   "execution_count": 10,
   "id": "c8fcbd2f-0788-48fd-8cd8-030bc241053c",
   "metadata": {},
   "outputs": [
    {
     "name": "stdout",
     "output_type": "stream",
     "text": [
      "+---+--------+-----------------+--------+----------+----------+--------------------+--------+\n",
      "| id|username|            email|password|created_at|is_current|          valid_from|valid_to|\n",
      "+---+--------+-----------------+--------+----------+----------+--------------------+--------+\n",
      "|  1|   user1|user1@example.com|   pass1|      null|      true|2025-07-17 00:49:...|    null|\n",
      "|  2|   user2|user2@example.com|   pass2|      null|      true|2025-07-17 00:49:...|    null|\n",
      "|  3|   user3|user3@example.com|   pass3|      null|      true|2025-07-17 00:49:...|    null|\n",
      "|  1|   user1|user1@example.com|   pass1|      null|      true|2025-07-17 00:49:...|    null|\n",
      "|  2|   user2|user2@example.com|   pass2|      null|      true|2025-07-17 00:49:...|    null|\n",
      "|  3|   user3|user3@example.com|   pass3|      null|      true|2025-07-17 00:49:...|    null|\n",
      "|  1|   user1|user1@example.com|   pass1|      null|      true|2025-07-17 00:49:...|    null|\n",
      "|  2|   user2|user2@example.com|   pass2|      null|      true|2025-07-17 00:49:...|    null|\n",
      "|  3|   user3|user3@example.com|   pass3|      null|      true|2025-07-17 00:49:...|    null|\n",
      "+---+--------+-----------------+--------+----------+----------+--------------------+--------+\n",
      "\n"
     ]
    }
   ],
   "source": [
    "df2.show()"
   ]
  }
 ],
 "metadata": {
  "kernelspec": {
   "display_name": "Python 3 (ipykernel)",
   "language": "python",
   "name": "python3"
  },
  "language_info": {
   "codemirror_mode": {
    "name": "ipython",
    "version": 3
   },
   "file_extension": ".py",
   "mimetype": "text/x-python",
   "name": "python",
   "nbconvert_exporter": "python",
   "pygments_lexer": "ipython3",
   "version": "3.11.8"
  }
 },
 "nbformat": 4,
 "nbformat_minor": 5
}

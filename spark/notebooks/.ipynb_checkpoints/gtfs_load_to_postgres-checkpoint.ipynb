{
 "cells": [
  {
   "cell_type": "code",
   "execution_count": 2,
   "id": "964df843-e8bf-42c5-847a-eb1372592625",
   "metadata": {},
   "outputs": [],
   "source": [
    "from pyspark.sql import SparkSession"
   ]
  },
  {
   "cell_type": "code",
   "execution_count": 3,
   "id": "5e724c11-a8ec-48ec-bd08-fe49fc7b1e60",
   "metadata": {},
   "outputs": [
    {
     "name": "stderr",
     "output_type": "stream",
     "text": [
      "Setting default log level to \"WARN\".\n",
      "To adjust logging level use sc.setLogLevel(newLevel). For SparkR, use setLogLevel(newLevel).\n",
      "25/08/01 15:08:30 WARN NativeCodeLoader: Unable to load native-hadoop library for your platform... using builtin-java classes where applicable\n"
     ]
    }
   ],
   "source": [
    "spark = SparkSession.builder \\\n",
    "    .appName(\"Read GTFS CSVs with Schema from MinIO\") \\\n",
    "    .config(\"spark.hadoop.fs.s3a.endpoint\", \"http://minio:9000\") \\\n",
    "    .config(\"spark.hadoop.fs.s3a.access.key\", \"minio\") \\\n",
    "    .config(\"spark.hadoop.fs.s3a.secret.key\", \"minio123\") \\\n",
    "    .config(\"spark.hadoop.fs.s3a.path.style.access\", \"true\") \\\n",
    "    .config(\"spark.hadoop.fs.s3a.impl\", \"org.apache.hadoop.fs.s3a.S3AFileSystem\") \\\n",
    "    .config(\"spark.executor.cores\", \"8\") \\\n",
    "    .config(\"spark.driver.memory\", \"4g\") \\\n",
    "    .config(\"spark.executor.memory\", \"6g\") \\\n",
    "    .getOrCreate()"
   ]
  },
  {
   "cell_type": "code",
   "execution_count": 4,
   "id": "6cb9d627-3a7f-4876-bd8d-9baa862dee19",
   "metadata": {},
   "outputs": [
    {
     "name": "stderr",
     "output_type": "stream",
     "text": [
      "25/08/01 15:08:33 WARN MetricsConfig: Cannot locate configuration: tried hadoop-metrics2-s3a-file-system.properties,hadoop-metrics2.properties\n",
      "                                                                                "
     ]
    }
   ],
   "source": [
    "read_options = {\n",
    "    \"header\": True,\n",
    "    \"inferSchema\": True\n",
    "}\n",
    "agency_df         = spark.read.options(**read_options).csv(\"s3a://transitbatch/rowdata/*/agency.csv\")\n",
    "calendar_df       = spark.read.options(**read_options).csv(\"s3a://transitbatch/rowdata/*/calendar.csv\")\n",
    "calendar_dates_df = spark.read.options(**read_options).csv(\"s3a://transitbatch/rowdata/*/calendar_dates.csv\")\n",
    "routes_df         = spark.read.options(**read_options).csv(\"s3a://transitbatch/rowdata/*/routes.csv\")\n",
    "shapes_df         = spark.read.options(**read_options).csv(\"s3a://transitbatch/rowdata/*/shapes.csv\")\n",
    "stops_df          = spark.read.options(**read_options).csv(\"s3a://transitbatch/rowdata/*/stops.csv\")\n",
    "stop_times_df     = spark.read.options(**read_options).csv(\"s3a://transitbatch/rowdata/*/stop_times.csv\")\n",
    "trips_df          = spark.read.options(**read_options).csv(\"s3a://transitbatch/rowdata/*/trips.csv\")"
   ]
  },
  {
   "cell_type": "code",
   "execution_count": null,
   "id": "c169f19b-0ee0-4a18-9444-ab475befcafe",
   "metadata": {},
   "outputs": [],
   "source": []
  },
  {
   "cell_type": "code",
   "execution_count": 5,
   "id": "4691d201-3f31-488d-9f6c-7c0ca6724298",
   "metadata": {},
   "outputs": [
    {
     "name": "stdout",
     "output_type": "stream",
     "text": [
      "agency_df: 5 rows\n",
      "calendar_df: 80 rows\n",
      "calendar_dates_df: 823 rows\n",
      "routes_df: 1395 rows\n",
      "shapes_df: 283649 rows\n",
      "stops_df: 11679 rows\n",
      "stop_times_df: 5095336 rows\n",
      "trips_df: 147208 rows\n"
     ]
    }
   ],
   "source": [
    "dataframes = {\n",
    "    \"agency_df\": agency_df,\n",
    "    \"calendar_df\": calendar_df,\n",
    "    \"calendar_dates_df\": calendar_dates_df,\n",
    "    \"routes_df\": routes_df,\n",
    "    \"shapes_df\": shapes_df,\n",
    "    \"stops_df\": stops_df,\n",
    "    \"stop_times_df\": stop_times_df,\n",
    "    \"trips_df\": trips_df\n",
    "}\n",
    "for name, df in dataframes.items():\n",
    "    count = df.count()\n",
    "    print(f\"{name}: {count} rows\")"
   ]
  },
  {
   "cell_type": "code",
   "execution_count": 6,
   "id": "e6550daf-eccb-4afb-8a62-8120566bde56",
   "metadata": {},
   "outputs": [],
   "source": [
    "agency_df         = agency_df.dropDuplicates()\n",
    "calendar_df       = calendar_df.dropDuplicates()\n",
    "calendar_dates_df = calendar_dates_df.dropDuplicates()\n",
    "routes_df         = routes_df.dropDuplicates()\n",
    "shapes_df         = shapes_df.dropDuplicates()\n",
    "stops_df          = stops_df.dropDuplicates()\n",
    "stop_times_df     = stop_times_df.dropDuplicates()\n",
    "trips_df          = trips_df.dropDuplicates()\n"
   ]
  },
  {
   "cell_type": "code",
   "execution_count": 7,
   "id": "1a9985ae-b929-4dca-af15-f03686a33f72",
   "metadata": {},
   "outputs": [
    {
     "name": "stdout",
     "output_type": "stream",
     "text": [
      "agency_df: 1 rows\n",
      "calendar_df: 80 rows\n",
      "calendar_dates_df: 823 rows\n",
      "routes_df: 320 rows\n"
     ]
    },
    {
     "name": "stderr",
     "output_type": "stream",
     "text": [
      "                                                                                "
     ]
    },
    {
     "name": "stdout",
     "output_type": "stream",
     "text": [
      "shapes_df: 283649 rows\n",
      "stops_df: 11507 rows\n"
     ]
    },
    {
     "name": "stderr",
     "output_type": "stream",
     "text": [
      "                                                                                "
     ]
    },
    {
     "name": "stdout",
     "output_type": "stream",
     "text": [
      "stop_times_df: 5095336 rows\n",
      "trips_df: 147208 rows\n"
     ]
    }
   ],
   "source": [
    "dataframes = {\n",
    "    \"agency_df\": agency_df,\n",
    "    \"calendar_df\": calendar_df,\n",
    "    \"calendar_dates_df\": calendar_dates_df,\n",
    "    \"routes_df\": routes_df,\n",
    "    \"shapes_df\": shapes_df,\n",
    "    \"stops_df\": stops_df,\n",
    "    \"stop_times_df\": stop_times_df,\n",
    "    \"trips_df\": trips_df\n",
    "}\n",
    "for name, df in dataframes.items():\n",
    "    count = df.count()\n",
    "    print(f\"{name}: {count} rows\")"
   ]
  },
  {
   "cell_type": "code",
   "execution_count": 8,
   "id": "d7f4ff07-5cbc-4a2b-b73a-d5d9831a78b5",
   "metadata": {},
   "outputs": [],
   "source": [
    "#=================================================================================================================\n",
    "#=================================================================================================================\n",
    "#=================================================================================================================\n",
    "#=================================================================================================================\n",
    "#=================================================================================================================\n",
    "#=================================================================================================================\n",
    "#=================================================================================================================\n",
    "#================================================================================================================="
   ]
  },
  {
   "cell_type": "code",
   "execution_count": null,
   "id": "02164cfd-7f84-4e1b-a180-1db7c8a26237",
   "metadata": {},
   "outputs": [],
   "source": []
  },
  {
   "cell_type": "code",
   "execution_count": null,
   "id": "48beadbe-e6c8-4564-9347-1f87f9b2dc08",
   "metadata": {},
   "outputs": [],
   "source": []
  },
  {
   "cell_type": "code",
   "execution_count": null,
   "id": "d46f9b06-eddb-4d62-b195-207ffcf56b4b",
   "metadata": {},
   "outputs": [],
   "source": []
  },
  {
   "cell_type": "code",
   "execution_count": null,
   "id": "34f12801-dd56-46cd-b362-7bb710c69b3a",
   "metadata": {},
   "outputs": [],
   "source": []
  },
  {
   "cell_type": "code",
   "execution_count": null,
   "id": "5b15fc45-7802-4c77-9d27-60596ace3560",
   "metadata": {},
   "outputs": [],
   "source": []
  },
  {
   "cell_type": "code",
   "execution_count": null,
   "id": "b434847e-b2a4-4b6f-9eb1-6cceedb834de",
   "metadata": {},
   "outputs": [],
   "source": []
  },
  {
   "cell_type": "code",
   "execution_count": null,
   "id": "61b1d47e-d0f9-4f02-b16f-88dfc8e7010e",
   "metadata": {},
   "outputs": [],
   "source": []
  },
  {
   "cell_type": "code",
   "execution_count": null,
   "id": "427b86df-b51f-40df-ae5e-cd48b31d1434",
   "metadata": {},
   "outputs": [],
   "source": []
  },
  {
   "cell_type": "code",
   "execution_count": null,
   "id": "3e6ffb4a-0331-4cad-9c31-ae2ef094e3f6",
   "metadata": {},
   "outputs": [],
   "source": []
  },
  {
   "cell_type": "code",
   "execution_count": null,
   "id": "bb98022b-2d9c-4246-903d-eee8eb7839bb",
   "metadata": {},
   "outputs": [],
   "source": []
  },
  {
   "cell_type": "code",
   "execution_count": null,
   "id": "54e0fad4-f214-4329-a9eb-dae04c3ab7ae",
   "metadata": {},
   "outputs": [],
   "source": []
  },
  {
   "cell_type": "code",
   "execution_count": null,
   "id": "e0642d73-db3b-4a0b-b0ab-e2e7ce718162",
   "metadata": {},
   "outputs": [],
   "source": []
  },
  {
   "cell_type": "code",
   "execution_count": null,
   "id": "256ad148-448f-4993-a76e-ca1cf3ca03f1",
   "metadata": {},
   "outputs": [],
   "source": [
    "#=================================================================================================================\n",
    "#=================================================================================================================\n",
    "#=================================================================================================================\n",
    "#=================================================================================================================\n",
    "#=================================================================================================================\n",
    "#=================================================================================================================\n",
    "#=================================================================================================================\n",
    "#================================================================================================================="
   ]
  },
  {
   "cell_type": "code",
   "execution_count": 9,
   "id": "3353c70d-a1cd-4590-8b5d-4a3f1c9505ec",
   "metadata": {},
   "outputs": [],
   "source": [
    "jdbc_url = \"jdbc:postgresql://postgres:5432/gtfs_batch\"\n",
    "connection_properties = {\n",
    "    \"user\": \"admin\",\n",
    "    \"password\": \"password\",\n",
    "    \"driver\": \"org.postgresql.Driver\"\n",
    "}"
   ]
  },
  {
   "cell_type": "code",
   "execution_count": 10,
   "id": "3550c146-7047-4a3a-9d57-ae13912d9e2c",
   "metadata": {},
   "outputs": [
    {
     "name": "stderr",
     "output_type": "stream",
     "text": [
      "                                                                                "
     ]
    }
   ],
   "source": [
    "agency_df.write.jdbc(url=jdbc_url, table=\"agency\", mode=\"overwrite\", properties=connection_properties)\n",
    "calendar_df.write.jdbc(url=jdbc_url, table=\"calendar\", mode=\"overwrite\", properties=connection_properties)\n",
    "calendar_dates_df.write.jdbc(url=jdbc_url, table=\"calendar_dates\", mode=\"overwrite\", properties=connection_properties)\n",
    "routes_df.write.jdbc(url=jdbc_url, table=\"routes\", mode=\"overwrite\", properties=connection_properties)\n",
    "shapes_df.write.jdbc(url=jdbc_url, table=\"shapes\", mode=\"overwrite\", properties=connection_properties)\n",
    "stops_df.write.jdbc(url=jdbc_url, table=\"stops\", mode=\"overwrite\", properties=connection_properties)\n",
    "trips_df.write.jdbc(url=jdbc_url, table=\"trips\", mode=\"overwrite\", properties=connection_properties)"
   ]
  },
  {
   "cell_type": "code",
   "execution_count": 11,
   "id": "31412386-60d3-44e4-98d3-865a9d45564f",
   "metadata": {},
   "outputs": [
    {
     "name": "stderr",
     "output_type": "stream",
     "text": [
      "                                                                                "
     ]
    }
   ],
   "source": [
    "stop_times_df.coalesce(1).write.jdbc(url=jdbc_url, table=\"stop_times\", mode=\"overwrite\", properties=connection_properties)"
   ]
  },
  {
   "cell_type": "code",
   "execution_count": 12,
   "id": "5fae8e80-bf72-4a37-8f70-f0eb1eca4a5f",
   "metadata": {},
   "outputs": [
    {
     "data": {
      "text/plain": [
       "141"
      ]
     },
     "execution_count": 12,
     "metadata": {},
     "output_type": "execute_result"
    }
   ],
   "source": [
    "import gc\n",
    "for df in [\n",
    "    agency_df, calendar_df, calendar_dates_df, routes_df,\n",
    "    shapes_df, stops_df, stop_times_df, trips_df\n",
    "]:\n",
    "    df.unpersist(blocking=True)\n",
    "\n",
    "# مسح الـ cache من Spark\n",
    "spark.catalog.clearCache()\n",
    "\n",
    "# إيقاف Spark\n",
    "spark.stop()\n",
    "\n",
    "# حذف المتغيرات من الذاكرة\n",
    "del agency_df, calendar_df, calendar_dates_df, routes_df\n",
    "del shapes_df, stops_df, stop_times_df, trips_df, spark\n",
    "\n",
    "# فرض جمع المهملات\n",
    "gc.collect()"
   ]
  }
 ],
 "metadata": {
  "kernelspec": {
   "display_name": "Python 3 (ipykernel)",
   "language": "python",
   "name": "python3"
  },
  "language_info": {
   "codemirror_mode": {
    "name": "ipython",
    "version": 3
   },
   "file_extension": ".py",
   "mimetype": "text/x-python",
   "name": "python",
   "nbconvert_exporter": "python",
   "pygments_lexer": "ipython3",
   "version": "3.11.8"
  }
 },
 "nbformat": 4,
 "nbformat_minor": 5
}

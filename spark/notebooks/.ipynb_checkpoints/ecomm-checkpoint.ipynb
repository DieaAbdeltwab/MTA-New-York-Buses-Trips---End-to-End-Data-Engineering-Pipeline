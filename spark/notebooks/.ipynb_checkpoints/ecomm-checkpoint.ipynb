{
 "cells": [
  {
   "cell_type": "code",
   "execution_count": 148,
   "id": "f4224b9e-d5be-4f98-998e-9423d3ab12ca",
   "metadata": {},
   "outputs": [],
   "source": [
    "from pyspark.sql import SparkSession\n",
    "from pyspark.sql.functions import *"
   ]
  },
  {
   "cell_type": "code",
   "execution_count": 149,
   "id": "e48e5047-a4df-4af0-b37f-7da274b5df58",
   "metadata": {},
   "outputs": [
    {
     "name": "stderr",
     "output_type": "stream",
     "text": [
      "25/07/21 19:36:57 WARN SparkSession: Using an existing Spark session; only runtime SQL configurations will take effect.\n"
     ]
    }
   ],
   "source": [
    "spark = SparkSession.builder \\\n",
    "    .appName(\"ecommerce-etl\") \\\n",
    "    .getOrCreate()\n"
   ]
  },
  {
   "cell_type": "code",
   "execution_count": 150,
   "id": "fc1c809f-14a3-40ed-a0f6-43fb43ef65ad",
   "metadata": {},
   "outputs": [],
   "source": [
    "# إعداد الاتصال بقاعدة بيانات MySQL\n",
    "mysql_url = \"jdbc:mysql://mysql:3306/mydb\"\n",
    "mysql_properties = {\n",
    "    \"user\": \"myuser\",\n",
    "    \"password\": \"mypassword\",\n",
    "    \"driver\": \"com.mysql.cj.jdbc.Driver\"\n",
    "}\n"
   ]
  },
  {
   "cell_type": "code",
   "execution_count": 151,
   "id": "00168b85-da4d-42a2-81ec-0f953d3e4ffc",
   "metadata": {},
   "outputs": [],
   "source": [
    "customers = spark.read.jdbc(mysql_url, \"customers\", properties=mysql_properties)\n",
    "products = spark.read.jdbc(mysql_url, \"products\", properties=mysql_properties)\n",
    "product_category_translation = spark.read.jdbc(mysql_url, \"product_category_translation\", properties=mysql_properties)\n",
    "orders = spark.read.jdbc(mysql_url, \"orders\", properties=mysql_properties)\n",
    "order_items = spark.read.jdbc(mysql_url, \"order_items\", properties=mysql_properties)\n",
    "order_reviews = spark.read.jdbc(mysql_url, \"order_reviews\", properties=mysql_properties)\n",
    "order_payments = spark.read.jdbc(mysql_url, \"order_payments\", properties=mysql_properties)\n",
    "sellers = spark.read.jdbc(mysql_url, \"sellers\", properties=mysql_properties)\n",
    "geolocation = spark.read.jdbc(mysql_url, \"geolocation\", properties=mysql_properties)"
   ]
  },
  {
   "cell_type": "code",
   "execution_count": 152,
   "id": "eb0d4daa-2561-4993-b05f-c792503af2cc",
   "metadata": {},
   "outputs": [
    {
     "name": "stdout",
     "output_type": "stream",
     "text": [
      "root\n",
      " |-- order_id: string (nullable = true)\n",
      " |-- customer_id: string (nullable = true)\n",
      " |-- order_status: string (nullable = true)\n",
      " |-- order_purchase_timestamp: string (nullable = true)\n",
      " |-- order_approved_at: string (nullable = true)\n",
      " |-- order_delivered_carrier_date: string (nullable = true)\n",
      " |-- order_delivered_customer_date: string (nullable = true)\n",
      " |-- order_estimated_delivery_date: string (nullable = true)\n",
      "\n"
     ]
    }
   ],
   "source": [
    "orders.printSchema()"
   ]
  },
  {
   "cell_type": "code",
   "execution_count": 153,
   "id": "ca708ee6-3dec-4d37-9ccc-a473fbec9046",
   "metadata": {},
   "outputs": [],
   "source": [
    "#df = customers"
   ]
  },
  {
   "cell_type": "code",
   "execution_count": null,
   "id": "2710d964-6cac-4f0d-94bd-23586b857e3c",
   "metadata": {},
   "outputs": [],
   "source": []
  },
  {
   "cell_type": "code",
   "execution_count": 154,
   "id": "bd243a20-3977-427e-9aee-ce53328d925d",
   "metadata": {
    "scrolled": true
   },
   "outputs": [],
   "source": [
    "#for i in df.columns :\n",
    "#    print(f\"=================================== {i} ============================== \")\n",
    "#    df.select(\n",
    "#        sum(when(col(i).isNull(), 1).otherwise(0)).alias(\"null_count\")\n",
    "#    ).show()"
   ]
  },
  {
   "cell_type": "code",
   "execution_count": 155,
   "id": "27a46ca0-3814-45eb-9c03-7e83556a9af9",
   "metadata": {
    "scrolled": true
   },
   "outputs": [],
   "source": [
    "#for i in df.columns:\n",
    "#    if isinstance(df.schema[i].dataType, StringType):  # Check if column is string type\n",
    "#        print(f\"================================= {i} ============================================\")\n",
    "#        df.groupBy(i).agg(count(\"*\").alias(\"value_count\")).orderBy(col(\"value_count\")).show(n=2000,truncate=False)"
   ]
  },
  {
   "cell_type": "code",
   "execution_count": null,
   "id": "70f674c4-2754-48a9-9e88-53aab2aee21d",
   "metadata": {
    "scrolled": true
   },
   "outputs": [],
   "source": []
  },
  {
   "cell_type": "code",
   "execution_count": 156,
   "id": "baa4648f-9b02-404b-9081-3e38ce5d7254",
   "metadata": {},
   "outputs": [],
   "source": [
    "#==================================================================================================================\n",
    "#==================================================================================================================\n",
    "#==================================================================================================================\n",
    "#==================================================================================================================\n",
    "#==================================================================================================================\n",
    "#==================================================================================================================\n",
    "#==================================================================================================================\n",
    "#=================================================================================================================="
   ]
  },
  {
   "cell_type": "code",
   "execution_count": 157,
   "id": "6a6dfa96-8afe-499b-87aa-21aeb5032259",
   "metadata": {},
   "outputs": [],
   "source": [
    "#======================================================= customers ===========================================\n",
    "customers_clean = customers.dropDuplicates([\"customer_id\"])\n",
    "customers_clean = customers_clean.filter(length(\"customer_zip_code_prefix\") == 5)\n",
    "customers_clean = customers_clean.filter(length(\"customer_state\") == 2)\n"
   ]
  },
  {
   "cell_type": "code",
   "execution_count": 158,
   "id": "62745fc5-6db6-46f3-b95d-fe46cdbca056",
   "metadata": {},
   "outputs": [],
   "source": [
    "corrections = {\n",
    "    \"sao jorge d oeste\": \"sao jorge do oeste\",\n",
    "    \"estrela d oeste\": \"estrela do oeste\", \n",
    "    \"palma d oeste\": \"palma do oeste\",\n",
    "    \"sao jorge d'oeste\": \"sao jorge do oeste\",\n",
    "    \"estrela d'oeste\": \"estrela do oeste\",\n",
    "    \"palma d'oeste\": \"palma do oeste\",\n",
    "    \"alvorada d'oeste\": \"alvorada do oeste\",\n",
    "    \"diamante d'oeste\": \"diamante do oeste\",\n",
    "    \"rancho alegre d'oeste\": \"rancho alegre do oeste\",\n",
    "    \"bandeirantes d'oeste\": \"bandeirantes do oeste\",\n",
    "    \"santa clara d'oeste\": \"santa clara do oeste\",\n",
    "    \"santa rita d'oeste\": \"santa rita do oeste\",\n",
    "    \"aparecida d'oeste\": \"aparecida do oeste\",\n",
    "    \"palmeira d oeste\": \"palmeira do oeste\",\n",
    "    \"palmeira d'oeste\": \"palmeira do oeste\" ,\n",
    "    'sao paulo - sp': 'sao paulo',\n",
    "    'sao paulo sp': 'sao paulo',\n",
    "    'sp': 'sao paulo',\n",
    "    'sao  paulo': 'sao paulo',\n",
    "    'sao pauo': 'sao paulo',\n",
    "    'sao paulop': 'sao paulo',\n",
    "    'são paulo': 'sao paulo',\n",
    "    'sbc': 'sao bernardo do campo',\n",
    "    'sbc/sp': 'sao bernardo do campo',\n",
    "    'riberao preto': 'ribeirao preto',\n",
    "    'robeirao preto': 'ribeirao preto',\n",
    "    'ribeirao pretp': 'ribeirao preto',\n",
    "    'sando andre': 'santo andre',\n",
    "    'ao bernardo do campo': 'sao bernardo do campo',\n",
    "    'garulhos': 'guarulhos',\n",
    "    'brasilia df': 'brasilia',\n",
    "    'rio de janeiro / rio de janeiro': 'rio de janeiro',\n",
    "    'rio de janeiro, rio de janeiro, brasil': 'rio de janeiro',\n",
    "    'mogi das cruses': 'mogi das cruzes',\n",
    "    'mogi das cruzes / sp': 'mogi das cruzes',\n",
    "    'santo andre/sao paulo': 'santo andre',\n",
    "    \"santa barbara d´oeste\": \"santa barbara d'oeste\",\n",
    "    \"santa barbara d oeste\": \"santa barbara d'oeste\",\n",
    "    'belo horizont': 'belo horizonte',\n",
    "    'cascavael': 'cascavel',\n",
    "    'floranopolis': 'florianopolis',\n",
    "}"
   ]
  },
  {
   "cell_type": "code",
   "execution_count": 159,
   "id": "10b28b50-5740-416d-9c91-7e9dbabd23e2",
   "metadata": {},
   "outputs": [],
   "source": [
    "# الخطوة 1: تنظيف أساسي (يتم تطبيقه مباشرة على العمود الأصلي)\n",
    "customers_clean = customers_clean.withColumn(\n",
    "    \"customer_city\",\n",
    "    lower(trim(regexp_replace(col(\"customer_city\"), \"[^a-zA-ZÀ-ÿ ]\", \"\")))\n",
    ")\n",
    "\n",
    "# الخطوة 2: تصحيح التهجئات الشائعة\n",
    "customers_clean = customers_clean.withColumn(\n",
    "    \"customer_city\",\n",
    "    regexp_replace(col(\"customer_city\"), \"\\\\bd['\\\\s]o\\\\b\", \" do \")\n",
    ")\n",
    "\n",
    "\n",
    "for wrong, correct in corrections.items():\n",
    "    customers_clean = customers_clean.withColumn(\n",
    "        \"customer_city\",\n",
    "        when(col(\"customer_city\") == wrong, correct).otherwise(col(\"customer_city\"))\n",
    ")\n"
   ]
  },
  {
   "cell_type": "code",
   "execution_count": 160,
   "id": "d71d5910-b98b-4c04-98fa-3241cf72745f",
   "metadata": {
    "scrolled": true
   },
   "outputs": [],
   "source": [
    "#print(f\"================================= customer_state ============================================\")\n",
    "#customers.groupBy(\"customer_city\").agg(count(\"*\").alias(\"value_count\")).orderBy(col(\"value_count\")).show(n=20000,truncate=False)"
   ]
  },
  {
   "cell_type": "code",
   "execution_count": 161,
   "id": "5292758f-ca24-485b-b592-178a9f4baf24",
   "metadata": {
    "scrolled": true
   },
   "outputs": [],
   "source": [
    "#print(f\"================================= customer_state ============================================\")\n",
    "#customers_clean.groupBy(\"customer_city\").agg(count(\"*\").alias(\"value_count\")).orderBy(col(\"value_count\")).show(n=20000,truncate=False)"
   ]
  },
  {
   "cell_type": "code",
   "execution_count": 162,
   "id": "1b65af04-7334-4c2d-aa36-175bf8bfe666",
   "metadata": {},
   "outputs": [
    {
     "name": "stdout",
     "output_type": "stream",
     "text": [
      "================================= Distinct customer_city count ============================================\n",
      "عدد القيم المختلفة في customer_city هو: 4078\n"
     ]
    }
   ],
   "source": [
    "print(\"================================= Distinct customer_city count ============================================\")\n",
    "distinct_count = customers_clean.select(\"customer_city\").distinct().count()\n",
    "print(f\"عدد القيم المختلفة في customer_city هو: {distinct_count}\")"
   ]
  },
  {
   "cell_type": "code",
   "execution_count": 163,
   "id": "bda328fc-abcb-4928-b8c9-3c2902a47e1d",
   "metadata": {},
   "outputs": [
    {
     "name": "stdout",
     "output_type": "stream",
     "text": [
      "================================= Distinct customer_city count ============================================\n",
      "عدد القيم المختلفة في customer_city هو: 4119\n"
     ]
    }
   ],
   "source": [
    "print(\"================================= Distinct customer_city count ============================================\")\n",
    "distinct_count = customers.select(\"customer_city\").distinct().count()\n",
    "print(f\"عدد القيم المختلفة في customer_city هو: {distinct_count}\")"
   ]
  },
  {
   "cell_type": "code",
   "execution_count": 164,
   "id": "5091b138-2a16-4ee7-8799-8fbd07ff20de",
   "metadata": {},
   "outputs": [
    {
     "name": "stdout",
     "output_type": "stream",
     "text": [
      "root\n",
      " |-- customer_id: string (nullable = true)\n",
      " |-- customer_unique_id: string (nullable = true)\n",
      " |-- customer_zip_code_prefix: long (nullable = true)\n",
      " |-- customer_city: string (nullable = true)\n",
      " |-- customer_state: string (nullable = true)\n",
      "\n"
     ]
    }
   ],
   "source": [
    "customers_clean.printSchema()"
   ]
  },
  {
   "cell_type": "code",
   "execution_count": 165,
   "id": "9e950b62-85b8-4623-a6a0-29d42eab0bab",
   "metadata": {},
   "outputs": [],
   "source": [
    "#======================================================= products ===========================================\n",
    "products_clean = products.filter(products.product_category_name.isNotNull())\n",
    "products_clean = products_clean.dropna(subset=[\n",
    "    \"product_weight_g\", \"product_length_cm\", \"product_height_cm\", \"product_width_cm\"\n",
    "])\n",
    "products_clean = products_clean \\\n",
    "    .withColumn(\"product_name_lenght\", col(\"product_name_lenght\").cast(\"int\")) \\\n",
    "    .withColumn(\"product_description_lenght\", col(\"product_description_lenght\").cast(\"int\")) \\\n",
    "    .withColumn(\"product_photos_qty\", col(\"product_photos_qty\").cast(\"int\")) \\\n",
    "    .withColumn(\"product_weight_g\", col(\"product_weight_g\").cast(\"int\")) \\\n",
    "    .withColumn(\"product_length_cm\", col(\"product_length_cm\").cast(\"int\")) \\\n",
    "    .withColumn(\"product_height_cm\", col(\"product_height_cm\").cast(\"int\")) \\\n",
    "    .withColumn(\"product_width_cm\", col(\"product_width_cm\").cast(\"int\"))\n",
    "\n",
    "products_clean = products_clean.withColumn(\n",
    "    \"product_volume_cm3\",\n",
    "    expr(\"product_length_cm * product_height_cm * product_width_cm\")\n",
    ")\n",
    "products_clean = products_clean.withColumn(\n",
    "    \"product_category_name\", trim(lower(\"product_category_name\"))\n",
    ")\n"
   ]
  },
  {
   "cell_type": "code",
   "execution_count": 166,
   "id": "b984cfe1-ceaa-4439-b209-afeddacca5bc",
   "metadata": {},
   "outputs": [
    {
     "name": "stdout",
     "output_type": "stream",
     "text": [
      "root\n",
      " |-- product_id: string (nullable = true)\n",
      " |-- product_category_name: string (nullable = true)\n",
      " |-- product_name_lenght: integer (nullable = true)\n",
      " |-- product_description_lenght: integer (nullable = true)\n",
      " |-- product_photos_qty: integer (nullable = true)\n",
      " |-- product_weight_g: integer (nullable = true)\n",
      " |-- product_length_cm: integer (nullable = true)\n",
      " |-- product_height_cm: integer (nullable = true)\n",
      " |-- product_width_cm: integer (nullable = true)\n",
      " |-- product_volume_cm3: integer (nullable = true)\n",
      "\n"
     ]
    }
   ],
   "source": [
    "products_clean.printSchema()"
   ]
  },
  {
   "cell_type": "code",
   "execution_count": 167,
   "id": "5c24da58-ed1c-4487-915d-dcd332c22784",
   "metadata": {},
   "outputs": [],
   "source": [
    "#======================================================= product_category_translation ===========================================\n",
    "product_category_translation_clean = product_category_translation.withColumn(\n",
    "    \"product_category_name\", trim(lower(\"product_category_name\"))\n",
    ")\n"
   ]
  },
  {
   "cell_type": "code",
   "execution_count": 168,
   "id": "df1ae30b-f955-4959-b0db-6ca3b0980154",
   "metadata": {},
   "outputs": [],
   "source": [
    "#=======================================================  product ===========================================\n",
    "products_enriched = products_clean.join(\n",
    "    product_category_translation_clean,\n",
    "    on=\"product_category_name\",\n",
    "    how=\"left\"\n",
    ")"
   ]
  },
  {
   "cell_type": "code",
   "execution_count": 169,
   "id": "224b8743-779e-4f22-aa2f-6772e78f22a0",
   "metadata": {},
   "outputs": [],
   "source": [
    "#======================================================= orders ===========================================\n",
    "\n",
    "orders_clean = orders.filter(\n",
    "    ~col(\"order_status\").isin(\"created\", \"approved\")\n",
    ")\n",
    "\n",
    "orders_clean = orders_clean \\\n",
    "    .withColumn(\"order_purchase_timestamp\", to_timestamp(\"order_purchase_timestamp\")) \\\n",
    "    .withColumn(\"order_approved_at\", to_timestamp(\"order_approved_at\")) \\\n",
    "    .withColumn(\"order_delivered_carrier_date\", to_timestamp(\"order_delivered_carrier_date\")) \\\n",
    "    .withColumn(\"order_delivered_customer_date\", to_timestamp(\"order_delivered_customer_date\")) \\\n",
    "    .withColumn(\"order_estimated_delivery_date\", to_timestamp(\"order_estimated_delivery_date\"))\n",
    "\n",
    "orders_clean = orders_clean.withColumn(\n",
    "    \"shipping_days\",\n",
    "    datediff(\"order_delivered_customer_date\", \"order_purchase_timestamp\")\n",
    ")\n",
    "orders_clean = orders_clean.withColumn(\n",
    "    \"delivery_delay\",\n",
    "    datediff(\"order_delivered_customer_date\", \"order_estimated_delivery_date\")\n",
    ")"
   ]
  },
  {
   "cell_type": "code",
   "execution_count": 170,
   "id": "fd3a7da7-f884-4240-b3a4-a821f84b3306",
   "metadata": {},
   "outputs": [
    {
     "data": {
      "text/plain": [
       "True"
      ]
     },
     "execution_count": 170,
     "metadata": {},
     "output_type": "execute_result"
    }
   ],
   "source": [
    "orders_clean.select(\"order_id\").distinct().count() == orders_clean.count()"
   ]
  },
  {
   "cell_type": "code",
   "execution_count": 171,
   "id": "60c35027-b15b-4f75-af7c-a82eb8353104",
   "metadata": {},
   "outputs": [],
   "source": [
    "#======================================================= order_items ===========================================\n",
    "#order_items_clean = order_items_clean.filter((col(\"price\") <= 0) | (col(\"freight_value\") < 0))\n",
    "order_items_clean = order_items.withColumn(\n",
    "    \"shipping_limit_date\", to_timestamp(\"shipping_limit_date\")\n",
    ")\n",
    "\n",
    "# نحتفظ بالصفوف اللي سعرها أكبر من صفر\n",
    "order_items_clean = order_items_clean.filter((col(\"price\") > 0) & (col(\"freight_value\") >= 0))\n",
    "\n",
    "# نضيف total_cost\n",
    "order_items_clean = order_items_clean.withColumn(\n",
    "    \"total_cost\", expr(\"price + freight_value\")\n",
    ")"
   ]
  },
  {
   "cell_type": "code",
   "execution_count": 172,
   "id": "ec5fff09-0569-40fc-ba9b-92b7e2fb03d7",
   "metadata": {},
   "outputs": [],
   "source": [
    "#order_items.show(200)"
   ]
  },
  {
   "cell_type": "code",
   "execution_count": 173,
   "id": "9178ce0d-08ff-411d-a80a-daaf3610106d",
   "metadata": {},
   "outputs": [],
   "source": [
    "#======================================================= order_reviews ===========================================\n",
    "order_reviews_clean = order_reviews \\\n",
    "    .withColumn(\"review_creation_date\", to_timestamp(\"review_creation_date\")) \\\n",
    "    .withColumn(\"review_answer_timestamp\", to_timestamp(\"review_answer_timestamp\"))\n",
    "\n",
    "order_reviews_clean = order_reviews_clean \\\n",
    "    .withColumn(\"has_message\", when(order_reviews_clean.review_comment_message.isNull(), 0).otherwise(1)) \\\n",
    "    .withColumn(\"has_title\", when(order_reviews_clean.review_comment_title.isNull(), 0).otherwise(1))\n",
    "\n",
    "order_reviews_clean = order_reviews_clean \\\n",
    "    .withColumn(\"clean_comment_message\", trim(lower(regexp_replace(\"review_comment_message\", \"[^a-zA-Z0-9çãáéíóúâêôõüàèìòùÇÃÁÉÍÓÚÂÊÔÕÜÀÈÌÒÙ ]\", \"\")))) \\\n",
    "    .withColumn(\"clean_comment_title\", trim(lower(regexp_replace(\"review_comment_title\", \"[^a-zA-Z0-9çãáéíóúâêôõüàèìòùÇÃÁÉÍÓÚÂÊÔÕÜÀÈÌÒÙ ]\", \"\"))))\n",
    "\n",
    "order_reviews_clean = order_reviews_clean.withColumn(\n",
    "    \"review_sentiment\",\n",
    "    when(col(\"review_score\") >= 4, \"positive\")\n",
    "    .when(col(\"review_score\") == 3, \"neutral\")\n",
    "    .otherwise(\"negative\")\n",
    ")"
   ]
  },
  {
   "cell_type": "code",
   "execution_count": null,
   "id": "42f82c70-44bd-4c7a-b570-566cc797b2ad",
   "metadata": {},
   "outputs": [],
   "source": []
  },
  {
   "cell_type": "code",
   "execution_count": 174,
   "id": "ef6c0c11-ccb0-42f4-8e98-9e97aa2d5873",
   "metadata": {},
   "outputs": [],
   "source": [
    "#======================================================= order_payments ===========================================\n",
    "\n",
    "order_payments_clean = order_payments.groupBy(\"order_id\").agg(\n",
    "    sum(\"payment_value\").alias(\"total_payment\"),\n",
    "    sum(\"payment_installments\").alias(\"total_installments\"),\n",
    "    count_distinct(\"payment_type\").alias(\"payment_methods_count\"),\n",
    "    first(\"payment_type\").alias(\"main_payment_type\")\n",
    ")"
   ]
  },
  {
   "cell_type": "code",
   "execution_count": 175,
   "id": "12efa717-841a-4f4e-b939-1ead99abfb9d",
   "metadata": {},
   "outputs": [],
   "source": [
    "#=======================================================  order ===========================================\n",
    "#=======================================================\n",
    "#inner\n",
    "#=======================================================\n",
    "orders_items_joined = orders_clean.join(\n",
    "    order_items_clean,\n",
    "    on=\"order_id\",\n",
    "    how=\"left\"\n",
    ")\n",
    "orders_items_payments_joined = orders_items_joined.join(\n",
    "    order_payments_clean,\n",
    "    on=\"order_id\",\n",
    "    how=\"left\"\n",
    ")\n",
    "orders_full_cleaned = orders_items_payments_joined.join(\n",
    "    order_reviews_clean,\n",
    "    on=\"order_id\",\n",
    "    how=\"left\"\n",
    ")\n"
   ]
  },
  {
   "cell_type": "code",
   "execution_count": 176,
   "id": "7f5b03ac-7ff6-48b6-92f5-b18967d753d6",
   "metadata": {},
   "outputs": [],
   "source": [
    "#orders_clean.select(\"seller_id\", \"product_id\",\"shipping_limit_date\", \"price\",\"freight_value\", \"total_cost\").show()\n"
   ]
  },
  {
   "cell_type": "code",
   "execution_count": 177,
   "id": "a0a840a8-51d6-4a9e-b37e-634b39cdbf50",
   "metadata": {},
   "outputs": [],
   "source": [
    "#=======================================================  sellers ===========================================\n",
    "# الخطوة 1: تنظيف أساسي (يتم تطبيقه مباشرة على العمود الأصلي)\n",
    "sellers_cleaned = sellers.withColumn(\n",
    "    \"seller_city\",\n",
    "    lower(trim(regexp_replace(col(\"seller_city\"), \"[^a-zA-ZÀ-ÿ ]\", \"\")))\n",
    ")\n",
    "\n",
    "# الخطوة 2: تصحيح التهجئات الشائعة\n",
    "sellers_cleaned = sellers_cleaned.withColumn(\n",
    "    \"seller_city\",\n",
    "    regexp_replace(col(\"seller_city\"), \"\\\\bd['\\\\s]o\\\\b\", \" do \")\n",
    ")\n",
    "\n",
    "\n",
    "for wrong, correct in corrections.items():\n",
    "    sellers_cleaned = sellers_cleaned.withColumn(\n",
    "        \"seller_city\",\n",
    "        when(col(\"seller_city\") == wrong, correct).otherwise(col(\"seller_city\"))\n",
    ")\n"
   ]
  },
  {
   "cell_type": "code",
   "execution_count": 178,
   "id": "905a2e63-5449-47ee-9695-1f42fc83cc33",
   "metadata": {},
   "outputs": [],
   "source": [
    "#=======================================================  geolocation ===========================================\n",
    "geolocation_clean = geolocation.dropna(subset=[\n",
    "    \"geolocation_zip_code_prefix\", \n",
    "    \"geolocation_lat\", \n",
    "    \"geolocation_lng\", \n",
    "    \"geolocation_city\", \n",
    "    \"geolocation_state\"\n",
    "]).dropDuplicates([\"geolocation_zip_code_prefix\", \"geolocation_city\", \"geolocation_state\"])\n"
   ]
  },
  {
   "cell_type": "code",
   "execution_count": 179,
   "id": "d976b747-8fd2-4066-b9d1-402ef5fb01d4",
   "metadata": {
    "scrolled": true
   },
   "outputs": [],
   "source": [
    "#tables = {\n",
    "#    \"customers_clean\": customers_clean,\n",
    "#    \"products_enriched\": products_enriched, \n",
    "#    \"orders_full_cleaned\": orders_full_cleaned,\n",
    "#    \"sellers_cleaned\": sellers_cleaned,\n",
    "#    \"geolocation_clean\": geolocation_clean\n",
    "#}\n",
    "\n",
    "#for name, df in tables.items():\n",
    "#    print(f\"\\n=== Schema for {name} ===\")\n",
    "#    df.printSchema()"
   ]
  },
  {
   "cell_type": "code",
   "execution_count": 180,
   "id": "e7d300f8-9a09-44c2-ad73-b7e9f8130217",
   "metadata": {},
   "outputs": [],
   "source": [
    "#================================================================================================================\n",
    "#================================================================================================================\n",
    "#================================================================================================================\n",
    "#================================================================================================================\n",
    "#================================================================================================================\n",
    "#================================================================================================================\n",
    "#================================================================================================================"
   ]
  },
  {
   "cell_type": "code",
   "execution_count": 181,
   "id": "0ccdfcfa-f09f-4c0f-a889-0193ad1ed015",
   "metadata": {},
   "outputs": [],
   "source": [
    "dim_customers = customers_clean.select(\n",
    "    \"customer_id\",\n",
    "    \"customer_unique_id\",\n",
    "    \"customer_zip_code_prefix\",\n",
    "    \"customer_city\",\n",
    "    \"customer_state\"\n",
    ").dropDuplicates([\"customer_id\"])\n"
   ]
  },
  {
   "cell_type": "code",
   "execution_count": 182,
   "id": "be2bd319-010e-4d16-9172-eeb87d02f7f1",
   "metadata": {},
   "outputs": [],
   "source": [
    "dim_sellers = sellers_cleaned.select(\n",
    "    \"seller_id\",\n",
    "    \"seller_zip_code_prefix\",\n",
    "    \"seller_city\",\n",
    "    \"seller_state\"\n",
    ").dropDuplicates([\"seller_id\"])\n"
   ]
  },
  {
   "cell_type": "code",
   "execution_count": 183,
   "id": "ee166faf-4918-48e7-87a4-4d904de57b91",
   "metadata": {},
   "outputs": [],
   "source": [
    "dim_products = products_enriched.select(\n",
    "    \"product_id\",\n",
    "    \"product_category_name\",\n",
    "    \"product_category_name_english\",\n",
    "    \"product_name_lenght\",\n",
    "    \"product_description_lenght\",\n",
    "    \"product_photos_qty\",\n",
    "    \"product_weight_g\",\n",
    "    \"product_length_cm\",\n",
    "    \"product_height_cm\",\n",
    "    \"product_width_cm\",\n",
    "    \"product_volume_cm3\"\n",
    ").dropDuplicates([\"product_id\"])\n"
   ]
  },
  {
   "cell_type": "code",
   "execution_count": 184,
   "id": "e1037620-8d6c-400b-b929-8b781a01e8bd",
   "metadata": {},
   "outputs": [],
   "source": [
    "#dim_geolocation = geolocation_clean.select(\n",
    "#    col(\"geolocation_zip_code_prefix\").alias(\"zip_code_prefix\"),\n",
    "#    \"geolocation_lat\",\n",
    "#    \"geolocation_lng\",\n",
    "#    \"geolocation_city\",\n",
    "#    \"geolocation_state\"\n",
    "#).dropDuplicates([\"zip_code_prefix\"])\n"
   ]
  },
  {
   "cell_type": "code",
   "execution_count": 185,
   "id": "bf7716ad-fc52-4d44-9698-94b218992351",
   "metadata": {},
   "outputs": [],
   "source": [
    "min_max = orders_full_cleaned.select(\n",
    "    min(\"order_purchase_timestamp\").alias(\"start\"),\n",
    "    max(\"order_purchase_timestamp\").alias(\"end\")\n",
    ").first()\n",
    "\n",
    "start_date = min_max[\"start\"].date()\n",
    "end_date = min_max[\"end\"].date()\n",
    "\n",
    "date_df = spark.sql(f\"\"\"\n",
    "    SELECT explode(sequence(to_date('{start_date}'), to_date('{end_date}'), interval 1 day)) as date_key\n",
    "\"\"\")\n",
    "\n",
    "dim_date = date_df.withColumn(\"day\", dayofmonth(\"date_key\")) \\\n",
    "                  .withColumn(\"month\", month(\"date_key\")) \\\n",
    "                  .withColumn(\"year\", year(\"date_key\")) \\\n",
    "                  .withColumn(\"day_of_week\", date_format(\"date_key\", \"E\")) \\\n",
    "                  .withColumn(\"week_of_year\", weekofyear(\"date_key\")) \\\n",
    "                  .withColumn(\"day_name\", date_format(\"date_key\", \"EEEE\")) \\\n",
    "                  .withColumn(\"month_name\", date_format(\"date_key\", \"MMMM\"))"
   ]
  },
  {
   "cell_type": "code",
   "execution_count": 186,
   "id": "4f36b004-4987-4308-a88a-59db8bcd781b",
   "metadata": {},
   "outputs": [],
   "source": [
    "\n",
    "fact_orders = orders_full_cleaned.select(\n",
    "    \"order_id\",\n",
    "    \"customer_id\",\n",
    "    \"seller_id\",\n",
    "    \"product_id\",\n",
    "\n",
    "    # 🔑 تواريخ على هيئة timestamps\n",
    "    \"order_purchase_timestamp\",\n",
    "    \"shipping_limit_date\",\n",
    "    \"order_delivered_carrier_date\",\n",
    "    \"order_delivered_customer_date\",\n",
    "    \"order_estimated_delivery_date\",\n",
    "\n",
    "    # 🔢 measures\n",
    "    \"shipping_days\",\n",
    "    \"delivery_delay\",\n",
    "    \"price\",\n",
    "    \"freight_value\",\n",
    "    \"total_cost\",\n",
    "    \"total_payment\",\n",
    "    \"total_installments\",\n",
    "    \"payment_methods_count\",    # أضفناه\n",
    "    \"main_payment_type\",\n",
    "\n",
    "    # 🔍 تقييم العميل (score + sentiment فقط)\n",
    "    \"review_score\",\n",
    "    \"review_sentiment\",\n",
    "\n",
    "    # ▶️ مفاتيح التواريخ لربط dim_date\n",
    "    to_date(\"order_purchase_timestamp\").alias(\"purchase_date_key\"),\n",
    "    to_date(\"order_delivered_customer_date\").alias(\"delivered_date_key\"),\n",
    "    to_date(\"order_estimated_delivery_date\").alias(\"estimated_date_key\")\n",
    ")\n"
   ]
  },
  {
   "cell_type": "code",
   "execution_count": 187,
   "id": "b76eb949-d024-4fd6-9d67-4b69866bacfc",
   "metadata": {
    "scrolled": true
   },
   "outputs": [],
   "source": [
    "#tables = {\n",
    "#    \"dim_customers\": dim_customers,\n",
    "#    \"dim_sellers\": dim_sellers, \n",
    "#    \"dim_products\": dim_products,\n",
    "#    \"dim_date\": dim_date,\n",
    "#    \"fact_orders\": fact_orders\n",
    "#}\n",
    "\n",
    "#for name, df in tables.items():\n",
    "#    print(f\"\\n=== Schema for {name} ===\")\n",
    "#    df.printSchema()"
   ]
  },
  {
   "cell_type": "code",
   "execution_count": 188,
   "id": "0a95715a-ee85-4501-a83c-b10686c238ec",
   "metadata": {},
   "outputs": [],
   "source": [
    "#===================================================================================================================\n",
    "#===================================================================================================================\n",
    "#===================================================================================================================\n",
    "#===================================================================================================================\n",
    "#===================================================================================================================\n",
    "#===================================================================================================================\n",
    "#==================================================================================================================="
   ]
  },
  {
   "cell_type": "code",
   "execution_count": 189,
   "id": "090da55c-d818-4fd0-9754-91fb989e2216",
   "metadata": {},
   "outputs": [
    {
     "name": "stderr",
     "output_type": "stream",
     "text": [
      "25/07/21 19:37:01 WARN SparkSession: Using an existing Spark session; only runtime SQL configurations will take effect.\n"
     ]
    }
   ],
   "source": [
    "spark = SparkSession.builder \\\n",
    "    .appName(\"ClickHouseWriter\") \\\n",
    "    .getOrCreate()\n"
   ]
  },
  {
   "cell_type": "code",
   "execution_count": 190,
   "id": "e2675e54-fb98-4d7f-a1e3-1ae40a0e6ab0",
   "metadata": {},
   "outputs": [],
   "source": [
    "clickhouse_url = \"jdbc:clickhouse://clickhouse:8123/ecommerce\"\n",
    "clickhouse_properties = {\n",
    "    \"user\": \"default\",\n",
    "    \"password\": \"123\",\n",
    "    \"driver\": \"com.clickhouse.jdbc.ClickHouseDriver\"\n",
    "}"
   ]
  },
  {
   "cell_type": "code",
   "execution_count": 191,
   "id": "4533a3f6-d981-4ab9-96cd-86647e122158",
   "metadata": {},
   "outputs": [
    {
     "name": "stderr",
     "output_type": "stream",
     "text": [
      "                                                                                "
     ]
    }
   ],
   "source": [
    "dim_customers.write.jdbc(clickhouse_url, \"dim_customers\", mode=\"append\", properties=clickhouse_properties)\n",
    "dim_sellers.write.jdbc(clickhouse_url, \"dim_sellers\", mode=\"append\", properties=clickhouse_properties)\n",
    "dim_products.write.jdbc(clickhouse_url, \"dim_products\", mode=\"append\", properties=clickhouse_properties)\n",
    "dim_date.write.jdbc(clickhouse_url, \"dim_date\", mode=\"append\", properties=clickhouse_properties)\n",
    "fact_orders.write.jdbc(clickhouse_url, \"fact_orders\", mode=\"append\", properties=clickhouse_properties)\n"
   ]
  },
  {
   "cell_type": "code",
   "execution_count": null,
   "id": "d6ec28ed-332d-44b4-a53a-b3c38b2644c7",
   "metadata": {},
   "outputs": [],
   "source": []
  },
  {
   "cell_type": "code",
   "execution_count": 192,
   "id": "28fe5598-87fa-4bfa-bde9-7eca0d829d09",
   "metadata": {},
   "outputs": [
    {
     "name": "stderr",
     "output_type": "stream",
     "text": [
      "25/07/21 19:40:41 WARN JavaUtils: Attempt to delete using native Unix OS command failed for path = /tmp/blockmgr-12a88760-d7a3-4b8d-950c-590d8e1d7a46. Falling back to Java IO way\n",
      "java.io.IOException: Failed to delete: /tmp/blockmgr-12a88760-d7a3-4b8d-950c-590d8e1d7a46\n",
      "\tat org.apache.spark.network.util.JavaUtils.deleteRecursivelyUsingUnixNative(JavaUtils.java:177)\n",
      "\tat org.apache.spark.network.util.JavaUtils.deleteRecursively(JavaUtils.java:113)\n",
      "\tat org.apache.spark.network.util.JavaUtils.deleteRecursively(JavaUtils.java:94)\n",
      "\tat org.apache.spark.util.Utils$.deleteRecursively(Utils.scala:1231)\n",
      "\tat org.apache.spark.storage.DiskBlockManager.$anonfun$doStop$1(DiskBlockManager.scala:368)\n",
      "\tat org.apache.spark.storage.DiskBlockManager.$anonfun$doStop$1$adapted(DiskBlockManager.scala:364)\n",
      "\tat scala.collection.IndexedSeqOptimized.foreach(IndexedSeqOptimized.scala:36)\n",
      "\tat scala.collection.IndexedSeqOptimized.foreach$(IndexedSeqOptimized.scala:33)\n",
      "\tat scala.collection.mutable.ArrayOps$ofRef.foreach(ArrayOps.scala:198)\n",
      "\tat org.apache.spark.storage.DiskBlockManager.doStop(DiskBlockManager.scala:364)\n",
      "\tat org.apache.spark.storage.DiskBlockManager.stop(DiskBlockManager.scala:359)\n",
      "\tat org.apache.spark.storage.BlockManager.stop(BlockManager.scala:2048)\n",
      "\tat org.apache.spark.SparkEnv.stop(SparkEnv.scala:95)\n",
      "\tat org.apache.spark.SparkContext.$anonfun$stop$25(SparkContext.scala:2175)\n",
      "\tat org.apache.spark.util.Utils$.tryLogNonFatalError(Utils.scala:1509)\n",
      "\tat org.apache.spark.SparkContext.stop(SparkContext.scala:2175)\n",
      "\tat org.apache.spark.SparkContext.stop(SparkContext.scala:2081)\n",
      "\tat org.apache.spark.SparkContext.$anonfun$new$31(SparkContext.scala:664)\n",
      "\tat org.apache.spark.util.SparkShutdownHook.run(ShutdownHookManager.scala:214)\n",
      "\tat org.apache.spark.util.SparkShutdownHookManager.$anonfun$runAll$2(ShutdownHookManager.scala:188)\n",
      "\tat scala.runtime.java8.JFunction0$mcV$sp.apply(JFunction0$mcV$sp.java:23)\n",
      "\tat org.apache.spark.util.Utils$.logUncaughtExceptions(Utils.scala:2088)\n",
      "\tat org.apache.spark.util.SparkShutdownHookManager.$anonfun$runAll$1(ShutdownHookManager.scala:188)\n",
      "\tat scala.runtime.java8.JFunction0$mcV$sp.apply(JFunction0$mcV$sp.java:23)\n",
      "\tat scala.util.Try$.apply(Try.scala:213)\n",
      "\tat org.apache.spark.util.SparkShutdownHookManager.runAll(ShutdownHookManager.scala:188)\n",
      "\tat org.apache.spark.util.SparkShutdownHookManager$$anon$2.run(ShutdownHookManager.scala:178)\n",
      "\tat java.base/java.util.concurrent.Executors$RunnableAdapter.call(Executors.java:539)\n",
      "\tat java.base/java.util.concurrent.FutureTask.run(FutureTask.java:264)\n",
      "\tat java.base/java.util.concurrent.ThreadPoolExecutor.runWorker(ThreadPoolExecutor.java:1136)\n",
      "\tat java.base/java.util.concurrent.ThreadPoolExecutor$Worker.run(ThreadPoolExecutor.java:635)\n",
      "\tat java.base/java.lang.Thread.run(Thread.java:840)\n"
     ]
    }
   ],
   "source": [
    "#fact_orders.show(100)"
   ]
  }
 ],
 "metadata": {
  "kernelspec": {
   "display_name": "Python 3 (ipykernel)",
   "language": "python",
   "name": "python3"
  },
  "language_info": {
   "codemirror_mode": {
    "name": "ipython",
    "version": 3
   },
   "file_extension": ".py",
   "mimetype": "text/x-python",
   "name": "python",
   "nbconvert_exporter": "python",
   "pygments_lexer": "ipython3",
   "version": "3.11.8"
  }
 },
 "nbformat": 4,
 "nbformat_minor": 5
}

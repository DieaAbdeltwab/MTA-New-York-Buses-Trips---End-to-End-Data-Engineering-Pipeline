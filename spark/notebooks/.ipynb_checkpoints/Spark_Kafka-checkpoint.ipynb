{
 "cells": [
  {
   "cell_type": "code",
   "execution_count": 1,
   "id": "059b6157",
   "metadata": {},
   "outputs": [],
   "source": [
    "from pyspark.sql import SparkSession"
   ]
  },
  {
   "cell_type": "code",
   "execution_count": 2,
   "id": "c8e27796-0785-401a-8067-920a2988e570",
   "metadata": {},
   "outputs": [
    {
     "name": "stderr",
     "output_type": "stream",
     "text": [
      "Setting default log level to \"WARN\".\n",
      "To adjust logging level use sc.setLogLevel(newLevel). For SparkR, use setLogLevel(newLevel).\n",
      "25/07/13 10:59:26 WARN NativeCodeLoader: Unable to load native-hadoop library for your platform... using builtin-java classes where applicable\n",
      "25/07/13 10:59:27 WARN Utils: Service 'SparkUI' could not bind on port 4040. Attempting port 4041.\n",
      "25/07/13 10:59:27 WARN Utils: Service 'SparkUI' could not bind on port 4041. Attempting port 4042.\n"
     ]
    }
   ],
   "source": [
    "# App 2\n",
    "spark = (SparkSession.builder\n",
    "         .appName(\"KafkaStructuredStreaming\")\n",
    "         .config(\"spark.executor.cores\", \"4\")\n",
    "         .config(\"spark.cores.max\", \"4\")\n",
    "         .getOrCreate())"
   ]
  },
  {
   "cell_type": "code",
   "execution_count": 3,
   "id": "478a8886-5bce-4f59-b57b-148e59329cfe",
   "metadata": {},
   "outputs": [],
   "source": [
    "df = spark.readStream \\\n",
    "    .format(\"kafka\") \\\n",
    "    .option(\"kafka.bootstrap.servers\", \"broker:29092\") \\\n",
    "    .option(\"subscribe\", \"demo.ecomm.users\") \\\n",
    "    .option(\"startingOffsets\", \"earliest\") \\\n",
    "    .load()\n",
    "\n"
   ]
  },
  {
   "cell_type": "code",
   "execution_count": 4,
   "id": "4841641b-dd0f-4a5c-a60d-c8b6cd3e93dc",
   "metadata": {},
   "outputs": [
    {
     "name": "stderr",
     "output_type": "stream",
     "text": [
      "25/07/13 10:59:35 WARN ResolveWriteToStream: Temporary checkpoint location created which is deleted normally when the query didn't fail: /tmp/temporary-112db72a-e488-4df1-bf21-22a5a16331f5. If it's required to delete it under any circumstances, please set spark.sql.streaming.forceDeleteTempCheckpointLocation to true. Important to know deleting temp checkpoint folder is best effort.\n",
      "25/07/13 10:59:35 WARN ResolveWriteToStream: spark.sql.adaptive.enabled is not supported in streaming DataFrames/Datasets and will be disabled.\n",
      "25/07/13 10:59:35 WARN AdminClientConfig: These configurations '[key.deserializer, value.deserializer, enable.auto.commit, max.poll.records, auto.offset.reset]' were supplied but are not used yet.\n",
      "                                                                                "
     ]
    },
    {
     "name": "stdout",
     "output_type": "stream",
     "text": [
      "-------------------------------------------\n",
      "Batch: 0\n",
      "-------------------------------------------\n",
      "+----+--------+-----+--------+----------+----+\n",
      "|id  |username|email|password|created_at|op  |\n",
      "+----+--------+-----+--------+----------+----+\n",
      "|null|null    |null |null    |null      |null|\n",
      "|null|null    |null |null    |null      |null|\n",
      "|null|null    |null |null    |null      |null|\n",
      "+----+--------+-----+--------+----------+----+\n",
      "\n"
     ]
    },
    {
     "name": "stderr",
     "output_type": "stream",
     "text": [
      "                                                                                "
     ]
    },
    {
     "name": "stdout",
     "output_type": "stream",
     "text": [
      "-------------------------------------------\n",
      "Batch: 1\n",
      "-------------------------------------------\n",
      "+----+--------+-----+--------+----------+----+\n",
      "|id  |username|email|password|created_at|op  |\n",
      "+----+--------+-----+--------+----------+----+\n",
      "|null|null    |null |null    |null      |null|\n",
      "|null|null    |null |null    |null      |null|\n",
      "|null|null    |null |null    |null      |null|\n",
      "+----+--------+-----+--------+----------+----+\n",
      "\n"
     ]
    }
   ],
   "source": [
    "from pyspark.sql.functions import from_json, col\n",
    "from pyspark.sql.types import StructType, StructField, StringType, IntegerType, TimestampType\n",
    "\n",
    "# 1. Define schema for Debezium JSON\n",
    "debezium_schema = StructType([\n",
    "    StructField(\"before\", StructType([\n",
    "        StructField(\"id\", IntegerType()),\n",
    "        StructField(\"username\", StringType()),\n",
    "        StructField(\"email\", StringType()),\n",
    "        StructField(\"password\", StringType()),\n",
    "        StructField(\"created_at\", StringType())\n",
    "    ]), True),\n",
    "    StructField(\"after\", StructType([\n",
    "        StructField(\"id\", IntegerType()),\n",
    "        StructField(\"username\", StringType()),\n",
    "        StructField(\"email\", StringType()),\n",
    "        StructField(\"password\", StringType()),\n",
    "        StructField(\"created_at\", StringType())\n",
    "    ]), True),\n",
    "    StructField(\"source\", StructType([\n",
    "        StructField(\"db\", StringType()),\n",
    "        StructField(\"table\", StringType())\n",
    "    ]), True),\n",
    "    StructField(\"op\", StringType())\n",
    "])\n",
    "\n",
    "# 2. Cast value to string and parse JSON\n",
    "df_string = df.selectExpr(\"CAST(value AS STRING) as json_str\")\n",
    "\n",
    "parsed_df = df_string.select(from_json(col(\"json_str\"), debezium_schema).alias(\"data\"))\n",
    "\n",
    "# 3. Flatten to select only 'after' data (i.e., inserted/updated row)\n",
    "flattened = parsed_df.select(\"data.after.*\", \"data.op\")\n",
    "\n",
    "# 4. Show in console\n",
    "query = flattened.writeStream \\\n",
    "    .outputMode(\"append\") \\\n",
    "    .format(\"console\") \\\n",
    "    .option(\"truncate\", \"false\") \\\n",
    "    .start()\n"
   ]
  },
  {
   "cell_type": "code",
   "execution_count": null,
   "id": "abe92630-29f6-454d-8fd7-c6dfd923e8e9",
   "metadata": {},
   "outputs": [],
   "source": []
  }
 ],
 "metadata": {
  "kernelspec": {
   "display_name": "Python 3 (ipykernel)",
   "language": "python",
   "name": "python3"
  },
  "language_info": {
   "codemirror_mode": {
    "name": "ipython",
    "version": 3
   },
   "file_extension": ".py",
   "mimetype": "text/x-python",
   "name": "python",
   "nbconvert_exporter": "python",
   "pygments_lexer": "ipython3",
   "version": "3.11.8"
  }
 },
 "nbformat": 4,
 "nbformat_minor": 5
}

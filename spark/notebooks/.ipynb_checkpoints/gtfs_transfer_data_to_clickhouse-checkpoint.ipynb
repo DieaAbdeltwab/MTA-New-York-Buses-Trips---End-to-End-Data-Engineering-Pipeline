{
 "cells": [
  {
   "cell_type": "code",
   "execution_count": 2,
   "id": "f2576781-c705-43ba-ba0f-fde56b5ab6c3",
   "metadata": {},
   "outputs": [],
   "source": [
    "from pyspark.sql import SparkSession\n",
    "from pyspark.sql.functions import to_date\n",
    "\n"
   ]
  },
  {
   "cell_type": "code",
   "execution_count": 3,
   "id": "aec7ba79-3830-4b36-a137-5d425d36436f",
   "metadata": {},
   "outputs": [
    {
     "name": "stderr",
     "output_type": "stream",
     "text": [
      "Setting default log level to \"WARN\".\n",
      "To adjust logging level use sc.setLogLevel(newLevel). For SparkR, use setLogLevel(newLevel).\n",
      "25/08/01 15:11:13 WARN NativeCodeLoader: Unable to load native-hadoop library for your platform... using builtin-java classes where applicable\n"
     ]
    }
   ],
   "source": [
    "spark = SparkSession.builder \\\n",
    "    .appName(\"Read from PostgreSQL\") \\\n",
    "    .config(\"spark.executor.cores\", \"8\") \\\n",
    "    .config(\"spark.driver.memory\", \"2g\") \\\n",
    "    .config(\"spark.executor.memory\", \"8g\") \\\n",
    "    .getOrCreate()"
   ]
  },
  {
   "cell_type": "code",
   "execution_count": 4,
   "id": "b626c4a2-5cb9-4c23-a0b3-a3a373116723",
   "metadata": {},
   "outputs": [],
   "source": [
    "jdbc_url_pg = \"jdbc:postgresql://postgres:5432/gtfs_batch\"\n",
    "pg_properties = {\n",
    "    \"user\": \"admin\",\n",
    "    \"password\": \"password\",\n",
    "    \"driver\": \"org.postgresql.Driver\"\n",
    "}"
   ]
  },
  {
   "cell_type": "code",
   "execution_count": 5,
   "id": "d0e47665-7dda-4751-8f4c-1915963fc18e",
   "metadata": {},
   "outputs": [],
   "source": [
    "# قراءة الجداول وتخزينهم في DataFrames\n",
    "agency_df         = spark.read.jdbc(url=jdbc_url_pg, table=\"agency\", properties=pg_properties)\n",
    "calendar_df       = spark.read.jdbc(url=jdbc_url_pg, table=\"calendar\", properties=pg_properties)\n",
    "calendar_dates_df = spark.read.jdbc(url=jdbc_url_pg, table=\"calendar_dates\", properties=pg_properties)\n",
    "routes_df         = spark.read.jdbc(url=jdbc_url_pg, table=\"routes\", properties=pg_properties)\n",
    "shapes_df         = spark.read.jdbc(url=jdbc_url_pg, table=\"shapes\", properties=pg_properties)\n",
    "stops_df          = spark.read.jdbc(url=jdbc_url_pg, table=\"stops\", properties=pg_properties)\n",
    "stop_times_df     = spark.read.jdbc(url=jdbc_url_pg, table=\"stop_times\", properties=pg_properties)\n",
    "trips_df          = spark.read.jdbc(url=jdbc_url_pg, table=\"trips\", properties=pg_properties)"
   ]
  },
  {
   "cell_type": "code",
   "execution_count": null,
   "id": "33033246-6e3e-4004-a933-d23b46bfee96",
   "metadata": {},
   "outputs": [],
   "source": [
    "#=================================================================================================================\n",
    "#=================================================================================================================\n",
    "#=================================================================================================================\n",
    "#=================================================================================================================\n",
    "#=================================================================================================================\n",
    "#=================================================================================================================\n",
    "#=================================================================================================================\n",
    "#================================================================================================================="
   ]
  },
  {
   "cell_type": "code",
   "execution_count": null,
   "id": "a4bc921c-05ed-4704-b8ed-958a19d842d6",
   "metadata": {},
   "outputs": [],
   "source": []
  },
  {
   "cell_type": "code",
   "execution_count": null,
   "id": "fc5c7b68-965e-4bbd-9724-05ba7d61e01e",
   "metadata": {},
   "outputs": [],
   "source": []
  },
  {
   "cell_type": "code",
   "execution_count": null,
   "id": "84066cf6-cff8-43cb-9173-3d114407e363",
   "metadata": {},
   "outputs": [],
   "source": []
  },
  {
   "cell_type": "code",
   "execution_count": null,
   "id": "830b151f-8839-4987-9f10-cfed53658536",
   "metadata": {},
   "outputs": [],
   "source": []
  },
  {
   "cell_type": "code",
   "execution_count": null,
   "id": "78da0dfe-5690-4d8e-9bfd-958a763f6b98",
   "metadata": {},
   "outputs": [],
   "source": []
  },
  {
   "cell_type": "code",
   "execution_count": null,
   "id": "d4188239-6503-457d-bb77-e8ba3fb06c96",
   "metadata": {},
   "outputs": [],
   "source": []
  },
  {
   "cell_type": "code",
   "execution_count": null,
   "id": "835f33d3-43a1-4341-80a0-35c5d53747a4",
   "metadata": {},
   "outputs": [],
   "source": []
  },
  {
   "cell_type": "code",
   "execution_count": null,
   "id": "f4d446b2-0b0f-4b4e-a649-1c964efb67bd",
   "metadata": {},
   "outputs": [],
   "source": []
  },
  {
   "cell_type": "code",
   "execution_count": null,
   "id": "f0195952-3c3e-4a48-bff6-19a55e5d17a7",
   "metadata": {},
   "outputs": [],
   "source": []
  },
  {
   "cell_type": "code",
   "execution_count": null,
   "id": "fb5f882d-4643-43b9-8d78-139d9d0372ad",
   "metadata": {},
   "outputs": [],
   "source": []
  },
  {
   "cell_type": "code",
   "execution_count": null,
   "id": "ee1fa57b-d91d-4445-8692-2d7019ba4c20",
   "metadata": {},
   "outputs": [],
   "source": []
  },
  {
   "cell_type": "code",
   "execution_count": null,
   "id": "d0259434-8ea0-4ba0-96ab-927709ae1e50",
   "metadata": {},
   "outputs": [],
   "source": []
  },
  {
   "cell_type": "code",
   "execution_count": null,
   "id": "58c4544d-41e6-4048-ae39-601b591a379e",
   "metadata": {},
   "outputs": [],
   "source": []
  },
  {
   "cell_type": "code",
   "execution_count": null,
   "id": "a965e8a6-213f-4d3d-ac38-f0b0a8671bac",
   "metadata": {},
   "outputs": [],
   "source": [
    "#=================================================================================================================\n",
    "#=================================================================================================================\n",
    "#=================================================================================================================\n",
    "#=================================================================================================================\n",
    "#=================================================================================================================\n",
    "#=================================================================================================================\n",
    "#=================================================================================================================\n",
    "#================================================================================================================="
   ]
  },
  {
   "cell_type": "code",
   "execution_count": 6,
   "id": "0e1e5484-d369-4877-a833-74da5f5f8a2a",
   "metadata": {},
   "outputs": [],
   "source": [
    "clickhouse_url = \"jdbc:clickhouse://clickhouse:8123/gtfs_batch\"\n",
    "clickhouse_properties = {\n",
    "    \"user\": \"default\",\n",
    "    \"password\": \"123\",\n",
    "    \"driver\": \"com.clickhouse.jdbc.ClickHouseDriver\"\n",
    "}"
   ]
  },
  {
   "cell_type": "code",
   "execution_count": 7,
   "id": "cfc88d2c-3892-45e8-87e5-6cf5fa7ad021",
   "metadata": {},
   "outputs": [],
   "source": [
    "calendar_df = calendar_df.withColumn(\"start_date\", to_date(\"start_date\", \"yyyyMMdd\"))\n",
    "calendar_df = calendar_df.withColumn(\"end_date\", to_date(\"end_date\", \"yyyyMMdd\"))\n",
    "calendar_dates_df = calendar_dates_df.withColumn(\"date\", to_date(\"date\", \"yyyyMMdd\"))"
   ]
  },
  {
   "cell_type": "code",
   "execution_count": 8,
   "id": "be31a4be-cffb-409d-a097-9b74df0eb5d4",
   "metadata": {},
   "outputs": [
    {
     "name": "stderr",
     "output_type": "stream",
     "text": [
      "                                                                                "
     ]
    }
   ],
   "source": [
    "agency_df.write.jdbc(clickhouse_url, \"agency\", mode=\"append\", properties=clickhouse_properties)\n",
    "calendar_df.write.jdbc(clickhouse_url, \"calendar\", mode=\"append\", properties=clickhouse_properties)\n",
    "calendar_dates_df.write.jdbc(clickhouse_url, \"calendar_dates\", mode=\"append\", properties=clickhouse_properties)\n",
    "routes_df.write.jdbc(clickhouse_url, \"routes\", mode=\"append\", properties=clickhouse_properties)\n",
    "shapes_df.write.jdbc(clickhouse_url, \"shapes\", mode=\"append\", properties=clickhouse_properties)\n",
    "stops_df.write.jdbc(clickhouse_url, \"stops\", mode=\"append\", properties=clickhouse_properties)\n",
    "trips_df.write.jdbc(clickhouse_url, \"trips\", mode=\"append\", properties=clickhouse_properties)"
   ]
  },
  {
   "cell_type": "code",
   "execution_count": null,
   "id": "a2f898cf-83ca-4e17-aca4-6c523288576f",
   "metadata": {},
   "outputs": [
    {
     "name": "stderr",
     "output_type": "stream",
     "text": [
      "[Stage 7:>                                                          (0 + 1) / 1]"
     ]
    }
   ],
   "source": [
    "stop_times_df.coalesce(1).write.jdbc(clickhouse_url, \"stop_times\", mode=\"append\", properties=clickhouse_properties)"
   ]
  },
  {
   "cell_type": "code",
   "execution_count": null,
   "id": "5cdce8f8-042a-41d4-9f46-258ea2f3a6a7",
   "metadata": {},
   "outputs": [],
   "source": [
    "import gc\n",
    "for df in [\n",
    "    agency_df, calendar_df, calendar_dates_df, routes_df,\n",
    "    shapes_df, stops_df, stop_times_df, trips_df\n",
    "]:\n",
    "    df.unpersist(blocking=True)\n",
    "\n",
    "# مسح الـ cache من Spark\n",
    "spark.catalog.clearCache()\n",
    "\n",
    "# إيقاف Spark\n",
    "spark.stop()\n",
    "\n",
    "# حذف المتغيرات من الذاكرة\n",
    "del agency_df, calendar_df, calendar_dates_df, routes_df\n",
    "del shapes_df, stops_df, stop_times_df, trips_df, spark\n",
    "\n",
    "# فرض جمع المهملات\n",
    "gc.collect()"
   ]
  }
 ],
 "metadata": {
  "kernelspec": {
   "display_name": "Python 3 (ipykernel)",
   "language": "python",
   "name": "python3"
  },
  "language_info": {
   "codemirror_mode": {
    "name": "ipython",
    "version": 3
   },
   "file_extension": ".py",
   "mimetype": "text/x-python",
   "name": "python",
   "nbconvert_exporter": "python",
   "pygments_lexer": "ipython3",
   "version": "3.11.8"
  }
 },
 "nbformat": 4,
 "nbformat_minor": 5
}

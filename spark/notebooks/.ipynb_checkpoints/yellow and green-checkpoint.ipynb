{
 "cells": [
  {
   "cell_type": "code",
   "execution_count": 1,
   "id": "3b477a14-32ca-4b1f-b7ff-f0f1c0bcfa27",
   "metadata": {},
   "outputs": [],
   "source": [
    "from pyspark.sql import SparkSession \n",
    "from pyspark.sql.functions import *\n"
   ]
  },
  {
   "cell_type": "code",
   "execution_count": 2,
   "id": "dabc8359-2bbf-4661-a7ba-6207fa0e4c95",
   "metadata": {},
   "outputs": [
    {
     "name": "stderr",
     "output_type": "stream",
     "text": [
      "25/07/20 17:38:17 WARN SparkSession: Using an existing Spark session; only runtime SQL configurations will take effect.\n"
     ]
    }
   ],
   "source": [
    "spark = SparkSession.builder.appName(\"TLC Cleaning\").getOrCreate()\n"
   ]
  },
  {
   "cell_type": "code",
   "execution_count": 3,
   "id": "0b7b580b-4ea1-4e78-9eda-be50ff81a045",
   "metadata": {},
   "outputs": [],
   "source": [
    "df_yellow = spark.read.parquet(\"yellow_tripdata_2024-01.parquet\")\n",
    "df_green = spark.read.parquet(\"green_tripdata_2024-01.parquet\")"
   ]
  },
  {
   "cell_type": "code",
   "execution_count": 4,
   "id": "2b151967-a5c6-40e1-88f9-d1da956aff13",
   "metadata": {},
   "outputs": [],
   "source": [
    "df_yellow = df_yellow \\\n",
    "    .withColumnRenamed(\"tpep_pickup_datetime\", \"pickup_datetime\") \\\n",
    "    .withColumnRenamed(\"tpep_dropoff_datetime\", \"dropoff_datetime\") \\\n",
    "    .withColumn(\"taxi_type\", lit(\"yellow\"))\n",
    "\n",
    "df_green = df_green \\\n",
    "    .withColumnRenamed(\"lpep_pickup_datetime\", \"pickup_datetime\") \\\n",
    "    .withColumnRenamed(\"lpep_dropoff_datetime\", \"dropoff_datetime\") \\\n",
    "    .withColumn(\"taxi_type\", lit(\"green\"))\n",
    "\n",
    "common_cols = list(set(df_yellow.columns).intersection(set(df_green.columns)))\n",
    "df_yellow = df_yellow.select(common_cols)\n",
    "df_green = df_green.select(common_cols)\n",
    "\n",
    "df = df_yellow.unionByName(df_green)\n",
    "\n"
   ]
  },
  {
   "cell_type": "code",
   "execution_count": 5,
   "id": "965508aa-9354-47ac-b9cc-94e592c2c081",
   "metadata": {},
   "outputs": [
    {
     "name": "stdout",
     "output_type": "stream",
     "text": [
      "root\n",
      " |-- DOLocationID: integer (nullable = true)\n",
      " |-- congestion_surcharge: double (nullable = true)\n",
      " |-- dropoff_datetime: timestamp_ntz (nullable = true)\n",
      " |-- taxi_type: string (nullable = false)\n",
      " |-- total_amount: double (nullable = true)\n",
      " |-- store_and_fwd_flag: string (nullable = true)\n",
      " |-- mta_tax: double (nullable = true)\n",
      " |-- payment_type: long (nullable = true)\n",
      " |-- tip_amount: double (nullable = true)\n",
      " |-- improvement_surcharge: double (nullable = true)\n",
      " |-- tolls_amount: double (nullable = true)\n",
      " |-- trip_distance: double (nullable = true)\n",
      " |-- pickup_datetime: timestamp_ntz (nullable = true)\n",
      " |-- PULocationID: integer (nullable = true)\n",
      " |-- RatecodeID: long (nullable = true)\n",
      " |-- VendorID: integer (nullable = true)\n",
      " |-- extra: double (nullable = true)\n",
      " |-- passenger_count: long (nullable = true)\n",
      " |-- fare_amount: double (nullable = true)\n",
      "\n"
     ]
    }
   ],
   "source": [
    "df.printSchema()"
   ]
  },
  {
   "cell_type": "code",
   "execution_count": 6,
   "id": "582c7664-16b2-43d0-ae3c-9ed0e23f1417",
   "metadata": {},
   "outputs": [],
   "source": [
    "df = df.drop('store_and_fwd_flag')"
   ]
  },
  {
   "cell_type": "code",
   "execution_count": 7,
   "id": "49065147-80d7-47cb-a621-6bd72b8e1500",
   "metadata": {},
   "outputs": [
    {
     "data": {
      "text/plain": [
       "3021175"
      ]
     },
     "execution_count": 7,
     "metadata": {},
     "output_type": "execute_result"
    }
   ],
   "source": [
    "df.count()"
   ]
  },
  {
   "cell_type": "code",
   "execution_count": 8,
   "id": "d19fe2bc-3129-4472-946c-43258ce12e3f",
   "metadata": {
    "scrolled": true
   },
   "outputs": [
    {
     "name": "stdout",
     "output_type": "stream",
     "text": [
      "=================================== DOLocationID ============================== \n",
      "+----------+\n",
      "|null_count|\n",
      "+----------+\n",
      "|         0|\n",
      "+----------+\n",
      "\n",
      "=================================== congestion_surcharge ============================== \n",
      "+----------+\n",
      "|null_count|\n",
      "+----------+\n",
      "|    143577|\n",
      "+----------+\n",
      "\n",
      "=================================== dropoff_datetime ============================== \n",
      "+----------+\n",
      "|null_count|\n",
      "+----------+\n",
      "|         0|\n",
      "+----------+\n",
      "\n",
      "=================================== taxi_type ============================== \n",
      "+----------+\n",
      "|null_count|\n",
      "+----------+\n",
      "|         0|\n",
      "+----------+\n",
      "\n",
      "=================================== total_amount ============================== \n",
      "+----------+\n",
      "|null_count|\n",
      "+----------+\n",
      "|         0|\n",
      "+----------+\n",
      "\n",
      "=================================== mta_tax ============================== \n",
      "+----------+\n",
      "|null_count|\n",
      "+----------+\n",
      "|         0|\n",
      "+----------+\n",
      "\n",
      "=================================== payment_type ============================== \n",
      "+----------+\n",
      "|null_count|\n",
      "+----------+\n",
      "|      3415|\n",
      "+----------+\n",
      "\n",
      "=================================== tip_amount ============================== \n",
      "+----------+\n",
      "|null_count|\n",
      "+----------+\n",
      "|         0|\n",
      "+----------+\n",
      "\n",
      "=================================== improvement_surcharge ============================== \n",
      "+----------+\n",
      "|null_count|\n",
      "+----------+\n",
      "|         0|\n",
      "+----------+\n",
      "\n",
      "=================================== tolls_amount ============================== \n",
      "+----------+\n",
      "|null_count|\n",
      "+----------+\n",
      "|         0|\n",
      "+----------+\n",
      "\n",
      "=================================== trip_distance ============================== \n",
      "+----------+\n",
      "|null_count|\n",
      "+----------+\n",
      "|         0|\n",
      "+----------+\n",
      "\n",
      "=================================== pickup_datetime ============================== \n",
      "+----------+\n",
      "|null_count|\n",
      "+----------+\n",
      "|         0|\n",
      "+----------+\n",
      "\n",
      "=================================== PULocationID ============================== \n",
      "+----------+\n",
      "|null_count|\n",
      "+----------+\n",
      "|         0|\n",
      "+----------+\n",
      "\n",
      "=================================== RatecodeID ============================== \n",
      "+----------+\n",
      "|null_count|\n",
      "+----------+\n",
      "|    143577|\n",
      "+----------+\n",
      "\n",
      "=================================== VendorID ============================== \n",
      "+----------+\n",
      "|null_count|\n",
      "+----------+\n",
      "|         0|\n",
      "+----------+\n",
      "\n",
      "=================================== extra ============================== \n",
      "+----------+\n",
      "|null_count|\n",
      "+----------+\n",
      "|         0|\n",
      "+----------+\n",
      "\n",
      "=================================== passenger_count ============================== \n",
      "+----------+\n",
      "|null_count|\n",
      "+----------+\n",
      "|    143577|\n",
      "+----------+\n",
      "\n",
      "=================================== fare_amount ============================== \n",
      "+----------+\n",
      "|null_count|\n",
      "+----------+\n",
      "|         0|\n",
      "+----------+\n",
      "\n"
     ]
    }
   ],
   "source": [
    "for i in df.columns :\n",
    "    print(f\"=================================== {i} ============================== \")\n",
    "    df.select(\n",
    "        sum(when(col(i).isNull(), 1).otherwise(0)).alias(\"null_count\")\n",
    "    ).show()"
   ]
  },
  {
   "cell_type": "code",
   "execution_count": 9,
   "id": "e61fc579-4c45-4b32-bb1c-5b5da2a6a1f4",
   "metadata": {},
   "outputs": [
    {
     "name": "stdout",
     "output_type": "stream",
     "text": [
      "================================= DOLocationID ============================================\n",
      "+------------+-----------+\n",
      "|DOLocationID|value_count|\n",
      "+------------+-----------+\n",
      "|         236|     144769|\n",
      "|         237|     131188|\n",
      "|         161|     112304|\n",
      "|         230|      90820|\n",
      "|         142|      90482|\n",
      "|         239|      90400|\n",
      "|         170|      86959|\n",
      "|         162|      85522|\n",
      "|         141|      84350|\n",
      "|         238|      75750|\n",
      "|          68|      74736|\n",
      "|         163|      73114|\n",
      "|          48|      72453|\n",
      "|         234|      68366|\n",
      "|         263|      66372|\n",
      "|         140|      65888|\n",
      "|         186|      64432|\n",
      "|         229|      64222|\n",
      "|         164|      59962|\n",
      "|          79|      59226|\n",
      "+------------+-----------+\n",
      "only showing top 20 rows\n",
      "================================= congestion_surcharge ============================================\n",
      "+--------------------+-----------+\n",
      "|congestion_surcharge|value_count|\n",
      "+--------------------+-----------+\n",
      "|                 2.5|    2577898|\n",
      "|                 0.0|     255976|\n",
      "|                NULL|     143577|\n",
      "|                -2.5|      28824|\n",
      "|                2.75|      14890|\n",
      "|               -2.75|          4|\n",
      "|                0.75|          3|\n",
      "|                 1.0|          2|\n",
      "|               -0.75|          1|\n",
      "+--------------------+-----------+\n",
      "\n",
      "================================= dropoff_datetime ============================================\n"
     ]
    },
    {
     "name": "stderr",
     "output_type": "stream",
     "text": [
      "                                                                                \r"
     ]
    },
    {
     "name": "stdout",
     "output_type": "stream",
     "text": [
      "+-------------------+-----------+\n",
      "|   dropoff_datetime|value_count|\n",
      "+-------------------+-----------+\n",
      "|2024-01-05 00:00:00|         21|\n",
      "|2024-01-28 00:00:00|         19|\n",
      "|2024-01-21 00:00:00|         19|\n",
      "|2024-01-27 00:00:00|         18|\n",
      "|2024-01-06 00:00:00|         18|\n",
      "|2024-01-07 00:00:00|         18|\n",
      "|2024-01-09 00:00:00|         18|\n",
      "|2024-01-12 00:00:00|         17|\n",
      "|2024-01-19 00:00:00|         16|\n",
      "|2024-01-13 00:00:00|         16|\n",
      "|2024-01-29 00:00:00|         16|\n",
      "|2024-01-02 00:00:00|         15|\n",
      "|2024-01-04 00:00:00|         14|\n",
      "|2024-01-03 00:00:00|         14|\n",
      "|2024-01-26 00:00:00|         14|\n",
      "|2024-01-15 00:00:00|         14|\n",
      "|2024-01-10 00:00:00|         13|\n",
      "|2024-01-30 00:00:00|         13|\n",
      "|2024-01-25 00:00:00|         12|\n",
      "|2024-01-20 23:43:25|         12|\n",
      "+-------------------+-----------+\n",
      "only showing top 20 rows\n",
      "================================= taxi_type ============================================\n",
      "+---------+-----------+\n",
      "|taxi_type|value_count|\n",
      "+---------+-----------+\n",
      "|   yellow|    2964624|\n",
      "|    green|      56551|\n",
      "+---------+-----------+\n",
      "\n",
      "================================= total_amount ============================================\n",
      "+------------+-----------+\n",
      "|total_amount|value_count|\n",
      "+------------+-----------+\n",
      "|        16.8|      45730|\n",
      "|        12.6|      43597|\n",
      "|        21.0|      36846|\n",
      "|       15.12|      26873|\n",
      "|       15.96|      26548|\n",
      "|       14.28|      26122|\n",
      "|       17.64|      24640|\n",
      "|       18.48|      24468|\n",
      "|       13.44|      24062|\n",
      "|       19.32|      23626|\n",
      "|        18.0|      22916|\n",
      "|        14.0|      21990|\n",
      "|       20.16|      20299|\n",
      "|       21.84|      18253|\n",
      "|        25.2|      17749|\n",
      "|        17.5|      17258|\n",
      "|        16.1|      16470|\n",
      "|       11.76|      16282|\n",
      "|        15.4|      16264|\n",
      "|        13.8|      15808|\n",
      "+------------+-----------+\n",
      "only showing top 20 rows\n",
      "================================= mta_tax ============================================\n",
      "+-------+-----------+\n",
      "|mta_tax|value_count|\n",
      "+-------+-----------+\n",
      "|    0.5|    2944614|\n",
      "|    0.0|      34876|\n",
      "|   -0.5|      34596|\n",
      "|    1.5|       7055|\n",
      "|    1.0|         20|\n",
      "|    4.0|          5|\n",
      "|   4.25|          5|\n",
      "|    0.8|          1|\n",
      "|    1.6|          1|\n",
      "|    1.4|          1|\n",
      "|    3.0|          1|\n",
      "+-------+-----------+\n",
      "\n",
      "================================= payment_type ============================================\n",
      "+------------+-----------+\n",
      "|payment_type|value_count|\n",
      "+------------+-----------+\n",
      "|           1|    2355706|\n",
      "|           2|     455104|\n",
      "|           0|     140162|\n",
      "|           4|      46756|\n",
      "|           3|      20031|\n",
      "|        NULL|       3415|\n",
      "|           5|          1|\n",
      "+------------+-----------+\n",
      "\n",
      "================================= tip_amount ============================================\n",
      "+----------+-----------+\n",
      "|tip_amount|value_count|\n",
      "+----------+-----------+\n",
      "|       0.0|     732658|\n",
      "|       2.0|     148167|\n",
      "|       1.0|     115287|\n",
      "|       3.0|      76321|\n",
      "|       5.0|      40157|\n",
      "|       2.8|      39330|\n",
      "|       3.5|      34054|\n",
      "|       2.1|      32981|\n",
      "|       4.0|      32420|\n",
      "|       1.5|      31587|\n",
      "|      2.52|      30739|\n",
      "|      2.94|      27412|\n",
      "|      2.66|      26813|\n",
      "|      2.38|      26493|\n",
      "|      3.08|      24715|\n",
      "|      2.24|      24588|\n",
      "|       2.5|      23825|\n",
      "|      3.36|      23150|\n",
      "|      3.22|      22546|\n",
      "|       4.2|      21146|\n",
      "+----------+-----------+\n",
      "only showing top 20 rows\n",
      "================================= improvement_surcharge ============================================\n",
      "+---------------------+-----------+\n",
      "|improvement_surcharge|value_count|\n",
      "+---------------------+-----------+\n",
      "|                  1.0|    2983453|\n",
      "|                 -1.0|      35679|\n",
      "|                  0.3|       1021|\n",
      "|                  0.0|       1017|\n",
      "|                 -0.3|          5|\n",
      "+---------------------+-----------+\n",
      "\n",
      "================================= tolls_amount ============================================\n",
      "+------------+-----------+\n",
      "|tolls_amount|value_count|\n",
      "+------------+-----------+\n",
      "|         0.0|    2808832|\n",
      "|        6.94|     193288|\n",
      "|       13.38|       2041|\n",
      "|       -6.94|       1685|\n",
      "|        3.18|       1485|\n",
      "|       15.38|       1383|\n",
      "|       13.88|       1162|\n",
      "|       12.75|        895|\n",
      "|       14.75|        583|\n",
      "|         5.2|        375|\n",
      "|       20.32|        364|\n",
      "|         2.0|        348|\n",
      "|       22.32|        294|\n",
      "|       11.19|        238|\n",
      "|       20.38|        194|\n",
      "|       11.94|        193|\n",
      "|       10.12|        192|\n",
      "|         3.0|        178|\n",
      "|       21.38|        177|\n",
      "|        8.69|        175|\n",
      "+------------+-----------+\n",
      "only showing top 20 rows\n",
      "================================= trip_distance ============================================\n",
      "+-------------+-----------+\n",
      "|trip_distance|value_count|\n",
      "+-------------+-----------+\n",
      "|          0.0|      63241|\n",
      "|          0.9|      40853|\n",
      "|          1.0|      40598|\n",
      "|          0.8|      40299|\n",
      "|          1.1|      39116|\n",
      "|          0.7|      37881|\n",
      "|          1.2|      37394|\n",
      "|          1.3|      35651|\n",
      "|          1.4|      33686|\n",
      "|          0.6|      33040|\n",
      "|          1.5|      31774|\n",
      "|          1.6|      29700|\n",
      "|          1.7|      27548|\n",
      "|          0.5|      25549|\n",
      "|          1.8|      25319|\n",
      "|          1.9|      23537|\n",
      "|          2.0|      21677|\n",
      "|          2.1|      19804|\n",
      "|          2.2|      18284|\n",
      "|          0.4|      17341|\n",
      "+-------------+-----------+\n",
      "only showing top 20 rows\n",
      "================================= pickup_datetime ============================================\n"
     ]
    },
    {
     "name": "stderr",
     "output_type": "stream",
     "text": [
      "                                                                                \r"
     ]
    },
    {
     "name": "stdout",
     "output_type": "stream",
     "text": [
      "+-------------------+-----------+\n",
      "|    pickup_datetime|value_count|\n",
      "+-------------------+-----------+\n",
      "|2024-01-04 21:37:27|         11|\n",
      "|2024-01-17 18:17:00|         11|\n",
      "|2024-01-06 22:09:45|         11|\n",
      "|2024-01-17 16:25:48|         11|\n",
      "|2024-01-12 15:28:25|         11|\n",
      "|2024-01-04 18:20:34|         11|\n",
      "|2024-01-24 18:38:59|         11|\n",
      "|2024-01-26 22:04:27|         11|\n",
      "|2024-01-18 20:05:17|         11|\n",
      "|2024-01-05 11:55:24|         10|\n",
      "|2024-01-30 17:05:12|         10|\n",
      "|2024-01-17 18:21:27|         10|\n",
      "|2024-01-08 19:16:46|         10|\n",
      "|2024-01-24 19:20:06|         10|\n",
      "|2024-01-17 17:55:00|         10|\n",
      "|2024-01-11 18:22:17|         10|\n",
      "|2024-01-09 18:37:21|         10|\n",
      "|2024-01-28 12:50:50|         10|\n",
      "|2024-01-04 18:17:36|         10|\n",
      "|2024-01-30 15:55:02|         10|\n",
      "+-------------------+-----------+\n",
      "only showing top 20 rows\n",
      "================================= PULocationID ============================================\n",
      "+------------+-----------+\n",
      "|PULocationID|value_count|\n",
      "+------------+-----------+\n",
      "|         132|     145264|\n",
      "|         161|     143471|\n",
      "|         237|     142709|\n",
      "|         236|     136789|\n",
      "|         162|     106718|\n",
      "|         230|     106325|\n",
      "|         186|     104523|\n",
      "|         142|     104081|\n",
      "|         138|      89564|\n",
      "|         239|      88476|\n",
      "|         163|      85692|\n",
      "|         170|      83064|\n",
      "|          68|      77686|\n",
      "|          48|      76477|\n",
      "|         234|      76157|\n",
      "|         141|      73946|\n",
      "|         249|      66227|\n",
      "|         140|      66062|\n",
      "|          79|      65935|\n",
      "|         164|      64912|\n",
      "+------------+-----------+\n",
      "only showing top 20 rows\n",
      "================================= RatecodeID ============================================\n",
      "+----------+-----------+\n",
      "|RatecodeID|value_count|\n",
      "+----------+-----------+\n",
      "|         1|    2714427|\n",
      "|      NULL|     143577|\n",
      "|         2|      98840|\n",
      "|        99|      28666|\n",
      "|         5|      21277|\n",
      "|         3|       7973|\n",
      "|         4|       6408|\n",
      "|         6|          7|\n",
      "+----------+-----------+\n",
      "\n",
      "================================= VendorID ============================================\n",
      "+--------+-----------+\n",
      "|VendorID|value_count|\n",
      "+--------+-----------+\n",
      "|       2|    2283845|\n",
      "|       1|     737070|\n",
      "|       6|        260|\n",
      "+--------+-----------+\n",
      "\n",
      "================================= extra ============================================\n",
      "+-----+-----------+\n",
      "|extra|value_count|\n",
      "+-----+-----------+\n",
      "|  0.0|    1323408|\n",
      "|  2.5|     717153|\n",
      "|  1.0|     535770|\n",
      "|  5.0|     193189|\n",
      "|  3.5|     143201|\n",
      "|  6.0|      23534|\n",
      "|  7.5|      22748|\n",
      "| 9.25|      10506|\n",
      "| -1.0|      10326|\n",
      "| 4.25|       9767|\n",
      "| 1.75|       5871|\n",
      "| -2.5|       5603|\n",
      "| 2.75|       4319|\n",
      "| 6.75|       4188|\n",
      "|10.25|       2912|\n",
      "|11.75|       2440|\n",
      "| 7.75|       2373|\n",
      "| -5.0|       1148|\n",
      "| 10.0|        642|\n",
      "| 5.25|        616|\n",
      "+-----+-----------+\n",
      "only showing top 20 rows\n",
      "================================= passenger_count ============================================\n",
      "+---------------+-----------+\n",
      "|passenger_count|value_count|\n",
      "+---------------+-----------+\n",
      "|              1|    2233518|\n",
      "|              2|     409759|\n",
      "|           NULL|     143577|\n",
      "|              3|      91858|\n",
      "|              4|      52166|\n",
      "|              5|      35002|\n",
      "|              0|      31977|\n",
      "|              6|      23255|\n",
      "|              8|         53|\n",
      "|              7|          8|\n",
      "|              9|          2|\n",
      "+---------------+-----------+\n",
      "\n",
      "================================= fare_amount ============================================\n",
      "+-----------+-----------+\n",
      "|fare_amount|value_count|\n",
      "+-----------+-----------+\n",
      "|        8.6|     143582|\n",
      "|        7.9|     141883|\n",
      "|        9.3|     141196|\n",
      "|       10.0|     138296|\n",
      "|        7.2|     135178|\n",
      "|       10.7|     130083|\n",
      "|       11.4|     122657|\n",
      "|        6.5|     119916|\n",
      "|       12.1|     114548|\n",
      "|       12.8|     105391|\n",
      "|       70.0|      97528|\n",
      "|       13.5|      97090|\n",
      "|        5.8|      94652|\n",
      "|       14.2|      88025|\n",
      "|       14.9|      79785|\n",
      "|       15.6|      72165|\n",
      "|       16.3|      64761|\n",
      "|        5.1|      62738|\n",
      "|       17.0|      58617|\n",
      "|       17.7|      52423|\n",
      "+-----------+-----------+\n",
      "only showing top 20 rows\n"
     ]
    }
   ],
   "source": [
    "for i in df.columns:\n",
    "    print(f\"================================= {i} ============================================\")\n",
    "    df.groupBy(i).agg(count(\"*\").alias(\"value_count\")).orderBy(\"value_count\", ascending=False).show()"
   ]
  },
  {
   "cell_type": "code",
   "execution_count": 10,
   "id": "4a3ff329-28a7-4fe5-bb35-241eed095137",
   "metadata": {},
   "outputs": [],
   "source": [
    "before_cleaning=df.count()\n"
   ]
  },
  {
   "cell_type": "code",
   "execution_count": 11,
   "id": "d8b48c7f-ec78-4274-a0a2-71d91f86ffa4",
   "metadata": {},
   "outputs": [],
   "source": [
    "#============================================== drop Nulls =========================================================\n",
    "df = df.dropna(subset=[\n",
    "    \"congestion_surcharge\",\n",
    "    \"payment_type\",\n",
    "    \"RatecodeID\",\n",
    "    \"passenger_count\",\n",
    "   \n",
    "    \n",
    "])"
   ]
  },
  {
   "cell_type": "code",
   "execution_count": 12,
   "id": "7232c041-a39e-484b-bd6d-3f0cd09d2be9",
   "metadata": {},
   "outputs": [],
   "source": [
    "#============================================== dropDuplicates =========================================================\n",
    "\n",
    "df = df.dropDuplicates([\n",
    "    \"pickup_datetime\", \n",
    "    \"dropoff_datetime\", \n",
    "    \"passenger_count\", \n",
    "    \"trip_distance\", \n",
    "    \"PULocationID\", \n",
    "    \"DOLocationID\"\n",
    "])"
   ]
  },
  {
   "cell_type": "code",
   "execution_count": 13,
   "id": "0eb7aec6-91e3-444f-82fc-5c4d336a8e27",
   "metadata": {},
   "outputs": [],
   "source": [
    "\n",
    "df = df.withColumn(\"trip_duration\", (unix_timestamp(\"dropoff_datetime\") - unix_timestamp(\"pickup_datetime\")))\n",
    "df = df.withColumn(\"trip_speed_mph\", round(col(\"trip_distance\") / (col(\"trip_duration\") / 3600), 2))"
   ]
  },
  {
   "cell_type": "code",
   "execution_count": 14,
   "id": "d0796f66-c48b-4dfb-a5c0-577a1a49bd48",
   "metadata": {},
   "outputs": [],
   "source": [
    "#============================================== filter =========================================================\n",
    "\n",
    "df = df.filter(\n",
    "    (col(\"passenger_count\") > 0) &\n",
    "    (col(\"passenger_count\") <= 6) &\n",
    "    (col(\"trip_distance\") > 0) &\n",
    "    (col(\"trip_distance\") < 150) &\n",
    "    (col(\"fare_amount\") >= 0) &\n",
    "    (col(\"total_amount\") >= 0) &\n",
    "    (col(\"tip_amount\") >= 0) &\n",
    "    (col(\"extra\") >= 0) &\n",
    "    (col(\"mta_tax\") >= 0) &\n",
    "    (col(\"improvement_surcharge\") >= 0) &\n",
    "    (col(\"congestion_surcharge\") >= 0) &\n",
    "    (col(\"tolls_amount\") >= 0) &\n",
    "    (col(\"RatecodeID\").isin([1, 2, 3, 4, 5, 6])) &  \n",
    "    (col(\"payment_type\").isin([1, 2, 3, 4, 5, 6])) &\n",
    "    (col(\"trip_duration\") >= 60) & \n",
    "    (col(\"trip_duration\") <= 10800) &\n",
    "    (col(\"trip_speed_mph\") >= 1) &\n",
    "    (col(\"trip_speed_mph\") <= 80) &\n",
    "    (col(\"PULocationID\").between(1, 263)) &\n",
    "    (col(\"DOLocationID\").between(1, 263))\n",
    ")\n"
   ]
  },
  {
   "cell_type": "code",
   "execution_count": null,
   "id": "c4cb6243-b855-4a71-b399-700bcf780d8a",
   "metadata": {},
   "outputs": [],
   "source": []
  },
  {
   "cell_type": "code",
   "execution_count": 15,
   "id": "02408d21-4f44-4871-87e1-164a6526d3a5",
   "metadata": {
    "scrolled": true
   },
   "outputs": [],
   "source": [
    "#============================================== Encoding =========================================================\n",
    "# VendorID => Vendor\n",
    "df = df.withColumn(\"Vendor\", when(col(\"VendorID\") == 1, \"Creative Mobile Technologies\")\n",
    "                             .when(col(\"VendorID\") == 2, \"Curb Mobility\")\n",
    "                             .when(col(\"VendorID\") == 6, \"Myle Technologies\")\n",
    "                             .when(col(\"VendorID\") == 7, \"Helix\")\n",
    "                             .otherwise(\"Unknown\"))\n",
    "\n",
    "# RatecodeID => RateCode\n",
    "df = df.withColumn(\"RateCode\", when(col(\"RatecodeID\") == 1, \"Standard rate\")\n",
    "                              .when(col(\"RatecodeID\") == 2, \"JFK\")\n",
    "                              .when(col(\"RatecodeID\") == 3, \"Newark\")\n",
    "                              .when(col(\"RatecodeID\") == 4, \"Nassau or Westchester\")\n",
    "                              .when(col(\"RatecodeID\") == 5, \"Negotiated fare\")\n",
    "                              .when(col(\"RatecodeID\") == 6, \"Group ride\")\n",
    "                              .when(col(\"RatecodeID\") == 99, \"Unknown\")\n",
    "                              .otherwise(\"Unknown\"))\n",
    "\n",
    "# payment_type => PaymentType\n",
    "df = df.withColumn(\"PaymentType\", when(col(\"payment_type\") == 0, \"Flex Fare\")\n",
    "                                 .when(col(\"payment_type\") == 1, \"Credit card\")\n",
    "                                 .when(col(\"payment_type\") == 2, \"Cash\")\n",
    "                                 .when(col(\"payment_type\") == 3, \"No charge\")\n",
    "                                 .when(col(\"payment_type\") == 4, \"Dispute\")\n",
    "                                 .when(col(\"payment_type\") == 5, \"Unknown\")\n",
    "                                 .when(col(\"payment_type\") == 6, \"Voided trip\")\n",
    "                                 .otherwise(\"Unknown\"))\n",
    "\n",
    "\n"
   ]
  },
  {
   "cell_type": "code",
   "execution_count": 16,
   "id": "eb40e28e-dd5e-4134-a1e3-0e9250d3cf20",
   "metadata": {
    "scrolled": true
   },
   "outputs": [],
   "source": [
    "#for i in df.columns:\n",
    "#    print(f\"================================= {i} ============================================\")\n",
    "#    df.groupBy(i).agg(count(\"*\").alias(\"value_count\")).orderBy(\"value_count\", ascending=False).show()"
   ]
  },
  {
   "cell_type": "code",
   "execution_count": 17,
   "id": "76929ff2-eaf5-4c07-a603-23102afcfe71",
   "metadata": {
    "scrolled": true
   },
   "outputs": [
    {
     "name": "stdout",
     "output_type": "stream",
     "text": [
      "+----------+-------------+--------------------+------------+\n",
      "|LocationID|      Borough|                Zone|service_zone|\n",
      "+----------+-------------+--------------------+------------+\n",
      "|         1|          EWR|      Newark Airport|         EWR|\n",
      "|         2|       Queens|         Jamaica Bay|   Boro Zone|\n",
      "|         3|        Bronx|Allerton/Pelham G...|   Boro Zone|\n",
      "|         4|    Manhattan|       Alphabet City| Yellow Zone|\n",
      "|         5|Staten Island|       Arden Heights|   Boro Zone|\n",
      "|         6|Staten Island|Arrochar/Fort Wad...|   Boro Zone|\n",
      "|         7|       Queens|             Astoria|   Boro Zone|\n",
      "|         8|       Queens|        Astoria Park|   Boro Zone|\n",
      "|         9|       Queens|          Auburndale|   Boro Zone|\n",
      "|        10|       Queens|        Baisley Park|   Boro Zone|\n",
      "|        11|     Brooklyn|          Bath Beach|   Boro Zone|\n",
      "|        12|    Manhattan|        Battery Park| Yellow Zone|\n",
      "|        13|    Manhattan|   Battery Park City| Yellow Zone|\n",
      "|        14|     Brooklyn|           Bay Ridge|   Boro Zone|\n",
      "|        15|       Queens|Bay Terrace/Fort ...|   Boro Zone|\n",
      "|        16|       Queens|             Bayside|   Boro Zone|\n",
      "|        17|     Brooklyn|             Bedford|   Boro Zone|\n",
      "|        18|        Bronx|        Bedford Park|   Boro Zone|\n",
      "|        19|       Queens|           Bellerose|   Boro Zone|\n",
      "|        20|        Bronx|             Belmont|   Boro Zone|\n",
      "+----------+-------------+--------------------+------------+\n",
      "only showing top 20 rows\n"
     ]
    }
   ],
   "source": [
    "zones = spark.read.csv(\"taxi_zone_lookup.csv\", header=True, inferSchema=True)\n",
    "zones.show()\n"
   ]
  },
  {
   "cell_type": "code",
   "execution_count": 18,
   "id": "f14bd783-d20c-4aba-bef8-ba5e54bf25ba",
   "metadata": {},
   "outputs": [],
   "source": [
    "df.createOrReplaceTempView(\"trips\")\n",
    "zones.createOrReplaceTempView(\"zones\")\n",
    "\n",
    "df = spark.sql(\"\"\"\n",
    "SELECT\n",
    "    trips.*,\n",
    "    pu.Borough         AS PUBorough,\n",
    "    pu.Zone            AS PUZone,\n",
    "    pu.service_zone    AS PU_service_zone,\n",
    "    do.Borough         AS DOBorough,\n",
    "    do.Zone            AS DOZone,\n",
    "    do.service_zone    AS DO_service_zone\n",
    "FROM trips\n",
    "LEFT JOIN zones pu\n",
    "    ON trips.PULocationID = pu.LocationID\n",
    "LEFT JOIN zones do\n",
    "    ON trips.DOLocationID = do.LocationID\n",
    "\"\"\")\n",
    "\n"
   ]
  },
  {
   "cell_type": "code",
   "execution_count": null,
   "id": "3c4c5e9b-6af5-4a43-97ea-75adbaaefbed",
   "metadata": {},
   "outputs": [],
   "source": []
  },
  {
   "cell_type": "code",
   "execution_count": 19,
   "id": "21f8aaaa-f930-4bf0-93bd-c295d54f4076",
   "metadata": {},
   "outputs": [],
   "source": [
    "#============================================== Add Columns =========================================================\n",
    "#===================================================================================================================================\n",
    "df = df.withColumn(\"pickup_hour\", hour(col(\"pickup_datetime\")))\n",
    "df = df.withColumn(\n",
    "    \"pickup_period\",\n",
    "    when(col(\"pickup_hour\").between(0, 5), \"Late Night\")\n",
    "    .when(col(\"pickup_hour\").between(6, 11), \"Morning\")\n",
    "    .when(col(\"pickup_hour\").between(12, 16), \"Afternoon\")\n",
    "    .when(col(\"pickup_hour\").between(17, 20), \"Evening\")\n",
    "    .otherwise(\"Night\")\n",
    ")\n",
    "    \n",
    "df = df.withColumn(\"day_of_week_name\", date_format(col(\"pickup_datetime\"), \"E\"))\n",
    "df = df.withColumn(\"is_weekend\", (col(\"day_of_week_name\") == \"Fri\" ) | (col(\"day_of_week_name\") == \"Sat\"))\n",
    "\n",
    "\n",
    "\n",
    "df = df.withColumn(\"trip_length_category\",\n",
    "                   when(col(\"trip_duration\") < 300, \"Very Short\")\n",
    "                   .when((col(\"trip_duration\") >= 300) & (col(\"trip_duration\") < 900), \"Short\")\n",
    "                   .when((col(\"trip_duration\") >= 900) & (col(\"trip_duration\") < 1800), \"Medium\")\n",
    "                   .otherwise(\"Long\"))\n",
    "\n",
    "df = df.withColumn(\"IsWeekendText\", \n",
    "    when(col(\"is_weekend\") == True, \"Weekend\")\n",
    "    .otherwise(\"Weekday\"))\n",
    "#===================================================================================================================================\n",
    "# 1. fare_per_mile\n",
    "df = df.withColumn(\"fare_per_mile\", \n",
    "                   when(col(\"trip_distance\") > 0, col(\"fare_amount\") / col(\"trip_distance\")))\n",
    "\n",
    "# 2. fare_per_minute (duration بالثواني)\n",
    "df = df.withColumn(\"fare_per_minute\", \n",
    "                   when(col(\"trip_duration\") > 0, col(\"fare_amount\") / (col(\"trip_duration\") / 60)))\n",
    "\n",
    "# 3. tip_ratio\n",
    "df = df.withColumn(\"tip_ratio\", \n",
    "                   when(col(\"total_amount\") > 0, col(\"tip_amount\") / col(\"total_amount\")))\n",
    "\n",
    "# 4. trip_efficiency (miles per second)\n",
    "df = df.withColumn(\"trip_efficiency\", \n",
    "                   when(col(\"trip_duration\") > 0, col(\"trip_distance\") / col(\"trip_duration\")))\n",
    "\n",
    "# 6. is_airport_trip (based on pickup/dropoff borough)\n",
    "df = df.withColumn(\"is_airport_trip\",\n",
    "                   (col(\"PUBorough\").contains(\"Airport\")) | (col(\"DOBorough\").contains(\"Airport\")))\n",
    "\n",
    "# 7. is_suspicious (مسافة صغيرة جدًا ومبلغ عالي)\n",
    "df = df.withColumn(\"is_suspicious\",\n",
    "                   (col(\"trip_distance\") < 0.2) & (col(\"total_amount\") > 30))"
   ]
  },
  {
   "cell_type": "code",
   "execution_count": 20,
   "id": "11673cd3-8143-443a-9951-33b3075fbf87",
   "metadata": {},
   "outputs": [
    {
     "name": "stdout",
     "output_type": "stream",
     "text": [
      "root\n",
      " |-- DOLocationID: integer (nullable = true)\n",
      " |-- congestion_surcharge: double (nullable = true)\n",
      " |-- dropoff_datetime: timestamp_ntz (nullable = true)\n",
      " |-- taxi_type: string (nullable = false)\n",
      " |-- total_amount: double (nullable = true)\n",
      " |-- mta_tax: double (nullable = true)\n",
      " |-- payment_type: long (nullable = true)\n",
      " |-- tip_amount: double (nullable = true)\n",
      " |-- improvement_surcharge: double (nullable = true)\n",
      " |-- tolls_amount: double (nullable = true)\n",
      " |-- trip_distance: double (nullable = true)\n",
      " |-- pickup_datetime: timestamp_ntz (nullable = true)\n",
      " |-- PULocationID: integer (nullable = true)\n",
      " |-- RatecodeID: long (nullable = true)\n",
      " |-- VendorID: integer (nullable = true)\n",
      " |-- extra: double (nullable = true)\n",
      " |-- passenger_count: long (nullable = true)\n",
      " |-- fare_amount: double (nullable = true)\n",
      " |-- trip_duration: long (nullable = true)\n",
      " |-- trip_speed_mph: double (nullable = true)\n",
      " |-- Vendor: string (nullable = false)\n",
      " |-- RateCode: string (nullable = false)\n",
      " |-- PaymentType: string (nullable = false)\n",
      " |-- PUBorough: string (nullable = true)\n",
      " |-- PUZone: string (nullable = true)\n",
      " |-- PU_service_zone: string (nullable = true)\n",
      " |-- DOBorough: string (nullable = true)\n",
      " |-- DOZone: string (nullable = true)\n",
      " |-- DO_service_zone: string (nullable = true)\n",
      " |-- pickup_hour: integer (nullable = true)\n",
      " |-- pickup_period: string (nullable = false)\n",
      " |-- day_of_week_name: string (nullable = true)\n",
      " |-- is_weekend: boolean (nullable = true)\n",
      " |-- trip_length_category: string (nullable = false)\n",
      " |-- IsWeekendText: string (nullable = false)\n",
      " |-- fare_per_mile: double (nullable = true)\n",
      " |-- fare_per_minute: double (nullable = true)\n",
      " |-- tip_ratio: double (nullable = true)\n",
      " |-- trip_efficiency: double (nullable = true)\n",
      " |-- is_airport_trip: boolean (nullable = true)\n",
      " |-- is_suspicious: boolean (nullable = true)\n",
      "\n"
     ]
    }
   ],
   "source": [
    "df.printSchema()"
   ]
  },
  {
   "cell_type": "code",
   "execution_count": 21,
   "id": "67598faa-d12f-445d-8c13-6ecc62f654a5",
   "metadata": {
    "scrolled": true
   },
   "outputs": [
    {
     "name": "stderr",
     "output_type": "stream",
     "text": [
      "25/07/20 17:38:38 WARN SparkStringUtils: Truncated the string representation of a plan since it was too large. This behavior can be adjusted by setting 'spark.sql.debug.maxToStringFields'.\n",
      "                                                                                \r"
     ]
    }
   ],
   "source": [
    "after_cleaning=df.count()\n"
   ]
  },
  {
   "cell_type": "code",
   "execution_count": 22,
   "id": "b8bc2622-97fb-4abd-965f-3b794d15ab89",
   "metadata": {},
   "outputs": [
    {
     "name": "stdout",
     "output_type": "stream",
     "text": [
      "88.79204283101774\n"
     ]
    }
   ],
   "source": [
    "print((after_cleaning / before_cleaning)*100 )"
   ]
  },
  {
   "cell_type": "code",
   "execution_count": 23,
   "id": "3e1f1158-a147-4edd-94b8-2b65d308bb0d",
   "metadata": {},
   "outputs": [],
   "source": [
    "#===============================================================================================================\n",
    "#===============================================================================================================\n",
    "#===============================================================================================================\n",
    "#====================================== Modeling ===============================================================\n",
    "#===============================================================================================================\n",
    "#===============================================================================================================\n",
    "#===============================================================================================================\n",
    "#===============================================================================================================\n",
    "#==============================================================================================================="
   ]
  },
  {
   "cell_type": "code",
   "execution_count": 24,
   "id": "9d3ab8ca-4234-4c02-9ef7-452cdd57b125",
   "metadata": {
    "scrolled": true
   },
   "outputs": [],
   "source": [
    "dim_vendor = df.select(\"VendorID\", \"Vendor\").dropDuplicates()"
   ]
  },
  {
   "cell_type": "code",
   "execution_count": 25,
   "id": "8689dc46-df2b-4e3b-b737-f581c64c2d05",
   "metadata": {},
   "outputs": [],
   "source": [
    "dim_rate_code = df.select(\"RatecodeID\", \"RateCode\").dropDuplicates()"
   ]
  },
  {
   "cell_type": "code",
   "execution_count": 26,
   "id": "5cecca32-31b6-4e4e-8e4b-e284e4bd1f46",
   "metadata": {},
   "outputs": [],
   "source": [
    "dim_payment_type = df.select(\"payment_type\", \"PaymentType\").dropDuplicates()"
   ]
  },
  {
   "cell_type": "code",
   "execution_count": 27,
   "id": "3b231fc0-0ff1-4ad4-914d-f076d51ab104",
   "metadata": {},
   "outputs": [],
   "source": [
    "dim_pickup_location = df.select(\n",
    "    col(\"PULocationID\"),\n",
    "    col(\"PUBorough\"),\n",
    "    col(\"PUZone\"),\n",
    "    col(\"PU_service_zone\")\n",
    ").dropDuplicates()\n"
   ]
  },
  {
   "cell_type": "code",
   "execution_count": 28,
   "id": "c3ca6444-8226-4ee3-82f6-76f2c603e522",
   "metadata": {
    "scrolled": true
   },
   "outputs": [],
   "source": [
    "dim_dropoff_location = df.select(\n",
    "    col(\"DOLocationID\"),\n",
    "    col(\"DOBorough\"),\n",
    "    col(\"DOZone\"),\n",
    "    col(\"DO_service_zone\")\n",
    ").dropDuplicates()\n"
   ]
  },
  {
   "cell_type": "code",
   "execution_count": 29,
   "id": "3ed09051-80f9-422a-9ed2-8fa6fe998ff7",
   "metadata": {},
   "outputs": [],
   "source": [
    "dim_time = df.select(\n",
    "    col(\"pickup_datetime\").alias(\"pickup_datetime\"),\n",
    "    year(\"pickup_datetime\").alias(\"year\"),\n",
    "    month(\"pickup_datetime\").alias(\"month\"),\n",
    "    dayofmonth(\"pickup_datetime\").alias(\"day\"),\n",
    "    hour(\"pickup_datetime\").alias(\"hour\"),\n",
    "    col(\"pickup_hour\"),\n",
    "    col(\"pickup_period\"),\n",
    "    col(\"day_of_week_name\"),\n",
    "    col(\"is_weekend\"),\n",
    "    col(\"IsWeekendText\")\n",
    ").dropDuplicates()\n",
    "\n",
    "dim_time = dim_time.withColumn(\"time_id\", monotonically_increasing_id())"
   ]
  },
  {
   "cell_type": "code",
   "execution_count": 30,
   "id": "82ac73b8-e531-4e19-8edb-ae7160cc5330",
   "metadata": {},
   "outputs": [],
   "source": [
    "dim_trip_category = df.select(\n",
    "    \"trip_length_category\",\n",
    "    \"is_airport_trip\",\n",
    "    \"is_suspicious\"\n",
    ").dropDuplicates().withColumn(\"trip_category_id\", monotonically_increasing_id())\n"
   ]
  },
  {
   "cell_type": "code",
   "execution_count": null,
   "id": "999a5abb-c4b9-4419-91dd-965ee06084af",
   "metadata": {},
   "outputs": [],
   "source": []
  },
  {
   "cell_type": "code",
   "execution_count": 31,
   "id": "357c8f2b-b478-4ae2-9b1c-50ebfbdb52d9",
   "metadata": {},
   "outputs": [],
   "source": [
    "fact_trips = df.select(\n",
    "    \"pickup_datetime\", \"dropoff_datetime\", \"trip_distance\", \"trip_duration\", \"trip_speed_mph\", \n",
    "    \"trip_efficiency\", \"fare_amount\", \"tip_amount\", \"tolls_amount\", \"total_amount\", \"passenger_count\",\n",
    "    \"fare_per_mile\", \"fare_per_minute\", \"congestion_surcharge\", \"mta_tax\", \"extra\", \"improvement_surcharge\",\n",
    "    \"RatecodeID\", \"VendorID\", \"payment_type\", \"PULocationID\", \"DOLocationID\",\n",
    "    \n",
    "    # المهمين للربط\n",
    "    \"trip_length_category\", \"is_airport_trip\", \"is_suspicious\"\n",
    ")\n",
    "fact_trips = fact_trips.withColumn(\"trip_id\", monotonically_increasing_id())\n",
    "\n",
    "\n"
   ]
  },
  {
   "cell_type": "code",
   "execution_count": 32,
   "id": "65bf3b84-7299-4170-aa08-c581eaddcc68",
   "metadata": {},
   "outputs": [
    {
     "name": "stdout",
     "output_type": "stream",
     "text": [
      "root\n",
      " |-- pickup_datetime: timestamp_ntz (nullable = true)\n",
      " |-- dropoff_datetime: timestamp_ntz (nullable = true)\n",
      " |-- trip_distance: double (nullable = true)\n",
      " |-- trip_duration: long (nullable = true)\n",
      " |-- trip_speed_mph: double (nullable = true)\n",
      " |-- trip_efficiency: double (nullable = true)\n",
      " |-- fare_amount: double (nullable = true)\n",
      " |-- tip_amount: double (nullable = true)\n",
      " |-- tolls_amount: double (nullable = true)\n",
      " |-- total_amount: double (nullable = true)\n",
      " |-- passenger_count: long (nullable = true)\n",
      " |-- fare_per_mile: double (nullable = true)\n",
      " |-- fare_per_minute: double (nullable = true)\n",
      " |-- congestion_surcharge: double (nullable = true)\n",
      " |-- mta_tax: double (nullable = true)\n",
      " |-- extra: double (nullable = true)\n",
      " |-- improvement_surcharge: double (nullable = true)\n",
      " |-- RatecodeID: long (nullable = true)\n",
      " |-- VendorID: integer (nullable = true)\n",
      " |-- payment_type: long (nullable = true)\n",
      " |-- PULocationID: integer (nullable = true)\n",
      " |-- DOLocationID: integer (nullable = true)\n",
      " |-- trip_length_category: string (nullable = false)\n",
      " |-- is_airport_trip: boolean (nullable = true)\n",
      " |-- is_suspicious: boolean (nullable = true)\n",
      " |-- trip_id: long (nullable = false)\n",
      "\n"
     ]
    }
   ],
   "source": [
    "fact_trips.printSchema()"
   ]
  },
  {
   "cell_type": "code",
   "execution_count": 33,
   "id": "fc0a2d86-6ec0-425a-a61b-a88dd87acb4d",
   "metadata": {
    "scrolled": true
   },
   "outputs": [],
   "source": [
    "#============================================== Lookup ==============================================\n",
    "fact_trips = fact_trips.join(\n",
    "    dim_time.select(\"pickup_datetime\", \"time_id\"),\n",
    "    fact_trips.pickup_datetime == dim_time.pickup_datetime,\n",
    "    \"left\"\n",
    ").drop(\"pickup_datetime\")\n",
    "\n",
    "fact_trips = fact_trips.join(\n",
    "    dim_trip_category,\n",
    "    on=[\"trip_length_category\", \"is_airport_trip\", \"is_suspicious\"],\n",
    "    how=\"left\"\n",
    ").drop(\"trip_length_category\", \"is_airport_trip\", \"is_suspicious\")\n"
   ]
  },
  {
   "cell_type": "code",
   "execution_count": 34,
   "id": "0d1f5efa-eba4-46bd-b6c9-54c348096695",
   "metadata": {},
   "outputs": [
    {
     "name": "stdout",
     "output_type": "stream",
     "text": [
      "root\n",
      " |-- dropoff_datetime: timestamp_ntz (nullable = true)\n",
      " |-- trip_distance: double (nullable = true)\n",
      " |-- trip_duration: long (nullable = true)\n",
      " |-- trip_speed_mph: double (nullable = true)\n",
      " |-- trip_efficiency: double (nullable = true)\n",
      " |-- fare_amount: double (nullable = true)\n",
      " |-- tip_amount: double (nullable = true)\n",
      " |-- tolls_amount: double (nullable = true)\n",
      " |-- total_amount: double (nullable = true)\n",
      " |-- passenger_count: long (nullable = true)\n",
      " |-- fare_per_mile: double (nullable = true)\n",
      " |-- fare_per_minute: double (nullable = true)\n",
      " |-- congestion_surcharge: double (nullable = true)\n",
      " |-- mta_tax: double (nullable = true)\n",
      " |-- extra: double (nullable = true)\n",
      " |-- improvement_surcharge: double (nullable = true)\n",
      " |-- RatecodeID: long (nullable = true)\n",
      " |-- VendorID: integer (nullable = true)\n",
      " |-- payment_type: long (nullable = true)\n",
      " |-- PULocationID: integer (nullable = true)\n",
      " |-- DOLocationID: integer (nullable = true)\n",
      " |-- trip_id: long (nullable = false)\n",
      " |-- time_id: long (nullable = true)\n",
      " |-- trip_category_id: long (nullable = true)\n",
      "\n"
     ]
    }
   ],
   "source": [
    "fact_trips.printSchema()"
   ]
  },
  {
   "cell_type": "code",
   "execution_count": null,
   "id": "39949aaf-a587-423d-a4dd-72277638477d",
   "metadata": {},
   "outputs": [
    {
     "name": "stdout",
     "output_type": "stream",
     "text": [
      "=================================== DOLocationID ============================== \n"
     ]
    },
    {
     "name": "stderr",
     "output_type": "stream",
     "text": [
      "                                                                                \r"
     ]
    },
    {
     "name": "stdout",
     "output_type": "stream",
     "text": [
      "+----------+\n",
      "|null_count|\n",
      "+----------+\n",
      "|         0|\n",
      "+----------+\n",
      "\n",
      "=================================== congestion_surcharge ============================== \n"
     ]
    },
    {
     "name": "stderr",
     "output_type": "stream",
     "text": [
      "                                                                                \r"
     ]
    },
    {
     "name": "stdout",
     "output_type": "stream",
     "text": [
      "+----------+\n",
      "|null_count|\n",
      "+----------+\n",
      "|         0|\n",
      "+----------+\n",
      "\n",
      "=================================== dropoff_datetime ============================== \n"
     ]
    },
    {
     "name": "stderr",
     "output_type": "stream",
     "text": [
      "                                                                                \r"
     ]
    },
    {
     "name": "stdout",
     "output_type": "stream",
     "text": [
      "+----------+\n",
      "|null_count|\n",
      "+----------+\n",
      "|         0|\n",
      "+----------+\n",
      "\n",
      "=================================== taxi_type ============================== \n"
     ]
    },
    {
     "name": "stderr",
     "output_type": "stream",
     "text": [
      "                                                                                \r"
     ]
    },
    {
     "name": "stdout",
     "output_type": "stream",
     "text": [
      "+----------+\n",
      "|null_count|\n",
      "+----------+\n",
      "|         0|\n",
      "+----------+\n",
      "\n",
      "=================================== total_amount ============================== \n"
     ]
    },
    {
     "name": "stderr",
     "output_type": "stream",
     "text": [
      "                                                                                \r"
     ]
    },
    {
     "name": "stdout",
     "output_type": "stream",
     "text": [
      "+----------+\n",
      "|null_count|\n",
      "+----------+\n",
      "|         0|\n",
      "+----------+\n",
      "\n",
      "=================================== mta_tax ============================== \n"
     ]
    },
    {
     "name": "stderr",
     "output_type": "stream",
     "text": [
      "                                                                                \r"
     ]
    },
    {
     "name": "stdout",
     "output_type": "stream",
     "text": [
      "+----------+\n",
      "|null_count|\n",
      "+----------+\n",
      "|         0|\n",
      "+----------+\n",
      "\n",
      "=================================== payment_type ============================== \n"
     ]
    },
    {
     "name": "stderr",
     "output_type": "stream",
     "text": [
      "                                                                                \r"
     ]
    },
    {
     "name": "stdout",
     "output_type": "stream",
     "text": [
      "+----------+\n",
      "|null_count|\n",
      "+----------+\n",
      "|         0|\n",
      "+----------+\n",
      "\n",
      "=================================== tip_amount ============================== \n"
     ]
    },
    {
     "name": "stderr",
     "output_type": "stream",
     "text": [
      "                                                                                \r"
     ]
    },
    {
     "name": "stdout",
     "output_type": "stream",
     "text": [
      "+----------+\n",
      "|null_count|\n",
      "+----------+\n",
      "|         0|\n",
      "+----------+\n",
      "\n",
      "=================================== improvement_surcharge ============================== \n"
     ]
    },
    {
     "name": "stderr",
     "output_type": "stream",
     "text": [
      "                                                                                \r"
     ]
    },
    {
     "name": "stdout",
     "output_type": "stream",
     "text": [
      "+----------+\n",
      "|null_count|\n",
      "+----------+\n",
      "|         0|\n",
      "+----------+\n",
      "\n",
      "=================================== tolls_amount ============================== \n"
     ]
    },
    {
     "name": "stderr",
     "output_type": "stream",
     "text": [
      "                                                                                \r"
     ]
    },
    {
     "name": "stdout",
     "output_type": "stream",
     "text": [
      "+----------+\n",
      "|null_count|\n",
      "+----------+\n",
      "|         0|\n",
      "+----------+\n",
      "\n",
      "=================================== trip_distance ============================== \n"
     ]
    },
    {
     "name": "stderr",
     "output_type": "stream",
     "text": [
      "                                                                                \r"
     ]
    },
    {
     "name": "stdout",
     "output_type": "stream",
     "text": [
      "+----------+\n",
      "|null_count|\n",
      "+----------+\n",
      "|         0|\n",
      "+----------+\n",
      "\n",
      "=================================== pickup_datetime ============================== \n"
     ]
    },
    {
     "name": "stderr",
     "output_type": "stream",
     "text": [
      "                                                                                \r"
     ]
    },
    {
     "name": "stdout",
     "output_type": "stream",
     "text": [
      "+----------+\n",
      "|null_count|\n",
      "+----------+\n",
      "|         0|\n",
      "+----------+\n",
      "\n",
      "=================================== PULocationID ============================== \n"
     ]
    },
    {
     "name": "stderr",
     "output_type": "stream",
     "text": [
      "                                                                                \r"
     ]
    },
    {
     "name": "stdout",
     "output_type": "stream",
     "text": [
      "+----------+\n",
      "|null_count|\n",
      "+----------+\n",
      "|         0|\n",
      "+----------+\n",
      "\n",
      "=================================== RatecodeID ============================== \n"
     ]
    },
    {
     "name": "stderr",
     "output_type": "stream",
     "text": [
      "                                                                                \r"
     ]
    },
    {
     "name": "stdout",
     "output_type": "stream",
     "text": [
      "+----------+\n",
      "|null_count|\n",
      "+----------+\n",
      "|         0|\n",
      "+----------+\n",
      "\n",
      "=================================== VendorID ============================== \n"
     ]
    },
    {
     "name": "stderr",
     "output_type": "stream",
     "text": [
      "                                                                                \r"
     ]
    },
    {
     "name": "stdout",
     "output_type": "stream",
     "text": [
      "+----------+\n",
      "|null_count|\n",
      "+----------+\n",
      "|         0|\n",
      "+----------+\n",
      "\n",
      "=================================== extra ============================== \n"
     ]
    },
    {
     "name": "stderr",
     "output_type": "stream",
     "text": [
      "                                                                                \r"
     ]
    },
    {
     "name": "stdout",
     "output_type": "stream",
     "text": [
      "+----------+\n",
      "|null_count|\n",
      "+----------+\n",
      "|         0|\n",
      "+----------+\n",
      "\n",
      "=================================== passenger_count ============================== \n"
     ]
    },
    {
     "name": "stderr",
     "output_type": "stream",
     "text": [
      "                                                                                \r"
     ]
    },
    {
     "name": "stdout",
     "output_type": "stream",
     "text": [
      "+----------+\n",
      "|null_count|\n",
      "+----------+\n",
      "|         0|\n",
      "+----------+\n",
      "\n",
      "=================================== fare_amount ============================== \n"
     ]
    },
    {
     "name": "stderr",
     "output_type": "stream",
     "text": [
      "                                                                                \r"
     ]
    },
    {
     "name": "stdout",
     "output_type": "stream",
     "text": [
      "+----------+\n",
      "|null_count|\n",
      "+----------+\n",
      "|         0|\n",
      "+----------+\n",
      "\n",
      "=================================== trip_duration ============================== \n"
     ]
    },
    {
     "name": "stderr",
     "output_type": "stream",
     "text": [
      "                                                                                \r"
     ]
    },
    {
     "name": "stdout",
     "output_type": "stream",
     "text": [
      "+----------+\n",
      "|null_count|\n",
      "+----------+\n",
      "|         0|\n",
      "+----------+\n",
      "\n",
      "=================================== trip_speed_mph ============================== \n"
     ]
    },
    {
     "name": "stderr",
     "output_type": "stream",
     "text": [
      "                                                                                \r"
     ]
    },
    {
     "name": "stdout",
     "output_type": "stream",
     "text": [
      "+----------+\n",
      "|null_count|\n",
      "+----------+\n",
      "|         0|\n",
      "+----------+\n",
      "\n",
      "=================================== Vendor ============================== \n"
     ]
    },
    {
     "name": "stderr",
     "output_type": "stream",
     "text": [
      "                                                                                \r"
     ]
    },
    {
     "name": "stdout",
     "output_type": "stream",
     "text": [
      "+----------+\n",
      "|null_count|\n",
      "+----------+\n",
      "|         0|\n",
      "+----------+\n",
      "\n",
      "=================================== RateCode ============================== \n"
     ]
    },
    {
     "name": "stderr",
     "output_type": "stream",
     "text": [
      "                                                                                \r"
     ]
    },
    {
     "name": "stdout",
     "output_type": "stream",
     "text": [
      "+----------+\n",
      "|null_count|\n",
      "+----------+\n",
      "|         0|\n",
      "+----------+\n",
      "\n",
      "=================================== PaymentType ============================== \n"
     ]
    },
    {
     "name": "stderr",
     "output_type": "stream",
     "text": [
      "                                                                                \r"
     ]
    },
    {
     "name": "stdout",
     "output_type": "stream",
     "text": [
      "+----------+\n",
      "|null_count|\n",
      "+----------+\n",
      "|         0|\n",
      "+----------+\n",
      "\n",
      "=================================== PUBorough ============================== \n"
     ]
    },
    {
     "name": "stderr",
     "output_type": "stream",
     "text": [
      "                                                                                \r"
     ]
    },
    {
     "name": "stdout",
     "output_type": "stream",
     "text": [
      "+----------+\n",
      "|null_count|\n",
      "+----------+\n",
      "|         0|\n",
      "+----------+\n",
      "\n",
      "=================================== PUZone ============================== \n"
     ]
    },
    {
     "name": "stderr",
     "output_type": "stream",
     "text": [
      "                                                                                \r"
     ]
    },
    {
     "name": "stdout",
     "output_type": "stream",
     "text": [
      "+----------+\n",
      "|null_count|\n",
      "+----------+\n",
      "|         0|\n",
      "+----------+\n",
      "\n",
      "=================================== PU_service_zone ============================== \n"
     ]
    },
    {
     "name": "stderr",
     "output_type": "stream",
     "text": [
      "                                                                                \r"
     ]
    },
    {
     "name": "stdout",
     "output_type": "stream",
     "text": [
      "+----------+\n",
      "|null_count|\n",
      "+----------+\n",
      "|         0|\n",
      "+----------+\n",
      "\n",
      "=================================== DOBorough ============================== \n"
     ]
    },
    {
     "name": "stderr",
     "output_type": "stream",
     "text": [
      "                                                                                \r"
     ]
    },
    {
     "name": "stdout",
     "output_type": "stream",
     "text": [
      "+----------+\n",
      "|null_count|\n",
      "+----------+\n",
      "|         0|\n",
      "+----------+\n",
      "\n",
      "=================================== DOZone ============================== \n"
     ]
    },
    {
     "name": "stderr",
     "output_type": "stream",
     "text": [
      "                                                                                \r"
     ]
    },
    {
     "name": "stdout",
     "output_type": "stream",
     "text": [
      "+----------+\n",
      "|null_count|\n",
      "+----------+\n",
      "|         0|\n",
      "+----------+\n",
      "\n",
      "=================================== DO_service_zone ============================== \n"
     ]
    },
    {
     "name": "stderr",
     "output_type": "stream",
     "text": [
      "                                                                                \r"
     ]
    },
    {
     "name": "stdout",
     "output_type": "stream",
     "text": [
      "+----------+\n",
      "|null_count|\n",
      "+----------+\n",
      "|         0|\n",
      "+----------+\n",
      "\n",
      "=================================== pickup_hour ============================== \n"
     ]
    },
    {
     "name": "stderr",
     "output_type": "stream",
     "text": [
      "                                                                                \r"
     ]
    },
    {
     "name": "stdout",
     "output_type": "stream",
     "text": [
      "+----------+\n",
      "|null_count|\n",
      "+----------+\n",
      "|         0|\n",
      "+----------+\n",
      "\n",
      "=================================== pickup_period ============================== \n"
     ]
    },
    {
     "name": "stderr",
     "output_type": "stream",
     "text": [
      "                                                                                \r"
     ]
    },
    {
     "name": "stdout",
     "output_type": "stream",
     "text": [
      "+----------+\n",
      "|null_count|\n",
      "+----------+\n",
      "|         0|\n",
      "+----------+\n",
      "\n",
      "=================================== day_of_week_name ============================== \n"
     ]
    },
    {
     "name": "stderr",
     "output_type": "stream",
     "text": [
      "                                                                                \r"
     ]
    },
    {
     "name": "stdout",
     "output_type": "stream",
     "text": [
      "+----------+\n",
      "|null_count|\n",
      "+----------+\n",
      "|         0|\n",
      "+----------+\n",
      "\n",
      "=================================== is_weekend ============================== \n"
     ]
    },
    {
     "name": "stderr",
     "output_type": "stream",
     "text": [
      "                                                                                \r"
     ]
    },
    {
     "name": "stdout",
     "output_type": "stream",
     "text": [
      "+----------+\n",
      "|null_count|\n",
      "+----------+\n",
      "|         0|\n",
      "+----------+\n",
      "\n",
      "=================================== trip_length_category ============================== \n"
     ]
    },
    {
     "name": "stderr",
     "output_type": "stream",
     "text": [
      "                                                                                \r"
     ]
    }
   ],
   "source": [
    "for i in df.columns :\n",
    "    print(f\"=================================== {i} ============================== \")\n",
    "    df.select(\n",
    "        sum(when(col(i).isNull(), 1).otherwise(0)).alias(\"null_count\")\n",
    "    ).show()"
   ]
  },
  {
   "cell_type": "code",
   "execution_count": null,
   "id": "b9005b4f-90f5-4aab-a351-b7d42063600a",
   "metadata": {},
   "outputs": [],
   "source": []
  },
  {
   "cell_type": "code",
   "execution_count": null,
   "id": "6409c733-c8de-452b-98c9-8fd9672d8040",
   "metadata": {
    "scrolled": true
   },
   "outputs": [],
   "source": []
  }
 ],
 "metadata": {
  "kernelspec": {
   "display_name": "Python 3 (ipykernel)",
   "language": "python",
   "name": "python3"
  },
  "language_info": {
   "codemirror_mode": {
    "name": "ipython",
    "version": 3
   },
   "file_extension": ".py",
   "mimetype": "text/x-python",
   "name": "python",
   "nbconvert_exporter": "python",
   "pygments_lexer": "ipython3",
   "version": "3.12.7"
  }
 },
 "nbformat": 4,
 "nbformat_minor": 5
}

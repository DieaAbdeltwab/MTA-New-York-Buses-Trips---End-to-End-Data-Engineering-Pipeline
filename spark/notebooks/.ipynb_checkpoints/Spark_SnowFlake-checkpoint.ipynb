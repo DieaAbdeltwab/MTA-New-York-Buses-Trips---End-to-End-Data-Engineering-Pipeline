{
 "cells": [
  {
   "cell_type": "code",
   "execution_count": 2,
   "id": "9a893fb4-78e8-4d76-9630-f393cbbefd04",
   "metadata": {},
   "outputs": [],
   "source": [
    "from pyspark.sql import SparkSession\n"
   ]
  },
  {
   "cell_type": "code",
   "execution_count": 10,
   "id": "dd1f1c64-6092-4283-a470-99c42bb21a2c",
   "metadata": {},
   "outputs": [],
   "source": [
    "spark = SparkSession.builder \\\n",
    "    .appName(\"snowflake-test\") \\\n",
    "    .config(\"spark.jars.packages\", \n",
    "            \"net.snowflake:spark-snowflake_2.12:2.9.0-spark_3.2,net.snowflake:snowflake-jdbc:3.13.31\") \\\n",
    "    .getOrCreate()"
   ]
  },
  {
   "cell_type": "code",
   "execution_count": null,
   "id": "dff5459e-f75f-4fee-9155-dace47b6aa19",
   "metadata": {},
   "outputs": [],
   "source": [
    "\n"
   ]
  },
  {
   "cell_type": "code",
   "execution_count": 9,
   "id": "04653937-24e2-46e3-9735-bd5e237e6415",
   "metadata": {},
   "outputs": [
    {
     "name": "stdout",
     "output_type": "stream",
     "text": [
      "+---+----------+------+\n",
      "| ID|      NAME| PRICE|\n",
      "+---+----------+------+\n",
      "|  1|    Laptop|999.99|\n",
      "|  2|     Phone|499.49|\n",
      "|  3|Headphones|149.99|\n",
      "+---+----------+------+\n",
      "\n"
     ]
    }
   ],
   "source": [
    "sfOptions = {\n",
    "  \"sfURL\" : \"AKGEMQF-VN65042.snowflakecomputing.com\",\n",
    "  \"sfUser\" : \"LOL\",\n",
    "  \"sfPassword\" : \"A123456789a123\",\n",
    "  \"sfDatabase\" : \"DEMO_DB\",\n",
    "  \"sfSchema\" : \"PUBLIC\",\n",
    "  \"sfWarehouse\" : \"COMPUTE_WH\",\n",
    "  \"sfRole\": \"ACCOUNTADMIN\"\n",
    "}\n",
    "\n",
    "df = spark.read \\\n",
    "    .format(\"snowflake\") \\\n",
    "    .options(**sfOptions) \\\n",
    "    .option(\"dbtable\", \"PRODUCTS\") \\\n",
    "    .load()\n",
    "\n",
    "df.show()\n"
   ]
  },
  {
   "cell_type": "code",
   "execution_count": 13,
   "id": "159f7286-12ee-4cbf-8483-0b7fe96770d6",
   "metadata": {},
   "outputs": [
    {
     "name": "stderr",
     "output_type": "stream",
     "text": [
      "                                                                                "
     ]
    }
   ],
   "source": [
    "from pyspark.sql import Row\n",
    "\n",
    "# ➊ نجهز DataFrame في Spark\n",
    "data = [\n",
    "    Row(ID=10, NAME=\"Tablet\", PRICE=299.99),\n",
    "    Row(ID=11, NAME=\"Monitor\", PRICE=199.49),\n",
    "    Row(ID=12, NAME=\"Keyboard\", PRICE=49.99)\n",
    "]\n",
    "new_df = spark.createDataFrame(data)\n",
    "\n",
    "# ➋ نكتب الجدول في Snowflake (هيكريت الجدول ويكتب فيه)\n",
    "new_df.write \\\n",
    "    .format(\"snowflake\") \\\n",
    "    .options(**sfOptions) \\\n",
    "    .option(\"dbtable\", \"PRODUCTS_NEW\") \\\n",
    "    .mode(\"overwrite\") \\\n",
    "    .save()\n"
   ]
  },
  {
   "cell_type": "code",
   "execution_count": 14,
   "id": "11a46bf5-46d7-4a71-8baa-2cbd5f24214e",
   "metadata": {},
   "outputs": [
    {
     "name": "stdout",
     "output_type": "stream",
     "text": [
      "+---+--------+------+\n",
      "| ID|    NAME| PRICE|\n",
      "+---+--------+------+\n",
      "| 11| Monitor|199.49|\n",
      "| 12|Keyboard| 49.99|\n",
      "| 10|  Tablet|299.99|\n",
      "+---+--------+------+\n",
      "\n"
     ]
    }
   ],
   "source": [
    "df_check = spark.read \\\n",
    "    .format(\"snowflake\") \\\n",
    "    .options(**sfOptions) \\\n",
    "    .option(\"dbtable\", \"PRODUCTS_NEW\") \\\n",
    "    .load()\n",
    "\n",
    "df_check.show()\n"
   ]
  }
 ],
 "metadata": {
  "kernelspec": {
   "display_name": "Python 3 (ipykernel)",
   "language": "python",
   "name": "python3"
  },
  "language_info": {
   "codemirror_mode": {
    "name": "ipython",
    "version": 3
   },
   "file_extension": ".py",
   "mimetype": "text/x-python",
   "name": "python",
   "nbconvert_exporter": "python",
   "pygments_lexer": "ipython3",
   "version": "3.11.8"
  }
 },
 "nbformat": 4,
 "nbformat_minor": 5
}
